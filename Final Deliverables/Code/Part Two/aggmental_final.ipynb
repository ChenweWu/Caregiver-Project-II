{
 "cells": [
  {
   "cell_type": "code",
   "execution_count": 1,
   "metadata": {
    "colab": {},
    "colab_type": "code",
    "id": "GNaKE6JXsAVm"
   },
   "outputs": [
    {
     "name": "stderr",
     "output_type": "stream",
     "text": [
      "Using TensorFlow backend.\n"
     ]
    }
   ],
   "source": [
    "import numpy as np\n",
    "import pandas as pd\n",
    "from matplotlib import pyplot as plt\n",
    "from collections import Counter\n",
    "import imblearn\n",
    "from sklearn.metrics import confusion_matrix\n",
    "from sklearn.metrics import plot_confusion_matrix\n",
    "from sklearn.datasets import make_classification\n",
    "from sklearn.linear_model import LogisticRegression\n",
    "from sklearn.model_selection import train_test_split\n",
    "from sklearn.metrics import precision_recall_curve\n",
    "from sklearn.metrics import f1_score\n",
    "from sklearn.metrics import auc\n",
    "from sklearn.model_selection import GridSearchCV\n",
    "from sklearn.ensemble import RandomForestClassifier\n",
    "from sklearn.model_selection import cross_validate\n",
    "from matplotlib import pyplot"
   ]
  },
  {
   "cell_type": "markdown",
   "metadata": {},
   "source": [
    "# data exploratory "
   ]
  },
  {
   "cell_type": "code",
   "execution_count": 2,
   "metadata": {
    "colab": {},
    "colab_type": "code",
    "id": "jqd3Hz_PtOBX"
   },
   "outputs": [],
   "source": [
    "raw = pd.read_csv('cgfinal414.csv')"
   ]
  },
  {
   "cell_type": "code",
   "execution_count": 3,
   "metadata": {
    "colab": {},
    "colab_type": "code",
    "id": "O_BOEYNNtPiS"
   },
   "outputs": [],
   "source": [
    "raw = raw.drop(columns='id')"
   ]
  },
  {
   "cell_type": "code",
   "execution_count": 4,
   "metadata": {},
   "outputs": [
    {
     "data": {
      "text/plain": [
       "<matplotlib.axes._subplots.AxesSubplot at 0x1854b3eea08>"
      ]
     },
     "execution_count": 4,
     "metadata": {},
     "output_type": "execute_result"
    },
    {
     "data": {
      "image/png": "[encoded data removed]",
      "text/plain": [
       "<Figure size 720x504 with 1 Axes>"
      ]
     },
     "metadata": {
      "needs_background": "light"
     },
     "output_type": "display_data"
    }
   ],
   "source": [
    "raw['AGG_MENT'].hist(figsize=(10, 7))"
   ]
  },
  {
   "cell_type": "code",
   "execution_count": 5,
   "metadata": {
    "colab": {},
    "colab_type": "code",
    "id": "z_2QO2jbwSpc"
   },
   "outputs": [],
   "source": [
    "raw1 = raw.dropna()"
   ]
  },
  {
   "cell_type": "code",
   "execution_count": 6,
   "metadata": {},
   "outputs": [
    {
     "data": {
      "text/html": [
       "<div>\n",
       "<style scoped>\n",
       "    .dataframe tbody tr th:only-of-type {\n",
       "        vertical-align: middle;\n",
       "    }\n",
       "\n",
       "    .dataframe tbody tr th {\n",
       "        vertical-align: top;\n",
       "    }\n",
       "\n",
       "    .dataframe thead th {\n",
       "        text-align: right;\n",
       "    }\n",
       "</style>\n",
       "<table border=\"1\" class=\"dataframe\">\n",
       "  <thead>\n",
       "    <tr style=\"text-align: right;\">\n",
       "      <th></th>\n",
       "      <th>StudyArm</th>\n",
       "      <th>Age</th>\n",
       "      <th>Gender</th>\n",
       "      <th>gradecat</th>\n",
       "      <th>incomecat</th>\n",
       "      <th>racecat</th>\n",
       "      <th>Living</th>\n",
       "      <th>relationship_cat</th>\n",
       "      <th>GI_Lung</th>\n",
       "      <th>TTC3</th>\n",
       "      <th>...</th>\n",
       "      <th>ImpairedCom</th>\n",
       "      <th>psychological</th>\n",
       "      <th>ImpairedMS</th>\n",
       "      <th>calcimpairedCom</th>\n",
       "      <th>cgdistress</th>\n",
       "      <th>cggad7</th>\n",
       "      <th>cgphq2</th>\n",
       "      <th>SF12total</th>\n",
       "      <th>AGG_PHYS</th>\n",
       "      <th>AGG_MENT</th>\n",
       "    </tr>\n",
       "  </thead>\n",
       "  <tbody>\n",
       "    <tr>\n",
       "      <td>6</td>\n",
       "      <td>GA</td>\n",
       "      <td>68.0</td>\n",
       "      <td>0.0</td>\n",
       "      <td>3.0</td>\n",
       "      <td>3.0</td>\n",
       "      <td>1.0</td>\n",
       "      <td>1.0</td>\n",
       "      <td>1.0</td>\n",
       "      <td>3.0</td>\n",
       "      <td>2.0</td>\n",
       "      <td>...</td>\n",
       "      <td>1</td>\n",
       "      <td>0</td>\n",
       "      <td>0</td>\n",
       "      <td>0.0</td>\n",
       "      <td>1.0</td>\n",
       "      <td>1.0</td>\n",
       "      <td>0.0</td>\n",
       "      <td>106.520496</td>\n",
       "      <td>59.635147</td>\n",
       "      <td>46.885349</td>\n",
       "    </tr>\n",
       "    <tr>\n",
       "      <td>7</td>\n",
       "      <td>GA</td>\n",
       "      <td>69.0</td>\n",
       "      <td>0.0</td>\n",
       "      <td>3.0</td>\n",
       "      <td>3.0</td>\n",
       "      <td>1.0</td>\n",
       "      <td>2.0</td>\n",
       "      <td>1.0</td>\n",
       "      <td>1.0</td>\n",
       "      <td>2.0</td>\n",
       "      <td>...</td>\n",
       "      <td>1</td>\n",
       "      <td>0</td>\n",
       "      <td>0</td>\n",
       "      <td>1.0</td>\n",
       "      <td>0.0</td>\n",
       "      <td>0.0</td>\n",
       "      <td>0.0</td>\n",
       "      <td>105.107170</td>\n",
       "      <td>45.895807</td>\n",
       "      <td>59.211363</td>\n",
       "    </tr>\n",
       "    <tr>\n",
       "      <td>8</td>\n",
       "      <td>GA</td>\n",
       "      <td>57.0</td>\n",
       "      <td>0.0</td>\n",
       "      <td>2.0</td>\n",
       "      <td>3.0</td>\n",
       "      <td>1.0</td>\n",
       "      <td>2.0</td>\n",
       "      <td>3.0</td>\n",
       "      <td>1.0</td>\n",
       "      <td>2.0</td>\n",
       "      <td>...</td>\n",
       "      <td>0</td>\n",
       "      <td>0</td>\n",
       "      <td>0</td>\n",
       "      <td>0.0</td>\n",
       "      <td>0.0</td>\n",
       "      <td>0.0</td>\n",
       "      <td>0.0</td>\n",
       "      <td>105.878769</td>\n",
       "      <td>55.328368</td>\n",
       "      <td>50.550400</td>\n",
       "    </tr>\n",
       "    <tr>\n",
       "      <td>10</td>\n",
       "      <td>GA</td>\n",
       "      <td>71.0</td>\n",
       "      <td>0.0</td>\n",
       "      <td>3.0</td>\n",
       "      <td>2.0</td>\n",
       "      <td>1.0</td>\n",
       "      <td>2.0</td>\n",
       "      <td>1.0</td>\n",
       "      <td>1.0</td>\n",
       "      <td>1.0</td>\n",
       "      <td>...</td>\n",
       "      <td>1</td>\n",
       "      <td>0</td>\n",
       "      <td>0</td>\n",
       "      <td>1.0</td>\n",
       "      <td>1.0</td>\n",
       "      <td>0.0</td>\n",
       "      <td>0.0</td>\n",
       "      <td>110.634352</td>\n",
       "      <td>51.428792</td>\n",
       "      <td>59.205560</td>\n",
       "    </tr>\n",
       "    <tr>\n",
       "      <td>11</td>\n",
       "      <td>Control</td>\n",
       "      <td>52.0</td>\n",
       "      <td>0.0</td>\n",
       "      <td>2.0</td>\n",
       "      <td>1.0</td>\n",
       "      <td>1.0</td>\n",
       "      <td>2.0</td>\n",
       "      <td>1.0</td>\n",
       "      <td>2.0</td>\n",
       "      <td>2.0</td>\n",
       "      <td>...</td>\n",
       "      <td>1</td>\n",
       "      <td>1</td>\n",
       "      <td>0</td>\n",
       "      <td>0.0</td>\n",
       "      <td>1.0</td>\n",
       "      <td>1.0</td>\n",
       "      <td>0.0</td>\n",
       "      <td>104.744417</td>\n",
       "      <td>53.829841</td>\n",
       "      <td>50.914576</td>\n",
       "    </tr>\n",
       "    <tr>\n",
       "      <td>...</td>\n",
       "      <td>...</td>\n",
       "      <td>...</td>\n",
       "      <td>...</td>\n",
       "      <td>...</td>\n",
       "      <td>...</td>\n",
       "      <td>...</td>\n",
       "      <td>...</td>\n",
       "      <td>...</td>\n",
       "      <td>...</td>\n",
       "      <td>...</td>\n",
       "      <td>...</td>\n",
       "      <td>...</td>\n",
       "      <td>...</td>\n",
       "      <td>...</td>\n",
       "      <td>...</td>\n",
       "      <td>...</td>\n",
       "      <td>...</td>\n",
       "      <td>...</td>\n",
       "      <td>...</td>\n",
       "      <td>...</td>\n",
       "      <td>...</td>\n",
       "    </tr>\n",
       "    <tr>\n",
       "      <td>409</td>\n",
       "      <td>GA</td>\n",
       "      <td>75.0</td>\n",
       "      <td>1.0</td>\n",
       "      <td>3.0</td>\n",
       "      <td>2.0</td>\n",
       "      <td>1.0</td>\n",
       "      <td>1.0</td>\n",
       "      <td>1.0</td>\n",
       "      <td>2.0</td>\n",
       "      <td>2.0</td>\n",
       "      <td>...</td>\n",
       "      <td>1</td>\n",
       "      <td>1</td>\n",
       "      <td>0</td>\n",
       "      <td>1.0</td>\n",
       "      <td>1.0</td>\n",
       "      <td>0.0</td>\n",
       "      <td>0.0</td>\n",
       "      <td>102.702713</td>\n",
       "      <td>58.715992</td>\n",
       "      <td>43.986721</td>\n",
       "    </tr>\n",
       "    <tr>\n",
       "      <td>410</td>\n",
       "      <td>GA</td>\n",
       "      <td>71.0</td>\n",
       "      <td>0.0</td>\n",
       "      <td>3.0</td>\n",
       "      <td>2.0</td>\n",
       "      <td>1.0</td>\n",
       "      <td>1.0</td>\n",
       "      <td>1.0</td>\n",
       "      <td>3.0</td>\n",
       "      <td>2.0</td>\n",
       "      <td>...</td>\n",
       "      <td>0</td>\n",
       "      <td>0</td>\n",
       "      <td>0</td>\n",
       "      <td>0.0</td>\n",
       "      <td>1.0</td>\n",
       "      <td>1.0</td>\n",
       "      <td>0.0</td>\n",
       "      <td>87.114771</td>\n",
       "      <td>33.603316</td>\n",
       "      <td>53.511456</td>\n",
       "    </tr>\n",
       "    <tr>\n",
       "      <td>411</td>\n",
       "      <td>GA</td>\n",
       "      <td>75.0</td>\n",
       "      <td>0.0</td>\n",
       "      <td>2.0</td>\n",
       "      <td>2.0</td>\n",
       "      <td>1.0</td>\n",
       "      <td>2.0</td>\n",
       "      <td>1.0</td>\n",
       "      <td>1.0</td>\n",
       "      <td>2.0</td>\n",
       "      <td>...</td>\n",
       "      <td>1</td>\n",
       "      <td>0</td>\n",
       "      <td>0</td>\n",
       "      <td>1.0</td>\n",
       "      <td>1.0</td>\n",
       "      <td>1.0</td>\n",
       "      <td>1.0</td>\n",
       "      <td>55.783994</td>\n",
       "      <td>15.928499</td>\n",
       "      <td>39.855495</td>\n",
       "    </tr>\n",
       "    <tr>\n",
       "      <td>412</td>\n",
       "      <td>GA</td>\n",
       "      <td>67.0</td>\n",
       "      <td>0.0</td>\n",
       "      <td>2.0</td>\n",
       "      <td>2.0</td>\n",
       "      <td>1.0</td>\n",
       "      <td>1.0</td>\n",
       "      <td>1.0</td>\n",
       "      <td>2.0</td>\n",
       "      <td>2.0</td>\n",
       "      <td>...</td>\n",
       "      <td>1</td>\n",
       "      <td>1</td>\n",
       "      <td>0</td>\n",
       "      <td>1.0</td>\n",
       "      <td>0.0</td>\n",
       "      <td>1.0</td>\n",
       "      <td>0.0</td>\n",
       "      <td>95.192964</td>\n",
       "      <td>47.181300</td>\n",
       "      <td>48.011665</td>\n",
       "    </tr>\n",
       "    <tr>\n",
       "      <td>413</td>\n",
       "      <td>Control</td>\n",
       "      <td>75.0</td>\n",
       "      <td>0.0</td>\n",
       "      <td>3.0</td>\n",
       "      <td>1.0</td>\n",
       "      <td>1.0</td>\n",
       "      <td>2.0</td>\n",
       "      <td>1.0</td>\n",
       "      <td>1.0</td>\n",
       "      <td>2.0</td>\n",
       "      <td>...</td>\n",
       "      <td>1</td>\n",
       "      <td>0</td>\n",
       "      <td>0</td>\n",
       "      <td>0.0</td>\n",
       "      <td>0.0</td>\n",
       "      <td>0.0</td>\n",
       "      <td>0.0</td>\n",
       "      <td>112.300939</td>\n",
       "      <td>55.070839</td>\n",
       "      <td>57.230100</td>\n",
       "    </tr>\n",
       "  </tbody>\n",
       "</table>\n",
       "<p>380 rows × 31 columns</p>\n",
       "</div>"
      ],
      "text/plain": [
       "    StudyArm   Age  Gender  gradecat  incomecat  racecat  Living  \\\n",
       "6         GA  68.0     0.0       3.0        3.0      1.0     1.0   \n",
       "7         GA  69.0     0.0       3.0        3.0      1.0     2.0   \n",
       "8         GA  57.0     0.0       2.0        3.0      1.0     2.0   \n",
       "10        GA  71.0     0.0       3.0        2.0      1.0     2.0   \n",
       "11   Control  52.0     0.0       2.0        1.0      1.0     2.0   \n",
       "..       ...   ...     ...       ...        ...      ...     ...   \n",
       "409       GA  75.0     1.0       3.0        2.0      1.0     1.0   \n",
       "410       GA  71.0     0.0       3.0        2.0      1.0     1.0   \n",
       "411       GA  75.0     0.0       2.0        2.0      1.0     2.0   \n",
       "412       GA  67.0     0.0       2.0        2.0      1.0     1.0   \n",
       "413  Control  75.0     0.0       3.0        1.0      1.0     2.0   \n",
       "\n",
       "     relationship_cat  GI_Lung  TTC3  ...  ImpairedCom  psychological  \\\n",
       "6                 1.0      3.0   2.0  ...            1              0   \n",
       "7                 1.0      1.0   2.0  ...            1              0   \n",
       "8                 3.0      1.0   2.0  ...            0              0   \n",
       "10                1.0      1.0   1.0  ...            1              0   \n",
       "11                1.0      2.0   2.0  ...            1              1   \n",
       "..                ...      ...   ...  ...          ...            ...   \n",
       "409               1.0      2.0   2.0  ...            1              1   \n",
       "410               1.0      3.0   2.0  ...            0              0   \n",
       "411               1.0      1.0   2.0  ...            1              0   \n",
       "412               1.0      2.0   2.0  ...            1              1   \n",
       "413               1.0      1.0   2.0  ...            1              0   \n",
       "\n",
       "     ImpairedMS  calcimpairedCom  cgdistress  cggad7  cgphq2   SF12total  \\\n",
       "6             0              0.0         1.0     1.0     0.0  106.520496   \n",
       "7             0              1.0         0.0     0.0     0.0  105.107170   \n",
       "8             0              0.0         0.0     0.0     0.0  105.878769   \n",
       "10            0              1.0         1.0     0.0     0.0  110.634352   \n",
       "11            0              0.0         1.0     1.0     0.0  104.744417   \n",
       "..          ...              ...         ...     ...     ...         ...   \n",
       "409           0              1.0         1.0     0.0     0.0  102.702713   \n",
       "410           0              0.0         1.0     1.0     0.0   87.114771   \n",
       "411           0              1.0         1.0     1.0     1.0   55.783994   \n",
       "412           0              1.0         0.0     1.0     0.0   95.192964   \n",
       "413           0              0.0         0.0     0.0     0.0  112.300939   \n",
       "\n",
       "      AGG_PHYS   AGG_MENT  \n",
       "6    59.635147  46.885349  \n",
       "7    45.895807  59.211363  \n",
       "8    55.328368  50.550400  \n",
       "10   51.428792  59.205560  \n",
       "11   53.829841  50.914576  \n",
       "..         ...        ...  \n",
       "409  58.715992  43.986721  \n",
       "410  33.603316  53.511456  \n",
       "411  15.928499  39.855495  \n",
       "412  47.181300  48.011665  \n",
       "413  55.070839  57.230100  \n",
       "\n",
       "[380 rows x 31 columns]"
      ]
     },
     "execution_count": 6,
     "metadata": {},
     "output_type": "execute_result"
    }
   ],
   "source": [
    "raw1"
   ]
  },
  {
   "cell_type": "code",
   "execution_count": 7,
   "metadata": {
    "colab": {},
    "colab_type": "code",
    "id": "olta3KdowZ5y"
   },
   "outputs": [],
   "source": [
    "df_cgd=raw1"
   ]
  },
  {
   "cell_type": "markdown",
   "metadata": {},
   "source": [
    "# one-hot encoding "
   ]
  },
  {
   "cell_type": "code",
   "execution_count": 8,
   "metadata": {
    "colab": {
     "base_uri": "https://localhost:8080/",
     "height": 439
    },
    "colab_type": "code",
    "id": "qpoNEIqhwb6p",
    "outputId": "6316d8ad-77f6-4e0e-d0b5-f43028e1a58d"
   },
   "outputs": [],
   "source": [
    "\n",
    "one_hot = pd.get_dummies(raw1['StudyArm'])\n",
    "# Drop column as it is now encoded\n",
    "df_cgd = df_cgd.drop('StudyArm',axis = 1)\n",
    "# Join the encoded df\n",
    "df_cgd = df_cgd.join(one_hot)\n",
    "\n",
    "one_hot = pd.get_dummies(df_cgd['incomecat'],prefix='incomecat')\n",
    "df_cgd = df_cgd.drop('incomecat',axis = 1)\n",
    "# Join the encoded df\n",
    "df_cgd = df_cgd.join(one_hot)\n",
    "df_cgd = df_cgd.drop('incomecat_3.0',axis = 1)\n",
    "one_hot = pd.get_dummies(df_cgd['gradecat'],prefix='gradecat')\n",
    "df_cgd = df_cgd.drop('gradecat',axis = 1)\n",
    "# Join the encoded df\n",
    "df_cgd = df_cgd.join(one_hot)\n",
    "\n",
    "df_cgd = df_cgd.drop('gradecat_3.0',axis = 1)\n",
    "one_hot = pd.get_dummies(df_cgd['relationship_cat'],prefix='relationship_cat')\n",
    "df_cgd = df_cgd.drop('relationship_cat',axis = 1)\n",
    "# Join the encoded df\n",
    "df_cgd = df_cgd.join(one_hot)\n",
    "\n",
    "df_cgd = df_cgd.drop('relationship_cat_3.0',axis = 1)\n",
    "one_hot = pd.get_dummies(df_cgd['racecat'],prefix='race_cat')\n",
    "df_cgd = df_cgd.drop('racecat',axis = 1)\n",
    "# Join the encoded df\n",
    "df_cgd = df_cgd.join(one_hot)\n",
    "\n",
    "df_cgd = df_cgd.drop('race_cat_3.0',axis = 1)\n",
    "one_hot = pd.get_dummies(df_cgd['TTC3'],prefix='TTC3')\n",
    "df_cgd = df_cgd.drop('TTC3',axis = 1)\n",
    "# Join the encoded df\n",
    "df_cgd = df_cgd.join(one_hot)\n",
    "\n",
    "df_cgd = df_cgd.drop('TTC3_3.0',axis = 1)\n",
    "one_hot = pd.get_dummies(df_cgd['GI_Lung'],prefix='GI_Lung')\n",
    "df_cgd = df_cgd.drop('GI_Lung',axis = 1)\n",
    "# Join the encoded df\n",
    "df_cgd = df_cgd.join(one_hot)\n",
    "\n",
    "df_cgd = df_cgd.drop('GI_Lung_3.0',axis = 1)"
   ]
  },
  {
   "cell_type": "code",
   "execution_count": 9,
   "metadata": {},
   "outputs": [],
   "source": [
    "raw1=df_cgd"
   ]
  },
  {
   "cell_type": "code",
   "execution_count": 10,
   "metadata": {},
   "outputs": [
    {
     "data": {
      "text/html": [
       "<div>\n",
       "<style scoped>\n",
       "    .dataframe tbody tr th:only-of-type {\n",
       "        vertical-align: middle;\n",
       "    }\n",
       "\n",
       "    .dataframe tbody tr th {\n",
       "        vertical-align: top;\n",
       "    }\n",
       "\n",
       "    .dataframe thead th {\n",
       "        text-align: right;\n",
       "    }\n",
       "</style>\n",
       "<table border=\"1\" class=\"dataframe\">\n",
       "  <thead>\n",
       "    <tr style=\"text-align: right;\">\n",
       "      <th></th>\n",
       "      <th>Age</th>\n",
       "      <th>Gender</th>\n",
       "      <th>Living</th>\n",
       "      <th>TTC5</th>\n",
       "      <th>TTC6a</th>\n",
       "      <th>TTC6b</th>\n",
       "      <th>TTC6c</th>\n",
       "      <th>TTC6d</th>\n",
       "      <th>distress</th>\n",
       "      <th>ImpairedPolypharmacy</th>\n",
       "      <th>...</th>\n",
       "      <th>gradecat_1.0</th>\n",
       "      <th>gradecat_2.0</th>\n",
       "      <th>relationship_cat_1.0</th>\n",
       "      <th>relationship_cat_2.0</th>\n",
       "      <th>race_cat_1.0</th>\n",
       "      <th>race_cat_2.0</th>\n",
       "      <th>TTC3_1.0</th>\n",
       "      <th>TTC3_2.0</th>\n",
       "      <th>GI_Lung_1.0</th>\n",
       "      <th>GI_Lung_2.0</th>\n",
       "    </tr>\n",
       "  </thead>\n",
       "  <tbody>\n",
       "    <tr>\n",
       "      <td>6</td>\n",
       "      <td>68.0</td>\n",
       "      <td>0.0</td>\n",
       "      <td>1.0</td>\n",
       "      <td>0.0</td>\n",
       "      <td>0.0</td>\n",
       "      <td>0.0</td>\n",
       "      <td>1.0</td>\n",
       "      <td>0.0</td>\n",
       "      <td>0.0</td>\n",
       "      <td>1</td>\n",
       "      <td>...</td>\n",
       "      <td>0</td>\n",
       "      <td>0</td>\n",
       "      <td>1</td>\n",
       "      <td>0</td>\n",
       "      <td>1</td>\n",
       "      <td>0</td>\n",
       "      <td>0</td>\n",
       "      <td>1</td>\n",
       "      <td>0</td>\n",
       "      <td>0</td>\n",
       "    </tr>\n",
       "    <tr>\n",
       "      <td>7</td>\n",
       "      <td>69.0</td>\n",
       "      <td>0.0</td>\n",
       "      <td>2.0</td>\n",
       "      <td>0.0</td>\n",
       "      <td>0.0</td>\n",
       "      <td>0.0</td>\n",
       "      <td>1.0</td>\n",
       "      <td>0.0</td>\n",
       "      <td>0.0</td>\n",
       "      <td>1</td>\n",
       "      <td>...</td>\n",
       "      <td>0</td>\n",
       "      <td>0</td>\n",
       "      <td>1</td>\n",
       "      <td>0</td>\n",
       "      <td>1</td>\n",
       "      <td>0</td>\n",
       "      <td>0</td>\n",
       "      <td>1</td>\n",
       "      <td>1</td>\n",
       "      <td>0</td>\n",
       "    </tr>\n",
       "    <tr>\n",
       "      <td>8</td>\n",
       "      <td>57.0</td>\n",
       "      <td>0.0</td>\n",
       "      <td>2.0</td>\n",
       "      <td>1.0</td>\n",
       "      <td>0.0</td>\n",
       "      <td>0.0</td>\n",
       "      <td>0.0</td>\n",
       "      <td>0.0</td>\n",
       "      <td>0.0</td>\n",
       "      <td>1</td>\n",
       "      <td>...</td>\n",
       "      <td>0</td>\n",
       "      <td>1</td>\n",
       "      <td>0</td>\n",
       "      <td>0</td>\n",
       "      <td>1</td>\n",
       "      <td>0</td>\n",
       "      <td>0</td>\n",
       "      <td>1</td>\n",
       "      <td>1</td>\n",
       "      <td>0</td>\n",
       "    </tr>\n",
       "    <tr>\n",
       "      <td>10</td>\n",
       "      <td>71.0</td>\n",
       "      <td>0.0</td>\n",
       "      <td>2.0</td>\n",
       "      <td>1.0</td>\n",
       "      <td>0.0</td>\n",
       "      <td>0.0</td>\n",
       "      <td>1.0</td>\n",
       "      <td>0.0</td>\n",
       "      <td>1.0</td>\n",
       "      <td>1</td>\n",
       "      <td>...</td>\n",
       "      <td>0</td>\n",
       "      <td>0</td>\n",
       "      <td>1</td>\n",
       "      <td>0</td>\n",
       "      <td>1</td>\n",
       "      <td>0</td>\n",
       "      <td>1</td>\n",
       "      <td>0</td>\n",
       "      <td>1</td>\n",
       "      <td>0</td>\n",
       "    </tr>\n",
       "    <tr>\n",
       "      <td>11</td>\n",
       "      <td>52.0</td>\n",
       "      <td>0.0</td>\n",
       "      <td>2.0</td>\n",
       "      <td>1.0</td>\n",
       "      <td>0.0</td>\n",
       "      <td>0.0</td>\n",
       "      <td>0.0</td>\n",
       "      <td>0.0</td>\n",
       "      <td>1.0</td>\n",
       "      <td>0</td>\n",
       "      <td>...</td>\n",
       "      <td>0</td>\n",
       "      <td>1</td>\n",
       "      <td>1</td>\n",
       "      <td>0</td>\n",
       "      <td>1</td>\n",
       "      <td>0</td>\n",
       "      <td>0</td>\n",
       "      <td>1</td>\n",
       "      <td>0</td>\n",
       "      <td>1</td>\n",
       "    </tr>\n",
       "    <tr>\n",
       "      <td>...</td>\n",
       "      <td>...</td>\n",
       "      <td>...</td>\n",
       "      <td>...</td>\n",
       "      <td>...</td>\n",
       "      <td>...</td>\n",
       "      <td>...</td>\n",
       "      <td>...</td>\n",
       "      <td>...</td>\n",
       "      <td>...</td>\n",
       "      <td>...</td>\n",
       "      <td>...</td>\n",
       "      <td>...</td>\n",
       "      <td>...</td>\n",
       "      <td>...</td>\n",
       "      <td>...</td>\n",
       "      <td>...</td>\n",
       "      <td>...</td>\n",
       "      <td>...</td>\n",
       "      <td>...</td>\n",
       "      <td>...</td>\n",
       "      <td>...</td>\n",
       "    </tr>\n",
       "    <tr>\n",
       "      <td>409</td>\n",
       "      <td>75.0</td>\n",
       "      <td>1.0</td>\n",
       "      <td>1.0</td>\n",
       "      <td>1.0</td>\n",
       "      <td>0.0</td>\n",
       "      <td>0.0</td>\n",
       "      <td>0.0</td>\n",
       "      <td>0.0</td>\n",
       "      <td>0.0</td>\n",
       "      <td>1</td>\n",
       "      <td>...</td>\n",
       "      <td>0</td>\n",
       "      <td>0</td>\n",
       "      <td>1</td>\n",
       "      <td>0</td>\n",
       "      <td>1</td>\n",
       "      <td>0</td>\n",
       "      <td>0</td>\n",
       "      <td>1</td>\n",
       "      <td>0</td>\n",
       "      <td>1</td>\n",
       "    </tr>\n",
       "    <tr>\n",
       "      <td>410</td>\n",
       "      <td>71.0</td>\n",
       "      <td>0.0</td>\n",
       "      <td>1.0</td>\n",
       "      <td>1.0</td>\n",
       "      <td>0.0</td>\n",
       "      <td>0.0</td>\n",
       "      <td>0.0</td>\n",
       "      <td>0.0</td>\n",
       "      <td>1.0</td>\n",
       "      <td>0</td>\n",
       "      <td>...</td>\n",
       "      <td>0</td>\n",
       "      <td>0</td>\n",
       "      <td>1</td>\n",
       "      <td>0</td>\n",
       "      <td>1</td>\n",
       "      <td>0</td>\n",
       "      <td>0</td>\n",
       "      <td>1</td>\n",
       "      <td>0</td>\n",
       "      <td>0</td>\n",
       "    </tr>\n",
       "    <tr>\n",
       "      <td>411</td>\n",
       "      <td>75.0</td>\n",
       "      <td>0.0</td>\n",
       "      <td>2.0</td>\n",
       "      <td>1.0</td>\n",
       "      <td>0.0</td>\n",
       "      <td>0.0</td>\n",
       "      <td>0.0</td>\n",
       "      <td>0.0</td>\n",
       "      <td>0.0</td>\n",
       "      <td>1</td>\n",
       "      <td>...</td>\n",
       "      <td>0</td>\n",
       "      <td>1</td>\n",
       "      <td>1</td>\n",
       "      <td>0</td>\n",
       "      <td>1</td>\n",
       "      <td>0</td>\n",
       "      <td>0</td>\n",
       "      <td>1</td>\n",
       "      <td>1</td>\n",
       "      <td>0</td>\n",
       "    </tr>\n",
       "    <tr>\n",
       "      <td>412</td>\n",
       "      <td>67.0</td>\n",
       "      <td>0.0</td>\n",
       "      <td>1.0</td>\n",
       "      <td>1.0</td>\n",
       "      <td>0.0</td>\n",
       "      <td>0.0</td>\n",
       "      <td>0.0</td>\n",
       "      <td>0.0</td>\n",
       "      <td>1.0</td>\n",
       "      <td>1</td>\n",
       "      <td>...</td>\n",
       "      <td>0</td>\n",
       "      <td>1</td>\n",
       "      <td>1</td>\n",
       "      <td>0</td>\n",
       "      <td>1</td>\n",
       "      <td>0</td>\n",
       "      <td>0</td>\n",
       "      <td>1</td>\n",
       "      <td>0</td>\n",
       "      <td>1</td>\n",
       "    </tr>\n",
       "    <tr>\n",
       "      <td>413</td>\n",
       "      <td>75.0</td>\n",
       "      <td>0.0</td>\n",
       "      <td>2.0</td>\n",
       "      <td>1.0</td>\n",
       "      <td>1.0</td>\n",
       "      <td>0.0</td>\n",
       "      <td>0.0</td>\n",
       "      <td>0.0</td>\n",
       "      <td>0.0</td>\n",
       "      <td>1</td>\n",
       "      <td>...</td>\n",
       "      <td>0</td>\n",
       "      <td>0</td>\n",
       "      <td>1</td>\n",
       "      <td>0</td>\n",
       "      <td>1</td>\n",
       "      <td>0</td>\n",
       "      <td>0</td>\n",
       "      <td>1</td>\n",
       "      <td>1</td>\n",
       "      <td>0</td>\n",
       "    </tr>\n",
       "  </tbody>\n",
       "</table>\n",
       "<p>380 rows × 38 columns</p>\n",
       "</div>"
      ],
      "text/plain": [
       "      Age  Gender  Living  TTC5  TTC6a  TTC6b  TTC6c  TTC6d  distress  \\\n",
       "6    68.0     0.0     1.0   0.0    0.0    0.0    1.0    0.0       0.0   \n",
       "7    69.0     0.0     2.0   0.0    0.0    0.0    1.0    0.0       0.0   \n",
       "8    57.0     0.0     2.0   1.0    0.0    0.0    0.0    0.0       0.0   \n",
       "10   71.0     0.0     2.0   1.0    0.0    0.0    1.0    0.0       1.0   \n",
       "11   52.0     0.0     2.0   1.0    0.0    0.0    0.0    0.0       1.0   \n",
       "..    ...     ...     ...   ...    ...    ...    ...    ...       ...   \n",
       "409  75.0     1.0     1.0   1.0    0.0    0.0    0.0    0.0       0.0   \n",
       "410  71.0     0.0     1.0   1.0    0.0    0.0    0.0    0.0       1.0   \n",
       "411  75.0     0.0     2.0   1.0    0.0    0.0    0.0    0.0       0.0   \n",
       "412  67.0     0.0     1.0   1.0    0.0    0.0    0.0    0.0       1.0   \n",
       "413  75.0     0.0     2.0   1.0    1.0    0.0    0.0    0.0       0.0   \n",
       "\n",
       "     ImpairedPolypharmacy  ...  gradecat_1.0  gradecat_2.0  \\\n",
       "6                       1  ...             0             0   \n",
       "7                       1  ...             0             0   \n",
       "8                       1  ...             0             1   \n",
       "10                      1  ...             0             0   \n",
       "11                      0  ...             0             1   \n",
       "..                    ...  ...           ...           ...   \n",
       "409                     1  ...             0             0   \n",
       "410                     0  ...             0             0   \n",
       "411                     1  ...             0             1   \n",
       "412                     1  ...             0             1   \n",
       "413                     1  ...             0             0   \n",
       "\n",
       "     relationship_cat_1.0  relationship_cat_2.0  race_cat_1.0  race_cat_2.0  \\\n",
       "6                       1                     0             1             0   \n",
       "7                       1                     0             1             0   \n",
       "8                       0                     0             1             0   \n",
       "10                      1                     0             1             0   \n",
       "11                      1                     0             1             0   \n",
       "..                    ...                   ...           ...           ...   \n",
       "409                     1                     0             1             0   \n",
       "410                     1                     0             1             0   \n",
       "411                     1                     0             1             0   \n",
       "412                     1                     0             1             0   \n",
       "413                     1                     0             1             0   \n",
       "\n",
       "     TTC3_1.0  TTC3_2.0  GI_Lung_1.0  GI_Lung_2.0  \n",
       "6           0         1            0            0  \n",
       "7           0         1            1            0  \n",
       "8           0         1            1            0  \n",
       "10          1         0            1            0  \n",
       "11          0         1            0            1  \n",
       "..        ...       ...          ...          ...  \n",
       "409         0         1            0            1  \n",
       "410         0         1            0            0  \n",
       "411         0         1            1            0  \n",
       "412         0         1            0            1  \n",
       "413         0         1            1            0  \n",
       "\n",
       "[380 rows x 38 columns]"
      ]
     },
     "execution_count": 10,
     "metadata": {},
     "output_type": "execute_result"
    }
   ],
   "source": [
    "raw1"
   ]
  },
  {
   "cell_type": "code",
   "execution_count": 11,
   "metadata": {},
   "outputs": [
    {
     "data": {
      "text/plain": [
       "count    380.000000\n",
       "mean      51.042885\n",
       "std        9.880550\n",
       "min       16.156669\n",
       "25%       46.036325\n",
       "50%       54.099347\n",
       "75%       57.993023\n",
       "max       68.397655\n",
       "Name: AGG_MENT, dtype: float64"
      ]
     },
     "execution_count": 11,
     "metadata": {},
     "output_type": "execute_result"
    }
   ],
   "source": [
    "raw1['AGG_MENT'].describe()\n"
   ]
  },
  {
   "cell_type": "code",
   "execution_count": 12,
   "metadata": {},
   "outputs": [
    {
     "data": {
      "text/plain": [
       "(46.036, 68.398]    285\n",
       "(16.156, 46.036]     95\n",
       "Name: AGG_MENT, dtype: int64"
      ]
     },
     "execution_count": 12,
     "metadata": {},
     "output_type": "execute_result"
    }
   ],
   "source": [
    "pd.qcut(raw1['AGG_MENT'],q=[0, .25, 1]).value_counts()"
   ]
  },
  {
   "cell_type": "code",
   "execution_count": 13,
   "metadata": {},
   "outputs": [
    {
     "data": {
      "text/plain": [
       "(42.277, 55.337]    163\n",
       "(55.337, 68.398]    147\n",
       "(29.217, 42.277]     53\n",
       "(16.104, 29.217]     17\n",
       "Name: AGG_MENT, dtype: int64"
      ]
     },
     "execution_count": 13,
     "metadata": {},
     "output_type": "execute_result"
    }
   ],
   "source": [
    "pd.cut(raw1['AGG_MENT'],bins=4).value_counts()"
   ]
  },
  {
   "cell_type": "markdown",
   "metadata": {},
   "source": [
    "# transfer the agg_ment into catagorial(from regression to classification)"
   ]
  },
  {
   "cell_type": "code",
   "execution_count": 14,
   "metadata": {},
   "outputs": [],
   "source": [
    "\n",
    "raw1['AGG_MENT_BIN'] = pd.qcut(raw1['AGG_MENT'],q=[0, .25, 1],labels=[1.0,0.0])"
   ]
  },
  {
   "cell_type": "code",
   "execution_count": 15,
   "metadata": {},
   "outputs": [
    {
     "data": {
      "text/html": [
       "<div>\n",
       "<style scoped>\n",
       "    .dataframe tbody tr th:only-of-type {\n",
       "        vertical-align: middle;\n",
       "    }\n",
       "\n",
       "    .dataframe tbody tr th {\n",
       "        vertical-align: top;\n",
       "    }\n",
       "\n",
       "    .dataframe thead th {\n",
       "        text-align: right;\n",
       "    }\n",
       "</style>\n",
       "<table border=\"1\" class=\"dataframe\">\n",
       "  <thead>\n",
       "    <tr style=\"text-align: right;\">\n",
       "      <th></th>\n",
       "      <th>AGG_MENT</th>\n",
       "      <th>AGG_MENT_BIN</th>\n",
       "    </tr>\n",
       "  </thead>\n",
       "  <tbody>\n",
       "    <tr>\n",
       "      <td>6</td>\n",
       "      <td>46.885349</td>\n",
       "      <td>0.0</td>\n",
       "    </tr>\n",
       "    <tr>\n",
       "      <td>7</td>\n",
       "      <td>59.211363</td>\n",
       "      <td>0.0</td>\n",
       "    </tr>\n",
       "    <tr>\n",
       "      <td>8</td>\n",
       "      <td>50.550400</td>\n",
       "      <td>0.0</td>\n",
       "    </tr>\n",
       "    <tr>\n",
       "      <td>10</td>\n",
       "      <td>59.205560</td>\n",
       "      <td>0.0</td>\n",
       "    </tr>\n",
       "    <tr>\n",
       "      <td>11</td>\n",
       "      <td>50.914576</td>\n",
       "      <td>0.0</td>\n",
       "    </tr>\n",
       "    <tr>\n",
       "      <td>...</td>\n",
       "      <td>...</td>\n",
       "      <td>...</td>\n",
       "    </tr>\n",
       "    <tr>\n",
       "      <td>409</td>\n",
       "      <td>43.986721</td>\n",
       "      <td>1.0</td>\n",
       "    </tr>\n",
       "    <tr>\n",
       "      <td>410</td>\n",
       "      <td>53.511456</td>\n",
       "      <td>0.0</td>\n",
       "    </tr>\n",
       "    <tr>\n",
       "      <td>411</td>\n",
       "      <td>39.855495</td>\n",
       "      <td>1.0</td>\n",
       "    </tr>\n",
       "    <tr>\n",
       "      <td>412</td>\n",
       "      <td>48.011665</td>\n",
       "      <td>0.0</td>\n",
       "    </tr>\n",
       "    <tr>\n",
       "      <td>413</td>\n",
       "      <td>57.230100</td>\n",
       "      <td>0.0</td>\n",
       "    </tr>\n",
       "  </tbody>\n",
       "</table>\n",
       "<p>380 rows × 2 columns</p>\n",
       "</div>"
      ],
      "text/plain": [
       "      AGG_MENT AGG_MENT_BIN\n",
       "6    46.885349          0.0\n",
       "7    59.211363          0.0\n",
       "8    50.550400          0.0\n",
       "10   59.205560          0.0\n",
       "11   50.914576          0.0\n",
       "..         ...          ...\n",
       "409  43.986721          1.0\n",
       "410  53.511456          0.0\n",
       "411  39.855495          1.0\n",
       "412  48.011665          0.0\n",
       "413  57.230100          0.0\n",
       "\n",
       "[380 rows x 2 columns]"
      ]
     },
     "execution_count": 15,
     "metadata": {},
     "output_type": "execute_result"
    }
   ],
   "source": [
    "raw1[['AGG_MENT','AGG_MENT_BIN']]"
   ]
  },
  {
   "cell_type": "code",
   "execution_count": 16,
   "metadata": {},
   "outputs": [
    {
     "data": {
      "text/plain": [
       "6      0.0\n",
       "7      0.0\n",
       "8      0.0\n",
       "10     0.0\n",
       "11     0.0\n",
       "      ... \n",
       "409    0.0\n",
       "410    0.0\n",
       "411    1.0\n",
       "412    0.0\n",
       "413    0.0\n",
       "Name: cgphq2, Length: 380, dtype: float64"
      ]
     },
     "execution_count": 16,
     "metadata": {},
     "output_type": "execute_result"
    }
   ],
   "source": [
    "raw1['cgphq2']"
   ]
  },
  {
   "cell_type": "code",
   "execution_count": 17,
   "metadata": {
    "scrolled": true
   },
   "outputs": [
    {
     "data": {
      "text/plain": [
       "array(['Age', 'Gender', 'Living', 'TTC5', 'TTC6a', 'TTC6b', 'TTC6c',\n",
       "       'TTC6d', 'distress', 'ImpairedPolypharmacy', 'cognition',\n",
       "       'nutrition', 'phy_performance', 'function', 'ImpairedCom',\n",
       "       'psychological', 'ImpairedMS', 'calcimpairedCom', 'cgdistress',\n",
       "       'cggad7', 'cgphq2', 'SF12total', 'AGG_PHYS', 'AGG_MENT', 'Control',\n",
       "       'GA', 'incomecat_1.0', 'incomecat_2.0', 'gradecat_1.0',\n",
       "       'gradecat_2.0', 'relationship_cat_1.0', 'relationship_cat_2.0',\n",
       "       'race_cat_1.0', 'race_cat_2.0', 'TTC3_1.0', 'TTC3_2.0',\n",
       "       'GI_Lung_1.0', 'GI_Lung_2.0', 'AGG_MENT_BIN'], dtype=object)"
      ]
     },
     "execution_count": 17,
     "metadata": {},
     "output_type": "execute_result"
    }
   ],
   "source": [
    "raw1.columns.values"
   ]
  },
  {
   "cell_type": "code",
   "execution_count": 18,
   "metadata": {
    "colab": {},
    "colab_type": "code",
    "id": "o4nE49Jrwmlu"
   },
   "outputs": [],
   "source": [
    "# set X and y variables\n",
    "X = raw1[['Age', 'Gender', 'Living', 'TTC5', 'TTC6a', 'TTC6b', 'TTC6c',\n",
    "       'TTC6d', 'distress', 'ImpairedPolypharmacy', 'cognition',\n",
    "       'nutrition', 'phy_performance', 'function', 'ImpairedCom',\n",
    "       'psychological', 'ImpairedMS', 'calcimpairedCom',  'Control',\n",
    "       'incomecat_1.0', 'incomecat_2.0', 'gradecat_1.0',\n",
    "       'gradecat_2.0', 'relationship_cat_1.0', 'relationship_cat_2.0',\n",
    "       'race_cat_1.0', 'race_cat_2.0', 'TTC3_1.0', 'TTC3_2.0',\n",
    "       'GI_Lung_1.0', 'GI_Lung_2.0']]\n",
    "y = raw1['AGG_MENT_BIN']"
   ]
  },
  {
   "cell_type": "code",
   "execution_count": 19,
   "metadata": {},
   "outputs": [],
   "source": [
    "y = y.astype(float)"
   ]
  },
  {
   "cell_type": "code",
   "execution_count": 20,
   "metadata": {},
   "outputs": [
    {
     "data": {
      "text/plain": [
       "6      0.0\n",
       "7      0.0\n",
       "8      0.0\n",
       "10     0.0\n",
       "11     0.0\n",
       "      ... \n",
       "409    1.0\n",
       "410    0.0\n",
       "411    1.0\n",
       "412    0.0\n",
       "413    0.0\n",
       "Name: AGG_MENT_BIN, Length: 380, dtype: float64"
      ]
     },
     "execution_count": 20,
     "metadata": {},
     "output_type": "execute_result"
    }
   ],
   "source": [
    "y"
   ]
  },
  {
   "cell_type": "markdown",
   "metadata": {},
   "source": [
    "# train test split"
   ]
  },
  {
   "cell_type": "code",
   "execution_count": 23,
   "metadata": {
    "colab": {},
    "colab_type": "code",
    "id": "kiKyE0B4wqjE"
   },
   "outputs": [],
   "source": [
    "from sklearn.model_selection import train_test_split"
   ]
  },
  {
   "cell_type": "code",
   "execution_count": 24,
   "metadata": {
    "colab": {},
    "colab_type": "code",
    "id": "Nl5_vz7kwuf9"
   },
   "outputs": [],
   "source": [
    "X_train, X_test, y_train, y_test = train_test_split(X, y, test_size=0.25, random_state=42,stratify=y)"
   ]
  },
  {
   "cell_type": "code",
   "execution_count": 25,
   "metadata": {},
   "outputs": [
    {
     "name": "stdout",
     "output_type": "stream",
     "text": [
      "[(0.0, 214), (1.0, 71)]\n",
      "[(0.0, 71), (1.0, 24)]\n"
     ]
    }
   ],
   "source": [
    "X_train.shape\n",
    "print(sorted(Counter(y_train).items()))\n",
    "\n",
    "print(sorted(Counter(y_test).items()))"
   ]
  },
  {
   "cell_type": "code",
   "execution_count": 26,
   "metadata": {},
   "outputs": [
    {
     "name": "stdout",
     "output_type": "stream",
     "text": [
      "[(0.0, 214), (1.0, 71)]\n",
      "[(0.0, 71), (1.0, 24)]\n"
     ]
    }
   ],
   "source": [
    "X_train.shape\n",
    "print(sorted(Counter(y_train).items()))\n",
    "\n",
    "print(sorted(Counter(y_test).items()))"
   ]
  },
  {
   "cell_type": "code",
   "execution_count": 27,
   "metadata": {},
   "outputs": [
    {
     "data": {
      "text/plain": [
       "(95, 31)"
      ]
     },
     "execution_count": 27,
     "metadata": {},
     "output_type": "execute_result"
    }
   ],
   "source": [
    "X_test.shape"
   ]
  },
  {
   "cell_type": "code",
   "execution_count": 28,
   "metadata": {},
   "outputs": [
    {
     "data": {
      "text/plain": [
       "(95,)"
      ]
     },
     "execution_count": 28,
     "metadata": {},
     "output_type": "execute_result"
    }
   ],
   "source": [
    "y_test.shape"
   ]
  },
  {
   "cell_type": "code",
   "execution_count": 29,
   "metadata": {},
   "outputs": [
    {
     "data": {
      "text/html": [
       "<div>\n",
       "<style scoped>\n",
       "    .dataframe tbody tr th:only-of-type {\n",
       "        vertical-align: middle;\n",
       "    }\n",
       "\n",
       "    .dataframe tbody tr th {\n",
       "        vertical-align: top;\n",
       "    }\n",
       "\n",
       "    .dataframe thead th {\n",
       "        text-align: right;\n",
       "    }\n",
       "</style>\n",
       "<table border=\"1\" class=\"dataframe\">\n",
       "  <thead>\n",
       "    <tr style=\"text-align: right;\">\n",
       "      <th></th>\n",
       "      <th>Age</th>\n",
       "      <th>Gender</th>\n",
       "      <th>Living</th>\n",
       "      <th>TTC5</th>\n",
       "      <th>TTC6a</th>\n",
       "      <th>TTC6b</th>\n",
       "      <th>TTC6c</th>\n",
       "      <th>TTC6d</th>\n",
       "      <th>distress</th>\n",
       "      <th>ImpairedPolypharmacy</th>\n",
       "      <th>...</th>\n",
       "      <th>gradecat_1.0</th>\n",
       "      <th>gradecat_2.0</th>\n",
       "      <th>relationship_cat_1.0</th>\n",
       "      <th>relationship_cat_2.0</th>\n",
       "      <th>race_cat_1.0</th>\n",
       "      <th>race_cat_2.0</th>\n",
       "      <th>TTC3_1.0</th>\n",
       "      <th>TTC3_2.0</th>\n",
       "      <th>GI_Lung_1.0</th>\n",
       "      <th>GI_Lung_2.0</th>\n",
       "    </tr>\n",
       "  </thead>\n",
       "  <tbody>\n",
       "    <tr>\n",
       "      <td>82</td>\n",
       "      <td>77.0</td>\n",
       "      <td>1.0</td>\n",
       "      <td>1.0</td>\n",
       "      <td>1.0</td>\n",
       "      <td>0.0</td>\n",
       "      <td>0.0</td>\n",
       "      <td>0.0</td>\n",
       "      <td>0.0</td>\n",
       "      <td>0.0</td>\n",
       "      <td>1</td>\n",
       "      <td>...</td>\n",
       "      <td>0</td>\n",
       "      <td>0</td>\n",
       "      <td>1</td>\n",
       "      <td>0</td>\n",
       "      <td>1</td>\n",
       "      <td>0</td>\n",
       "      <td>1</td>\n",
       "      <td>0</td>\n",
       "      <td>0</td>\n",
       "      <td>0</td>\n",
       "    </tr>\n",
       "    <tr>\n",
       "      <td>350</td>\n",
       "      <td>84.0</td>\n",
       "      <td>0.0</td>\n",
       "      <td>1.0</td>\n",
       "      <td>1.0</td>\n",
       "      <td>0.0</td>\n",
       "      <td>0.0</td>\n",
       "      <td>0.0</td>\n",
       "      <td>0.0</td>\n",
       "      <td>0.0</td>\n",
       "      <td>0</td>\n",
       "      <td>...</td>\n",
       "      <td>0</td>\n",
       "      <td>1</td>\n",
       "      <td>1</td>\n",
       "      <td>0</td>\n",
       "      <td>1</td>\n",
       "      <td>0</td>\n",
       "      <td>0</td>\n",
       "      <td>1</td>\n",
       "      <td>0</td>\n",
       "      <td>1</td>\n",
       "    </tr>\n",
       "    <tr>\n",
       "      <td>155</td>\n",
       "      <td>60.0</td>\n",
       "      <td>1.0</td>\n",
       "      <td>2.0</td>\n",
       "      <td>0.0</td>\n",
       "      <td>0.0</td>\n",
       "      <td>0.0</td>\n",
       "      <td>0.0</td>\n",
       "      <td>1.0</td>\n",
       "      <td>0.0</td>\n",
       "      <td>1</td>\n",
       "      <td>...</td>\n",
       "      <td>0</td>\n",
       "      <td>0</td>\n",
       "      <td>0</td>\n",
       "      <td>1</td>\n",
       "      <td>1</td>\n",
       "      <td>0</td>\n",
       "      <td>0</td>\n",
       "      <td>1</td>\n",
       "      <td>0</td>\n",
       "      <td>0</td>\n",
       "    </tr>\n",
       "    <tr>\n",
       "      <td>336</td>\n",
       "      <td>52.0</td>\n",
       "      <td>1.0</td>\n",
       "      <td>2.0</td>\n",
       "      <td>1.0</td>\n",
       "      <td>0.0</td>\n",
       "      <td>0.0</td>\n",
       "      <td>0.0</td>\n",
       "      <td>0.0</td>\n",
       "      <td>1.0</td>\n",
       "      <td>0</td>\n",
       "      <td>...</td>\n",
       "      <td>0</td>\n",
       "      <td>1</td>\n",
       "      <td>0</td>\n",
       "      <td>1</td>\n",
       "      <td>1</td>\n",
       "      <td>0</td>\n",
       "      <td>0</td>\n",
       "      <td>1</td>\n",
       "      <td>0</td>\n",
       "      <td>1</td>\n",
       "    </tr>\n",
       "    <tr>\n",
       "      <td>370</td>\n",
       "      <td>58.0</td>\n",
       "      <td>0.0</td>\n",
       "      <td>1.0</td>\n",
       "      <td>0.0</td>\n",
       "      <td>1.0</td>\n",
       "      <td>0.0</td>\n",
       "      <td>0.0</td>\n",
       "      <td>0.0</td>\n",
       "      <td>0.0</td>\n",
       "      <td>1</td>\n",
       "      <td>...</td>\n",
       "      <td>0</td>\n",
       "      <td>0</td>\n",
       "      <td>1</td>\n",
       "      <td>0</td>\n",
       "      <td>0</td>\n",
       "      <td>1</td>\n",
       "      <td>0</td>\n",
       "      <td>1</td>\n",
       "      <td>0</td>\n",
       "      <td>0</td>\n",
       "    </tr>\n",
       "    <tr>\n",
       "      <td>...</td>\n",
       "      <td>...</td>\n",
       "      <td>...</td>\n",
       "      <td>...</td>\n",
       "      <td>...</td>\n",
       "      <td>...</td>\n",
       "      <td>...</td>\n",
       "      <td>...</td>\n",
       "      <td>...</td>\n",
       "      <td>...</td>\n",
       "      <td>...</td>\n",
       "      <td>...</td>\n",
       "      <td>...</td>\n",
       "      <td>...</td>\n",
       "      <td>...</td>\n",
       "      <td>...</td>\n",
       "      <td>...</td>\n",
       "      <td>...</td>\n",
       "      <td>...</td>\n",
       "      <td>...</td>\n",
       "      <td>...</td>\n",
       "      <td>...</td>\n",
       "    </tr>\n",
       "    <tr>\n",
       "      <td>348</td>\n",
       "      <td>40.0</td>\n",
       "      <td>0.0</td>\n",
       "      <td>2.0</td>\n",
       "      <td>1.0</td>\n",
       "      <td>0.0</td>\n",
       "      <td>0.0</td>\n",
       "      <td>0.0</td>\n",
       "      <td>0.0</td>\n",
       "      <td>1.0</td>\n",
       "      <td>0</td>\n",
       "      <td>...</td>\n",
       "      <td>0</td>\n",
       "      <td>0</td>\n",
       "      <td>0</td>\n",
       "      <td>1</td>\n",
       "      <td>1</td>\n",
       "      <td>0</td>\n",
       "      <td>0</td>\n",
       "      <td>1</td>\n",
       "      <td>1</td>\n",
       "      <td>0</td>\n",
       "    </tr>\n",
       "    <tr>\n",
       "      <td>184</td>\n",
       "      <td>82.0</td>\n",
       "      <td>1.0</td>\n",
       "      <td>1.0</td>\n",
       "      <td>1.0</td>\n",
       "      <td>1.0</td>\n",
       "      <td>0.0</td>\n",
       "      <td>1.0</td>\n",
       "      <td>0.0</td>\n",
       "      <td>1.0</td>\n",
       "      <td>1</td>\n",
       "      <td>...</td>\n",
       "      <td>0</td>\n",
       "      <td>0</td>\n",
       "      <td>1</td>\n",
       "      <td>0</td>\n",
       "      <td>1</td>\n",
       "      <td>0</td>\n",
       "      <td>0</td>\n",
       "      <td>1</td>\n",
       "      <td>0</td>\n",
       "      <td>0</td>\n",
       "    </tr>\n",
       "    <tr>\n",
       "      <td>137</td>\n",
       "      <td>66.0</td>\n",
       "      <td>0.0</td>\n",
       "      <td>2.0</td>\n",
       "      <td>0.0</td>\n",
       "      <td>1.0</td>\n",
       "      <td>0.0</td>\n",
       "      <td>0.0</td>\n",
       "      <td>0.0</td>\n",
       "      <td>0.0</td>\n",
       "      <td>1</td>\n",
       "      <td>...</td>\n",
       "      <td>0</td>\n",
       "      <td>0</td>\n",
       "      <td>1</td>\n",
       "      <td>0</td>\n",
       "      <td>1</td>\n",
       "      <td>0</td>\n",
       "      <td>0</td>\n",
       "      <td>1</td>\n",
       "      <td>0</td>\n",
       "      <td>1</td>\n",
       "    </tr>\n",
       "    <tr>\n",
       "      <td>382</td>\n",
       "      <td>76.0</td>\n",
       "      <td>0.0</td>\n",
       "      <td>2.0</td>\n",
       "      <td>1.0</td>\n",
       "      <td>0.0</td>\n",
       "      <td>0.0</td>\n",
       "      <td>0.0</td>\n",
       "      <td>0.0</td>\n",
       "      <td>0.0</td>\n",
       "      <td>1</td>\n",
       "      <td>...</td>\n",
       "      <td>1</td>\n",
       "      <td>0</td>\n",
       "      <td>1</td>\n",
       "      <td>0</td>\n",
       "      <td>1</td>\n",
       "      <td>0</td>\n",
       "      <td>0</td>\n",
       "      <td>1</td>\n",
       "      <td>0</td>\n",
       "      <td>0</td>\n",
       "    </tr>\n",
       "    <tr>\n",
       "      <td>372</td>\n",
       "      <td>47.0</td>\n",
       "      <td>0.0</td>\n",
       "      <td>1.0</td>\n",
       "      <td>1.0</td>\n",
       "      <td>0.0</td>\n",
       "      <td>0.0</td>\n",
       "      <td>0.0</td>\n",
       "      <td>0.0</td>\n",
       "      <td>1.0</td>\n",
       "      <td>1</td>\n",
       "      <td>...</td>\n",
       "      <td>0</td>\n",
       "      <td>0</td>\n",
       "      <td>0</td>\n",
       "      <td>1</td>\n",
       "      <td>0</td>\n",
       "      <td>1</td>\n",
       "      <td>0</td>\n",
       "      <td>1</td>\n",
       "      <td>1</td>\n",
       "      <td>0</td>\n",
       "    </tr>\n",
       "  </tbody>\n",
       "</table>\n",
       "<p>95 rows × 31 columns</p>\n",
       "</div>"
      ],
      "text/plain": [
       "      Age  Gender  Living  TTC5  TTC6a  TTC6b  TTC6c  TTC6d  distress  \\\n",
       "82   77.0     1.0     1.0   1.0    0.0    0.0    0.0    0.0       0.0   \n",
       "350  84.0     0.0     1.0   1.0    0.0    0.0    0.0    0.0       0.0   \n",
       "155  60.0     1.0     2.0   0.0    0.0    0.0    0.0    1.0       0.0   \n",
       "336  52.0     1.0     2.0   1.0    0.0    0.0    0.0    0.0       1.0   \n",
       "370  58.0     0.0     1.0   0.0    1.0    0.0    0.0    0.0       0.0   \n",
       "..    ...     ...     ...   ...    ...    ...    ...    ...       ...   \n",
       "348  40.0     0.0     2.0   1.0    0.0    0.0    0.0    0.0       1.0   \n",
       "184  82.0     1.0     1.0   1.0    1.0    0.0    1.0    0.0       1.0   \n",
       "137  66.0     0.0     2.0   0.0    1.0    0.0    0.0    0.0       0.0   \n",
       "382  76.0     0.0     2.0   1.0    0.0    0.0    0.0    0.0       0.0   \n",
       "372  47.0     0.0     1.0   1.0    0.0    0.0    0.0    0.0       1.0   \n",
       "\n",
       "     ImpairedPolypharmacy  ...  gradecat_1.0  gradecat_2.0  \\\n",
       "82                      1  ...             0             0   \n",
       "350                     0  ...             0             1   \n",
       "155                     1  ...             0             0   \n",
       "336                     0  ...             0             1   \n",
       "370                     1  ...             0             0   \n",
       "..                    ...  ...           ...           ...   \n",
       "348                     0  ...             0             0   \n",
       "184                     1  ...             0             0   \n",
       "137                     1  ...             0             0   \n",
       "382                     1  ...             1             0   \n",
       "372                     1  ...             0             0   \n",
       "\n",
       "     relationship_cat_1.0  relationship_cat_2.0  race_cat_1.0  race_cat_2.0  \\\n",
       "82                      1                     0             1             0   \n",
       "350                     1                     0             1             0   \n",
       "155                     0                     1             1             0   \n",
       "336                     0                     1             1             0   \n",
       "370                     1                     0             0             1   \n",
       "..                    ...                   ...           ...           ...   \n",
       "348                     0                     1             1             0   \n",
       "184                     1                     0             1             0   \n",
       "137                     1                     0             1             0   \n",
       "382                     1                     0             1             0   \n",
       "372                     0                     1             0             1   \n",
       "\n",
       "     TTC3_1.0  TTC3_2.0  GI_Lung_1.0  GI_Lung_2.0  \n",
       "82          1         0            0            0  \n",
       "350         0         1            0            1  \n",
       "155         0         1            0            0  \n",
       "336         0         1            0            1  \n",
       "370         0         1            0            0  \n",
       "..        ...       ...          ...          ...  \n",
       "348         0         1            1            0  \n",
       "184         0         1            0            0  \n",
       "137         0         1            0            1  \n",
       "382         0         1            0            0  \n",
       "372         0         1            1            0  \n",
       "\n",
       "[95 rows x 31 columns]"
      ]
     },
     "execution_count": 29,
     "metadata": {},
     "output_type": "execute_result"
    }
   ],
   "source": [
    "X_test"
   ]
  },
  {
   "cell_type": "code",
   "execution_count": null,
   "metadata": {},
   "outputs": [],
   "source": [
    "# data shows imbalance "
   ]
  },
  {
   "cell_type": "code",
   "execution_count": 30,
   "metadata": {},
   "outputs": [
    {
     "data": {
      "text/plain": [
       "Text(0.5, 1.0, 'Class Distributions \\n (0: Negative || 1: Positive)')"
      ]
     },
     "execution_count": 30,
     "metadata": {},
     "output_type": "execute_result"
    },
    {
     "data": {
      "image/png": "[encoded data removed]",
      "text/plain": [
       "<Figure size 432x288 with 1 Axes>"
      ]
     },
     "metadata": {
      "needs_background": "light"
     },
     "output_type": "display_data"
    }
   ],
   "source": [
    "import seaborn as sns\n",
    "colors = [\"#0101DF\", \"#DF0101\"]\n",
    "\n",
    "sns.countplot('AGG_MENT_BIN', data=raw1, palette=colors)\n",
    "plt.title('Class Distributions \\n (0: Negative || 1: Positive)', fontsize=14)"
   ]
  },
  {
   "cell_type": "code",
   "execution_count": 21,
   "metadata": {},
   "outputs": [
    {
     "data": {
      "text/plain": [
       "(380,)"
      ]
     },
     "execution_count": 21,
     "metadata": {},
     "output_type": "execute_result"
    }
   ],
   "source": [
    "y.shape"
   ]
  },
  {
   "cell_type": "code",
   "execution_count": 22,
   "metadata": {},
   "outputs": [
    {
     "name": "stdout",
     "output_type": "stream",
     "text": [
      "[(0.0, 285), (1.0, 95)]\n"
     ]
    }
   ],
   "source": [
    "print(sorted(Counter(y).items()))"
   ]
  },
  {
   "cell_type": "code",
   "execution_count": 23,
   "metadata": {},
   "outputs": [
    {
     "name": "stderr",
     "output_type": "stream",
     "text": [
      "C:\\Anaconda3\\lib\\site-packages\\ipykernel_launcher.py:2: SettingWithCopyWarning: \n",
      "A value is trying to be set on a copy of a slice from a DataFrame.\n",
      "Try using .loc[row_indexer,col_indexer] = value instead\n",
      "\n",
      "See the caveats in the documentation: http://pandas.pydata.org/pandas-docs/stable/user_guide/indexing.html#returning-a-view-versus-a-copy\n",
      "  \n"
     ]
    }
   ],
   "source": [
    "raw2=X\n",
    "raw2['AGG_MENT_BIN']=y"
   ]
  },
  {
   "cell_type": "code",
   "execution_count": 24,
   "metadata": {
    "colab": {},
    "colab_type": "code",
    "id": "LYY_w67HwwFB"
   },
   "outputs": [],
   "source": [
    "from imblearn.over_sampling import SMOTE \n",
    "from collections import Counter"
   ]
  },
  {
   "cell_type": "code",
   "execution_count": 25,
   "metadata": {
    "colab": {},
    "colab_type": "code",
    "id": "b7Hx5Ekpwx7V"
   },
   "outputs": [],
   "source": [
    "from imblearn.over_sampling import SMOTE\n",
    "from imblearn.under_sampling import RandomUnderSampler\n",
    "from imblearn.pipeline import Pipeline\n",
    "\n",
    "from imblearn.over_sampling import BorderlineSMOTE\n",
    "from imblearn.over_sampling import SVMSMOTE\n",
    "\n",
    "from imblearn.over_sampling import KMeansSMOTE\n",
    "over = SVMSMOTE(random_state=0)"
   ]
  },
  {
   "cell_type": "code",
   "execution_count": null,
   "metadata": {},
   "outputs": [],
   "source": []
  },
  {
   "cell_type": "code",
   "execution_count": 26,
   "metadata": {},
   "outputs": [],
   "source": [
    "\n",
    "# from imblearn.combine import SMOTETomek\n",
    "# # smote_tomek = SMOTETomek(random_state=0)\n",
    "\n",
    "# X_train3,y_train3= smote_tomek.fit_resample(X,y)\n",
    "\n",
    "# print(sorted(Counter(y_train3).items()))"
   ]
  },
  {
   "cell_type": "code",
   "execution_count": 27,
   "metadata": {},
   "outputs": [
    {
     "data": {
      "text/plain": [
       "(380, 32)"
      ]
     },
     "execution_count": 27,
     "metadata": {},
     "output_type": "execute_result"
    }
   ],
   "source": [
    "X.shape"
   ]
  },
  {
   "cell_type": "code",
   "execution_count": null,
   "metadata": {},
   "outputs": [],
   "source": [
    "# set random state to 42 for consistency "
   ]
  },
  {
   "cell_type": "code",
   "execution_count": 28,
   "metadata": {
    "colab": {
     "base_uri": "https://localhost:8080/",
     "height": 34
    },
    "colab_type": "code",
    "id": "_pR5D4M-w7Jv",
    "outputId": "28a5e473-4bbe-4715-c4ba-aa0863d6b4ae"
   },
   "outputs": [],
   "source": [
    "# from numpy import mean\n",
    "# from sklearn.model_selection import cross_val_score\n",
    "# from sklearn.model_selection import RepeatedStratifiedKFold\n",
    "# from sklearn.tree import DecisionTreeClassifier\n",
    "\n",
    "# # define model\n",
    "# model1 = DecisionTreeClassifier()\n",
    "# # evaluate pipeline\n",
    "# cv = RepeatedStratifiedKFold(n_splits=10, n_repeats=3, random_state=1)\n",
    "# scores = cross_val_score(model1, X_train, y_train, scoring='accuracy', cv=cv, n_jobs=-1)\n",
    "# print('Mean ROC AUC: %.3f' % mean(scores))\n",
    "X = raw1[['Age', 'Gender', 'Living', 'TTC5', 'TTC6a', 'TTC6b', 'TTC6c',\n",
    "       'TTC6d', 'distress', 'ImpairedPolypharmacy', 'cognition',\n",
    "       'nutrition', 'phy_performance', 'function', 'ImpairedCom',\n",
    "       'psychological', 'ImpairedMS', 'calcimpairedCom',  'Control',\n",
    "       'incomecat_1.0', 'incomecat_2.0', 'gradecat_1.0',\n",
    "       'gradecat_2.0', 'relationship_cat_1.0', 'relationship_cat_2.0',\n",
    "       'race_cat_1.0', 'race_cat_2.0', 'TTC3_1.0', 'TTC3_2.0',\n",
    "       'GI_Lung_1.0', 'GI_Lung_2.0']]\n",
    "y = raw1['AGG_MENT_BIN']\n",
    "X_train, X_test, y_train, y_test = train_test_split(X, y, test_size=0.25, random_state=42,stratify=y)#####42"
   ]
  },
  {
   "cell_type": "markdown",
   "metadata": {},
   "source": [
    "# in this variable we skipped the pca process"
   ]
  },
  {
   "cell_type": "markdown",
   "metadata": {},
   "source": [
    "# LogisticRegression\n",
    "### setting lgr as baseline model"
   ]
  },
  {
   "cell_type": "code",
   "execution_count": 35,
   "metadata": {},
   "outputs": [],
   "source": [
    "from sklearn.model_selection import GridSearchCV\n",
    "from imblearn.over_sampling import SMOTE # doctest: +NORMALIZE_WHITESPACE\n",
    "from sklearn.linear_model import LogisticRegression\n",
    "# Create the parameter grid based on the results of random search \n",
    "from imblearn.pipeline import Pipeline\n",
    "modelrf = Pipeline([\n",
    "        ('lgr',  LogisticRegression(random_state=42,class_weight = {0:1,1:(285/95)}))\n",
    "    ])\n",
    "\n",
    "param_grid = {\n",
    "\n",
    "}\n",
    "# Create a based model\n",
    "\n",
    "# Instantiate the grid search model\n",
    "grid_searchlgr = GridSearchCV(estimator = modelrf, param_grid = param_grid,scoring='f1',return_train_score=True,  \n",
    "                          cv = 5, n_jobs = -1)"
   ]
  },
  {
   "cell_type": "code",
   "execution_count": 36,
   "metadata": {},
   "outputs": [
    {
     "name": "stderr",
     "output_type": "stream",
     "text": [
      "C:\\Anaconda3\\lib\\site-packages\\sklearn\\linear_model\\_logistic.py:940: ConvergenceWarning: lbfgs failed to converge (status=1):\n",
      "STOP: TOTAL NO. of ITERATIONS REACHED LIMIT.\n",
      "\n",
      "Increase the number of iterations (max_iter) or scale the data as shown in:\n",
      "    https://scikit-learn.org/stable/modules/preprocessing.html\n",
      "Please also refer to the documentation for alternative solver options:\n",
      "    https://scikit-learn.org/stable/modules/linear_model.html#logistic-regression\n",
      "  extra_warning_msg=_LOGISTIC_SOLVER_CONVERGENCE_MSG)\n"
     ]
    },
    {
     "data": {
      "text/plain": [
       "{}"
      ]
     },
     "execution_count": 36,
     "metadata": {},
     "output_type": "execute_result"
    }
   ],
   "source": [
    "grid_searchlgr.fit(X_train, y_train)\n",
    "grid_searchlgr.best_params_"
   ]
  },
  {
   "cell_type": "code",
   "execution_count": 37,
   "metadata": {},
   "outputs": [
    {
     "data": {
      "text/plain": [
       "0.39152255639097744"
      ]
     },
     "execution_count": 37,
     "metadata": {},
     "output_type": "execute_result"
    }
   ],
   "source": [
    "grid_searchlgr.best_score_"
   ]
  },
  {
   "cell_type": "code",
   "execution_count": 38,
   "metadata": {},
   "outputs": [
    {
     "name": "stdout",
     "output_type": "stream",
     "text": [
      "[[44 27]\n",
      " [16  8]]\n"
     ]
    }
   ],
   "source": [
    "\n",
    "# Visualise classical Confusion M0atrix\n",
    "from sklearn.metrics import confusion_matrix\n",
    "lgrres = grid_searchlgr.predict(X_test)\n",
    "CMlgr = confusion_matrix(y_test, lgrres)\n",
    "print(CMlgr)"
   ]
  },
  {
   "cell_type": "code",
   "execution_count": 39,
   "metadata": {},
   "outputs": [
    {
     "name": "stdout",
     "output_type": "stream",
     "text": [
      "[[37 34]\n",
      " [11 13]]\n"
     ]
    }
   ],
   "source": [
    "# setting threshold\n",
    "# Visualise classical Confusion M0atrix\n",
    "from sklearn.metrics import confusion_matrix\n",
    "lgrres = grid_searchlgr.predict_proba(X_test)\n",
    "lgrres=(lgrres[:,1]>=0.435).astype(int)\n",
    "CMlgr = confusion_matrix(y_test, lgrres)\n",
    "print(CMlgr)"
   ]
  },
  {
   "cell_type": "markdown",
   "metadata": {},
   "source": [
    "# svc"
   ]
  },
  {
   "cell_type": "code",
   "execution_count": 29,
   "metadata": {},
   "outputs": [
    {
     "name": "stdout",
     "output_type": "stream",
     "text": [
      "[0.000244140625, 0.00048828125, 0.0009765625, 0.001953125, 0.00390625, 0.0078125, 0.015625, 0.03125, 0.0625, 0.125, 0.25, 0.5, 1, 2, 4, 8, 16, 32, 64, 128, 256, 512, 1024, 2048]\n"
     ]
    }
   ],
   "source": [
    "#setting the hyperparameters for grid search\n",
    "c=[]\n",
    "for i in range(-12,12):\n",
    "    c.append(2**i)\n",
    "gamma=[]\n",
    "for j in range(-12,12):\n",
    "    gamma.append(2**j)\n",
    "print(c)"
   ]
  },
  {
   "cell_type": "code",
   "execution_count": 30,
   "metadata": {},
   "outputs": [
    {
     "name": "stdout",
     "output_type": "stream",
     "text": [
      "Fitting 5 folds for each of 576 candidates, totalling 2880 fits\n"
     ]
    },
    {
     "name": "stderr",
     "output_type": "stream",
     "text": [
      "[Parallel(n_jobs=-1)]: Using backend LokyBackend with 12 concurrent workers.\n",
      "[Parallel(n_jobs=-1)]: Done  48 tasks      | elapsed:    4.8s\n",
      "[Parallel(n_jobs=-1)]: Done 576 tasks      | elapsed:    6.6s\n",
      "[Parallel(n_jobs=-1)]: Done 1836 tasks      | elapsed:   10.4s\n",
      "[Parallel(n_jobs=-1)]: Done 2880 out of 2880 | elapsed:   14.4s finished\n"
     ]
    },
    {
     "data": {
      "text/plain": [
       "{'svm__C': 0.5, 'svm__gamma': 0.00390625}"
      ]
     },
     "execution_count": 30,
     "metadata": {},
     "output_type": "execute_result"
    }
   ],
   "source": [
    "#class weight set for svc model\n",
    "X_train, X_test, y_train, y_test = train_test_split(X, y, test_size=0.25, random_state=42,stratify=y)#####42\n",
    "from sklearn.svm import SVC\n",
    "modelsvmf1 = Pipeline([\n",
    "        ('svm',  SVC(random_state=42,probability=True,class_weight = {0:1,1:3.4}))\n",
    "    ])\n",
    "\n",
    "\n",
    "# modelsvm = SVC(random_state=42, verbose=2,kernel='rbf')\n",
    "\n",
    "from sklearn.model_selection import GridSearchCV\n",
    "\n",
    "\n",
    "\n",
    "param_gridsvmf1 = {'svm__C': c, \n",
    "\n",
    "              'svm__gamma': gamma}  \n",
    "  \n",
    "\n",
    "\n",
    "svmgridsearchf1 = GridSearchCV(estimator=modelsvmf1, param_grid=param_gridsvmf1, n_jobs=-1, \n",
    "                             cv=5, verbose=5, return_train_score=True,scoring=\"f1\")\n",
    "\n",
    "\n",
    "svmgridsearchf1.fit(X_train, y_train)\n",
    "svmgridsearchf1.best_score_\n",
    "svmgridsearchf1.best_params_"
   ]
  },
  {
   "cell_type": "code",
   "execution_count": 31,
   "metadata": {},
   "outputs": [
    {
     "data": {
      "text/plain": [
       "0.4608147862918752"
      ]
     },
     "execution_count": 31,
     "metadata": {},
     "output_type": "execute_result"
    }
   ],
   "source": [
    "svmgridsearchf1.best_score_"
   ]
  },
  {
   "cell_type": "code",
   "execution_count": 32,
   "metadata": {},
   "outputs": [
    {
     "name": "stdout",
     "output_type": "stream",
     "text": [
      "[[31 40]\n",
      " [ 7 17]]\n"
     ]
    }
   ],
   "source": [
    "# Visualise classical Confusion M0atrix\n",
    "from sklearn.metrics import confusion_matrix\n",
    "rfsmotey = svmgridsearchf1.predict(X_test)\n",
    "CM = confusion_matrix(y_test, rfsmotey)\n",
    "print(CM)"
   ]
  },
  {
   "cell_type": "code",
   "execution_count": 40,
   "metadata": {},
   "outputs": [
    {
     "name": "stdout",
     "output_type": "stream",
     "text": [
      "No Skill: ROC AUC=0.500\n",
      "Logistic: ROC AUC=0.562\n",
      "svm: ROC AUC=0.627\n"
     ]
    },
    {
     "data": {
      "image/png": "[encoded data removed]",
      "text/plain": [
       "<Figure size 432x288 with 1 Axes>"
      ]
     },
     "metadata": {
      "needs_background": "light"
     },
     "output_type": "display_data"
    }
   ],
   "source": [
    "# visualizing roc curve\n",
    "\n",
    "from sklearn.datasets import make_classification\n",
    "from sklearn.linear_model import LogisticRegression\n",
    "from sklearn.model_selection import train_test_split\n",
    "from sklearn.metrics import roc_curve\n",
    "from sklearn.metrics import roc_auc_score\n",
    "from matplotlib import pyplot\n",
    "# generate 2 class dataset\n",
    "ns_probs = [0 for _ in range(len(y_test))]\n",
    "lr_probs = grid_searchlgr.predict_proba(X_test)\n",
    "lr_probssvm = svmgridsearchf1.predict_proba(X_test)\n",
    "\n",
    "# keep probabilities for the positive outcome only\n",
    "lr_probs = lr_probs[:, 1]\n",
    "lr_probssvm = lr_probssvm[:, 1]\n",
    "# calculate scores\n",
    "ns_auc = roc_auc_score(y_test, ns_probs)\n",
    "lr_auc = roc_auc_score(y_test, lr_probs)\n",
    "svm_auc = roc_auc_score(y_test, lr_probssvm)\n",
    "# summarize scores\n",
    "print('No Skill: ROC AUC=%.3f' % (ns_auc))\n",
    "print('Logistic: ROC AUC=%.3f' % (lr_auc))\n",
    "\n",
    "print('svm: ROC AUC=%.3f' % (svm_auc))\n",
    "# calculate roc curves\n",
    "ns_fpr, ns_tpr, _ = roc_curve(y_test, ns_probs)\n",
    "lr_fpr, lr_tpr, _ = roc_curve(y_test, lr_probs)\n",
    "\n",
    "svm_fpr, svm_tpr, _ = roc_curve(y_test, lr_probssvm)\n",
    "# plot the roc curve for the model\n",
    "pyplot.plot(ns_fpr, ns_tpr, linestyle='--', label='No Skill')\n",
    "pyplot.plot(lr_fpr, lr_tpr, marker='.', label='Logistic')\n",
    "pyplot.plot(svm_fpr, svm_tpr, marker='.', label='svm')\n",
    "# axis labels\n",
    "pyplot.xlabel('False Positive Rate')\n",
    "pyplot.ylabel('True Positive Rate')\n",
    "# show the legend\n",
    "pyplot.legend()\n",
    "# show the plot\n",
    "pyplot.show()"
   ]
  },
  {
   "cell_type": "code",
   "execution_count": null,
   "metadata": {},
   "outputs": [],
   "source": []
  },
  {
   "cell_type": "code",
   "execution_count": null,
   "metadata": {},
   "outputs": [],
   "source": []
  },
  {
   "cell_type": "code",
   "execution_count": null,
   "metadata": {},
   "outputs": [],
   "source": []
  },
  {
   "cell_type": "code",
   "execution_count": 44,
   "metadata": {},
   "outputs": [
    {
     "name": "stdout",
     "output_type": "stream",
     "text": [
      "Fitting 5 folds for each of 272 candidates, totalling 1360 fits\n"
     ]
    },
    {
     "name": "stderr",
     "output_type": "stream",
     "text": [
      "[Parallel(n_jobs=-1)]: Using backend LokyBackend with 12 concurrent workers.\n",
      "[Parallel(n_jobs=-1)]: Done 216 tasks      | elapsed:    0.7s\n",
      "[Parallel(n_jobs=-1)]: Done 936 tasks      | elapsed:    3.2s\n",
      "[Parallel(n_jobs=-1)]: Done 1360 out of 1360 | elapsed:    4.4s finished\n"
     ]
    },
    {
     "data": {
      "text/plain": [
       "0.45168435223313275"
      ]
     },
     "execution_count": 44,
     "metadata": {},
     "output_type": "execute_result"
    }
   ],
   "source": [
    "from sklearn.svm import SVC\n",
    "modelsvmf1 = Pipeline([\n",
    "        ('svm',  SVC(random_state=42,probability=True,class_weight = {0:1,1:(285/95)}))\n",
    "    ])\n",
    "\n",
    "\n",
    "# modelsvm = SVC(random_state=42, verbose=2,kernel='rbf')\n",
    "\n",
    "from sklearn.model_selection import GridSearchCV\n",
    "\n",
    "\n",
    "\n",
    "param_gridsvmf1 = {'svm__C': [0.1, 1, 10,20,50, 100,200,500,1000,0.5, 0.1, 0.01, 0.05, 0.001,0.005, 0.0001,0.0005],  \n",
    "              'svm__gamma': [10,20,50, 100,200,500,1000,1,0.5, 0.1, 0.01, 0.05, 0.001,0.005, 0.0001,0.0005]}  \n",
    "  \n",
    "\n",
    "\n",
    "svmgridsearchf1 = GridSearchCV(estimator=modelsvmf1, param_grid=param_gridsvmf1, n_jobs=-1, \n",
    "                             cv=5, verbose=5, return_train_score=True,scoring=\"f1\")\n",
    "\n",
    "svmgridsearchf1.fit(X_train, y_train)\n",
    "svmgridsearchf1.best_score_"
   ]
  },
  {
   "cell_type": "code",
   "execution_count": 45,
   "metadata": {},
   "outputs": [
    {
     "name": "stdout",
     "output_type": "stream",
     "text": [
      "[[45 26]\n",
      " [10 14]]\n"
     ]
    }
   ],
   "source": [
    "# Visualise classical Confusion M0atrix\n",
    "from sklearn.metrics import confusion_matrix\n",
    "svcr = svmgridsearchf1.predict(X_test)\n",
    "CMsvc = confusion_matrix(y_test, svcr)\n",
    "print(CMsvc)"
   ]
  },
  {
   "cell_type": "code",
   "execution_count": 46,
   "metadata": {},
   "outputs": [
    {
     "data": {
      "image/png": "[encoded data removed]",
      "text/plain": [
       "<Figure size 432x288 with 2 Axes>"
      ]
     },
     "metadata": {
      "needs_background": "light"
     },
     "output_type": "display_data"
    }
   ],
   "source": [
    "from mlxtend.plotting import plot_confusion_matrix\n",
    "binary = np.array([[45 ,26],\n",
    " [ 10, 14]])\n",
    "\n",
    "fig, ax = plot_confusion_matrix(conf_mat=binary,\n",
    "                                show_absolute=True,\n",
    "                                show_normed=True,\n",
    "                                colorbar=True)\n",
    "plt.show()"
   ]
  },
  {
   "cell_type": "code",
   "execution_count": 54,
   "metadata": {},
   "outputs": [
    {
     "name": "stdout",
     "output_type": "stream",
     "text": [
      "No Skill: ROC AUC=0.500\n",
      "Logistic: ROC AUC=0.562\n",
      "svc: ROC AUC=0.612\n"
     ]
    },
    {
     "data": {
      "image/png": "[encoded data removed]",
      "text/plain": [
       "<Figure size 432x288 with 1 Axes>"
      ]
     },
     "metadata": {
      "needs_background": "light"
     },
     "output_type": "display_data"
    }
   ],
   "source": [
    "# visualizing roc curve\n",
    "\n",
    "\n",
    "from sklearn.datasets import make_classification\n",
    "from sklearn.linear_model import LogisticRegression\n",
    "from sklearn.model_selection import train_test_split\n",
    "from sklearn.metrics import roc_curve\n",
    "from sklearn.metrics import roc_auc_score\n",
    "from matplotlib import pyplot\n",
    "# generate 2 class dataset\n",
    "ns_probs = [0 for _ in range(len(y_test))]\n",
    "lr_probs = grid_searchlgr.predict_proba(X_test)\n",
    "lr_probssvc = svmgridsearchf1.predict_proba(X_test)\n",
    "\n",
    "# keep probabilities for the positive outcome only\n",
    "lr_probs = lr_probs[:, 1]\n",
    "lr_probssvc = lr_probssvc[:, 1]\n",
    "# calculate scores\n",
    "ns_auc = roc_auc_score(y_test, ns_probs)\n",
    "lr_auc = roc_auc_score(y_test, lr_probs)\n",
    "svc_auc = roc_auc_score(y_test, lr_probssvc)\n",
    "# summarize scores\n",
    "print('No Skill: ROC AUC=%.3f' % (ns_auc))\n",
    "print('Logistic: ROC AUC=%.3f' % (lr_auc))\n",
    "\n",
    "print('svc: ROC AUC=%.3f' % (svc_auc))\n",
    "# calculate roc curves\n",
    "ns_fpr, ns_tpr, _ = roc_curve(y_test, ns_probs)\n",
    "lr_fpr, lr_tpr, _ = roc_curve(y_test, lr_probs)\n",
    "\n",
    "svc_fpr, svc_tpr, _ = roc_curve(y_test, lr_probssvc)\n",
    "# plot the roc curve for the model\n",
    "pyplot.plot(ns_fpr, ns_tpr, linestyle='--', label='No Skill')\n",
    "pyplot.plot(lr_fpr, lr_tpr, marker='.', label='Logistic')\n",
    "pyplot.plot(svc_fpr, svc_tpr, marker='.', label='svc')\n",
    "# axis labels\n",
    "pyplot.xlabel('False Positive Rate')\n",
    "pyplot.ylabel('True Positive Rate')\n",
    "# show the legend\n",
    "pyplot.legend()\n",
    "# show the plot\n",
    "pyplot.show()"
   ]
  },
  {
   "cell_type": "code",
   "execution_count": null,
   "metadata": {},
   "outputs": [],
   "source": []
  },
  {
   "cell_type": "code",
   "execution_count": null,
   "metadata": {},
   "outputs": [],
   "source": []
  },
  {
   "cell_type": "markdown",
   "metadata": {},
   "source": [
    "# rf"
   ]
  },
  {
   "cell_type": "code",
   "execution_count": 426,
   "metadata": {
    "colab": {},
    "colab_type": "code",
    "id": "RJPuXgDfxDhf"
   },
   "outputs": [],
   "source": [
    "# class weight set\n",
    "from sklearn.model_selection import GridSearchCV\n",
    "from imblearn.over_sampling import SMOTE # doctest: +NORMALIZE_WHITESPACE\n",
    "from sklearn.ensemble import RandomForestClassifier\n",
    "# Create the parameter grid based on the results of random search \n",
    "from imblearn.pipeline import Pipeline\n",
    "modelrf = Pipeline([\n",
    "        ('rf', RandomForestClassifier(random_state=42,class_weight = {0:1,1:(285/95)}))\n",
    "    ])\n",
    "\n",
    "param_grid = {\n",
    "    'rf__max_features': [0.07,0.13, 0.15, 0.25,0.5,0.75,0.9,1,0.2, 0.3,0.4,0.5],\n",
    "        'rf__n_estimators': [10,25,45, 60,80, 110,148, 200,500],\n",
    "        'rf__min_samples_split': [0.001,0.007,0.003,0.01,0.1,1],\n",
    "         'rf__min_samples_leaf': [0.007,0.01,0.1,0.5,0.7,1],\n",
    "        'rf__bootstrap': [True, False],\n",
    "        'rf__max_depth': [5,10, 20,40,60,None ]\n",
    "\n",
    "}\n",
    "# Create a based model\n",
    "\n",
    "# Instantiate the grid search model\n",
    "grid_searchrf = GridSearchCV(estimator = modelrf, param_grid = param_grid,scoring='f1',return_train_score=True,  \n",
    "                          cv = 5, n_jobs = -1,verbose=5)"
   ]
  },
  {
   "cell_type": "code",
   "execution_count": 427,
   "metadata": {
    "colab": {
     "base_uri": "https://localhost:8080/",
     "height": 325
    },
    "colab_type": "code",
    "id": "98MwGC9G07yl",
    "outputId": "1875af77-71d3-4dfc-c17b-fe1c098ac79a"
   },
   "outputs": [
    {
     "name": "stdout",
     "output_type": "stream",
     "text": [
      "Fitting 5 folds for each of 46656 candidates, totalling 233280 fits\n"
     ]
    },
    {
     "name": "stderr",
     "output_type": "stream",
     "text": [
      "[Parallel(n_jobs=-1)]: Using backend LokyBackend with 12 concurrent workers.\n",
      "[Parallel(n_jobs=-1)]: Done 312 tasks      | elapsed:    4.5s\n",
      "[Parallel(n_jobs=-1)]: Done 744 tasks      | elapsed:    9.9s\n",
      "[Parallel(n_jobs=-1)]: Done 1122 tasks      | elapsed:   14.2s\n",
      "[Parallel(n_jobs=-1)]: Done 1608 tasks      | elapsed:   19.1s\n",
      "[Parallel(n_jobs=-1)]: Done 2202 tasks      | elapsed:   27.0s\n",
      "[Parallel(n_jobs=-1)]: Done 2904 tasks      | elapsed:   34.6s\n",
      "[Parallel(n_jobs=-1)]: Done 3714 tasks      | elapsed:   45.0s\n",
      "[Parallel(n_jobs=-1)]: Done 4632 tasks      | elapsed:   55.0s\n",
      "[Parallel(n_jobs=-1)]: Done 5658 tasks      | elapsed:  1.1min\n",
      "[Parallel(n_jobs=-1)]: Done 6792 tasks      | elapsed:  1.4min\n",
      "[Parallel(n_jobs=-1)]: Done 8034 tasks      | elapsed:  1.6min\n",
      "[Parallel(n_jobs=-1)]: Done 9384 tasks      | elapsed:  1.9min\n",
      "[Parallel(n_jobs=-1)]: Done 10842 tasks      | elapsed:  2.2min\n",
      "[Parallel(n_jobs=-1)]: Done 12408 tasks      | elapsed:  2.6min\n",
      "[Parallel(n_jobs=-1)]: Done 14082 tasks      | elapsed:  2.9min\n",
      "[Parallel(n_jobs=-1)]: Done 15864 tasks      | elapsed:  3.3min\n",
      "[Parallel(n_jobs=-1)]: Done 17754 tasks      | elapsed:  3.7min\n",
      "[Parallel(n_jobs=-1)]: Done 19752 tasks      | elapsed:  4.1min\n",
      "[Parallel(n_jobs=-1)]: Done 21858 tasks      | elapsed:  4.5min\n",
      "[Parallel(n_jobs=-1)]: Done 24072 tasks      | elapsed:  4.9min\n",
      "[Parallel(n_jobs=-1)]: Done 26394 tasks      | elapsed:  5.4min\n",
      "[Parallel(n_jobs=-1)]: Done 28824 tasks      | elapsed:  6.0min\n",
      "[Parallel(n_jobs=-1)]: Done 31362 tasks      | elapsed:  6.5min\n",
      "[Parallel(n_jobs=-1)]: Done 34008 tasks      | elapsed:  7.0min\n",
      "[Parallel(n_jobs=-1)]: Done 36762 tasks      | elapsed:  7.6min\n",
      "[Parallel(n_jobs=-1)]: Done 39624 tasks      | elapsed:  8.2min\n",
      "[Parallel(n_jobs=-1)]: Done 42594 tasks      | elapsed:  8.8min\n",
      "[Parallel(n_jobs=-1)]: Done 45672 tasks      | elapsed:  9.5min\n",
      "[Parallel(n_jobs=-1)]: Done 48858 tasks      | elapsed: 10.2min\n",
      "[Parallel(n_jobs=-1)]: Done 52152 tasks      | elapsed: 10.9min\n",
      "[Parallel(n_jobs=-1)]: Done 55554 tasks      | elapsed: 11.6min\n",
      "[Parallel(n_jobs=-1)]: Done 59064 tasks      | elapsed: 12.3min\n",
      "[Parallel(n_jobs=-1)]: Done 62682 tasks      | elapsed: 13.0min\n",
      "[Parallel(n_jobs=-1)]: Done 66408 tasks      | elapsed: 13.8min\n",
      "[Parallel(n_jobs=-1)]: Done 70242 tasks      | elapsed: 14.7min\n",
      "[Parallel(n_jobs=-1)]: Done 74184 tasks      | elapsed: 15.5min\n",
      "[Parallel(n_jobs=-1)]: Done 78234 tasks      | elapsed: 16.3min\n",
      "[Parallel(n_jobs=-1)]: Done 82392 tasks      | elapsed: 17.2min\n",
      "[Parallel(n_jobs=-1)]: Done 86658 tasks      | elapsed: 18.1min\n",
      "[Parallel(n_jobs=-1)]: Done 91032 tasks      | elapsed: 19.0min\n",
      "[Parallel(n_jobs=-1)]: Done 95514 tasks      | elapsed: 19.9min\n",
      "[Parallel(n_jobs=-1)]: Done 100104 tasks      | elapsed: 20.9min\n",
      "[Parallel(n_jobs=-1)]: Done 104802 tasks      | elapsed: 21.9min\n",
      "[Parallel(n_jobs=-1)]: Done 109608 tasks      | elapsed: 22.9min\n",
      "[Parallel(n_jobs=-1)]: Done 114522 tasks      | elapsed: 23.9min\n",
      "[Parallel(n_jobs=-1)]: Done 119544 tasks      | elapsed: 24.9min\n",
      "[Parallel(n_jobs=-1)]: Done 124674 tasks      | elapsed: 26.0min\n",
      "[Parallel(n_jobs=-1)]: Done 129912 tasks      | elapsed: 27.1min\n",
      "[Parallel(n_jobs=-1)]: Done 135258 tasks      | elapsed: 28.2min\n",
      "[Parallel(n_jobs=-1)]: Done 140712 tasks      | elapsed: 29.3min\n",
      "[Parallel(n_jobs=-1)]: Done 146274 tasks      | elapsed: 30.6min\n",
      "[Parallel(n_jobs=-1)]: Done 151944 tasks      | elapsed: 31.8min\n",
      "[Parallel(n_jobs=-1)]: Done 157722 tasks      | elapsed: 33.1min\n",
      "[Parallel(n_jobs=-1)]: Done 163608 tasks      | elapsed: 34.3min\n",
      "[Parallel(n_jobs=-1)]: Done 169602 tasks      | elapsed: 35.6min\n",
      "[Parallel(n_jobs=-1)]: Done 175704 tasks      | elapsed: 37.0min\n",
      "[Parallel(n_jobs=-1)]: Done 181914 tasks      | elapsed: 38.3min\n",
      "[Parallel(n_jobs=-1)]: Done 188232 tasks      | elapsed: 39.7min\n",
      "[Parallel(n_jobs=-1)]: Done 194658 tasks      | elapsed: 41.1min\n",
      "[Parallel(n_jobs=-1)]: Done 201192 tasks      | elapsed: 42.4min\n",
      "[Parallel(n_jobs=-1)]: Done 207834 tasks      | elapsed: 43.9min\n",
      "[Parallel(n_jobs=-1)]: Done 214584 tasks      | elapsed: 45.4min\n",
      "[Parallel(n_jobs=-1)]: Done 221442 tasks      | elapsed: 46.8min\n",
      "[Parallel(n_jobs=-1)]: Done 228408 tasks      | elapsed: 48.3min\n",
      "[Parallel(n_jobs=-1)]: Done 233280 out of 233280 | elapsed: 49.4min finished\n"
     ]
    },
    {
     "data": {
      "text/plain": [
       "{'rf__bootstrap': False,\n",
       " 'rf__max_depth': 5,\n",
       " 'rf__max_features': 0.25,\n",
       " 'rf__min_samples_leaf': 1,\n",
       " 'rf__min_samples_split': 0.001,\n",
       " 'rf__n_estimators': 10}"
      ]
     },
     "execution_count": 427,
     "metadata": {},
     "output_type": "execute_result"
    }
   ],
   "source": [
    "grid_searchrf.fit(X_train, y_train)\n",
    "grid_searchrf.best_params_"
   ]
  },
  {
   "cell_type": "code",
   "execution_count": 428,
   "metadata": {
    "colab": {},
    "colab_type": "code",
    "id": "0U2n2VYF_62a"
   },
   "outputs": [
    {
     "data": {
      "text/plain": [
       "0.4813239812053854"
      ]
     },
     "execution_count": 428,
     "metadata": {},
     "output_type": "execute_result"
    }
   ],
   "source": [
    "grid_searchrf.best_score_"
   ]
  },
  {
   "cell_type": "code",
   "execution_count": 429,
   "metadata": {
    "colab": {
     "base_uri": "https://localhost:8080/",
     "height": 284
    },
    "colab_type": "code",
    "id": "mWwLTbSsghkT",
    "outputId": "4d0cff97-6224-4ac0-c5a7-401c2d4c456b"
   },
   "outputs": [
    {
     "data": {
      "text/plain": [
       "0.3333333333333333"
      ]
     },
     "execution_count": 429,
     "metadata": {},
     "output_type": "execute_result"
    }
   ],
   "source": [
    "grid_searchrf.score(X_test,y_test)"
   ]
  },
  {
   "cell_type": "code",
   "execution_count": 430,
   "metadata": {
    "colab": {},
    "colab_type": "code",
    "id": "8-aZ3t5C_O7B"
   },
   "outputs": [],
   "source": [
    "rfsmotey = grid_searchrf.predict(X_test)\n",
    "\n"
   ]
  },
  {
   "cell_type": "code",
   "execution_count": 431,
   "metadata": {},
   "outputs": [
    {
     "name": "stdout",
     "output_type": "stream",
     "text": [
      "0.4813239812053854\n",
      "[[60 11]\n",
      " [17  7]]\n"
     ]
    }
   ],
   "source": [
    "print(grid_searchrf.best_score_)\n",
    "from sklearn.metrics import confusion_matrix\n",
    "rfsmotey = grid_searchrf.predict(X_test)\n",
    "\n",
    "\n",
    "CM = confusion_matrix(y_test, rfsmotey)\n",
    "print(CM)"
   ]
  },
  {
   "cell_type": "code",
   "execution_count": 447,
   "metadata": {},
   "outputs": [
    {
     "data": {
      "image/png": "[encoded data removed]",
      "text/plain": [
       "<Figure size 432x288 with 2 Axes>"
      ]
     },
     "metadata": {
      "needs_background": "light"
     },
     "output_type": "display_data"
    }
   ],
   "source": [
    "from mlxtend.plotting import plot_confusion_matrix\n",
    "binary = np.array([[60 ,11],\n",
    " [ 17, 7]])\n",
    "\n",
    "fig, ax = plot_confusion_matrix(conf_mat=binary,\n",
    "                                show_absolute=True,\n",
    "                                show_normed=True,\n",
    "                                colorbar=True)\n",
    "plt.show()"
   ]
  },
  {
   "cell_type": "code",
   "execution_count": 444,
   "metadata": {},
   "outputs": [
    {
     "name": "stdout",
     "output_type": "stream",
     "text": [
      "[[41 30]\n",
      " [10 14]]\n"
     ]
    }
   ],
   "source": [
    "# Visualise classical Confusion M0atrix\n",
    "from sklearn.metrics import confusion_matrix\n",
    "lgrres = grid_searchrf.predict_proba(X_test)\n",
    "lgrres=(lgrres[:,1]>=0.35).astype(int)\n",
    "CMlgr = confusion_matrix(y_test, lgrres)\n",
    "print(CMlgr)"
   ]
  },
  {
   "cell_type": "code",
   "execution_count": null,
   "metadata": {},
   "outputs": [],
   "source": []
  },
  {
   "cell_type": "code",
   "execution_count": 437,
   "metadata": {},
   "outputs": [
    {
     "name": "stdout",
     "output_type": "stream",
     "text": [
      "No Skill: ROC AUC=0.500\n",
      "Logistic: ROC AUC=0.562\n",
      "rf: ROC AUC=0.664\n"
     ]
    },
    {
     "data": {
      "image/png": "[encoded data removed]",
      "text/plain": [
       "<Figure size 432x288 with 1 Axes>"
      ]
     },
     "metadata": {
      "needs_background": "light"
     },
     "output_type": "display_data"
    }
   ],
   "source": [
    "# visualizing roc curve\n",
    "\n",
    "\n",
    "from sklearn.datasets import make_classification\n",
    "from sklearn.linear_model import LogisticRegression\n",
    "from sklearn.model_selection import train_test_split\n",
    "from sklearn.metrics import roc_curve\n",
    "from sklearn.metrics import roc_auc_score\n",
    "from matplotlib import pyplot\n",
    "# generate 2 class dataset\n",
    "ns_probs = [0 for _ in range(len(y_test))]\n",
    "lr_probs = grid_searchlgr.predict_proba(X_test)\n",
    "lr_probsrf = grid_searchrf.predict_proba(X_test)\n",
    "\n",
    "# keep probabilities for the positive outcome only\n",
    "lr_probs = lr_probs[:, 1]\n",
    "lr_probsrf = lr_probsrf[:, 1]\n",
    "# calculate scores\n",
    "ns_auc = roc_auc_score(y_test, ns_probs)\n",
    "lr_auc = roc_auc_score(y_test, lr_probs)\n",
    "rf_auc = roc_auc_score(y_test, lr_probsrf)\n",
    "# summarize scores\n",
    "print('No Skill: ROC AUC=%.3f' % (ns_auc))\n",
    "print('Logistic: ROC AUC=%.3f' % (lr_auc))\n",
    "\n",
    "print('rf: ROC AUC=%.3f' % (rf_auc))\n",
    "# calculate roc curves\n",
    "ns_fpr, ns_tpr, _ = roc_curve(y_test, ns_probs)\n",
    "lr_fpr, lr_tpr, _ = roc_curve(y_test, lr_probs)\n",
    "\n",
    "rf_fpr, rf_tpr, _ = roc_curve(y_test, lr_probsrf)\n",
    "# plot the roc curve for the model\n",
    "pyplot.plot(ns_fpr, ns_tpr, linestyle='--', label='No Skill')\n",
    "pyplot.plot(lr_fpr, lr_tpr, marker='.', label='Logistic')\n",
    "pyplot.plot(rf_fpr, rf_tpr, marker='.', label='rf')\n",
    "# axis labels\n",
    "pyplot.xlabel('False Positive Rate')\n",
    "pyplot.ylabel('True Positive Rate')\n",
    "# show the legend\n",
    "pyplot.legend()\n",
    "# show the plot\n",
    "pyplot.show()"
   ]
  },
  {
   "cell_type": "code",
   "execution_count": 438,
   "metadata": {},
   "outputs": [
    {
     "name": "stdout",
     "output_type": "stream",
     "text": [
      "No Skill: ROC AUC=0.500\n",
      "Logistic: ROC AUC=0.562\n",
      "svc: ROC AUC=0.612\n",
      "rf: ROC AUC=0.664\n"
     ]
    },
    {
     "data": {
      "image/png": "[encoded data removed]",
      "text/plain": [
       "<Figure size 432x288 with 1 Axes>"
      ]
     },
     "metadata": {
      "needs_background": "light"
     },
     "output_type": "display_data"
    }
   ],
   "source": [
    "# visualizing roc curve\n",
    "\n",
    "\n",
    "from sklearn.datasets import make_classification\n",
    "from sklearn.linear_model import LogisticRegression\n",
    "from sklearn.model_selection import train_test_split\n",
    "from sklearn.metrics import roc_curve\n",
    "from sklearn.metrics import roc_auc_score\n",
    "from matplotlib import pyplot\n",
    "# generate 2 class dataset\n",
    "ns_probs = [0 for _ in range(len(y_test))]\n",
    "lr_probs = grid_searchlgr.predict_proba(X_test)\n",
    "lr_probssvc = svmgridsearchf1.predict_proba(X_test)\n",
    "lr_probsrf = grid_searchrf.predict_proba(X_test)\n",
    "\n",
    "\n",
    "# keep probabilities for the positive outcome only\n",
    "lr_probs = lr_probs[:, 1]\n",
    "lr_probssvc = lr_probssvc[:, 1]\n",
    "lr_probsrf = lr_probsrf[:, 1]\n",
    "\n",
    "\n",
    "# calculate scores\n",
    "ns_auc = roc_auc_score(y_test, ns_probs)\n",
    "lr_auc = roc_auc_score(y_test, lr_probs)\n",
    "svc_auc = roc_auc_score(y_test, lr_probssvc)\n",
    "rf_auc = roc_auc_score(y_test, lr_probsrf)\n",
    "\n",
    "\n",
    "# summarize scores\n",
    "print('No Skill: ROC AUC=%.3f' % (ns_auc))\n",
    "print('Logistic: ROC AUC=%.3f' % (lr_auc))\n",
    "\n",
    "print('svc: ROC AUC=%.3f' % (svc_auc))\n",
    "print('rf: ROC AUC=%.3f' % (rf_auc))\n",
    "\n",
    "# calculate roc curves\n",
    "ns_fpr, ns_tpr, _ = roc_curve(y_test, ns_probs)\n",
    "lr_fpr, lr_tpr, _ = roc_curve(y_test, lr_probs)\n",
    "\n",
    "svc_fpr, svc_tpr, _ = roc_curve(y_test, lr_probssvc)\n",
    "rf_fpr, rf_tpr, _ = roc_curve(y_test, lr_probsrf)\n",
    "\n",
    "# plot the roc curve for the model\n",
    "pyplot.plot(ns_fpr, ns_tpr, linestyle='--', label='No Skill')\n",
    "pyplot.plot(lr_fpr, lr_tpr, marker='.', label='Logistic')\n",
    "pyplot.plot(svc_fpr, svc_tpr, marker='.', label='svc')\n",
    "pyplot.plot(rf_fpr, rf_tpr, marker='.', label='rf')\n",
    "\n",
    "# axis labels\n",
    "pyplot.xlabel('False Positive Rate')\n",
    "pyplot.ylabel('True Positive Rate')\n",
    "# show the legend\n",
    "pyplot.legend()\n",
    "# show the plot\n",
    "pyplot.show()"
   ]
  },
  {
   "cell_type": "code",
   "execution_count": null,
   "metadata": {},
   "outputs": [],
   "source": []
  },
  {
   "cell_type": "code",
   "execution_count": null,
   "metadata": {},
   "outputs": [],
   "source": []
  },
  {
   "cell_type": "code",
   "execution_count": null,
   "metadata": {},
   "outputs": [],
   "source": []
  },
  {
   "cell_type": "markdown",
   "metadata": {},
   "source": [
    "# gradient boost "
   ]
  },
  {
   "cell_type": "code",
   "execution_count": 33,
   "metadata": {},
   "outputs": [],
   "source": [
    "from sklearn.model_selection import GridSearchCV\n",
    "from imblearn.over_sampling import SMOTE # doctest: +NORMALIZE_WHITESPACE\n",
    "from sklearn.ensemble import GradientBoostingClassifier\n",
    "# Create the parameter grid based on the results of random search \n",
    "from imblearn.pipeline import Pipeline\n",
    "modelrf = Pipeline([\n",
    "        ('gb', GradientBoostingClassifier(random_state=42,subsample=0.8))\n",
    "    ])\n",
    "\n",
    "param_grid = {\n",
    "        'gb__learning_rate': [0.1,0.01,1,10],\n",
    "        'gb__n_estimators': [10,20,25,30,45, 50],\n",
    "        'gb__min_samples_split': [0.003,0.0025,0.0035,0.001],\n",
    "        'gb__min_samples_leaf': [0.003,0.0025,0.0035,0.001],\n",
    "        'gb__max_depth': [5,6,7,8,10],\n",
    "        \n",
    "        \n",
    "}\n",
    "\n",
    "# Create a based model\n",
    "\n",
    "# Instantiate the grid search model\n",
    "grid_searchgb = GridSearchCV(estimator = modelrf, param_grid = param_grid,scoring='f1',return_train_score=True,  \n",
    "                          cv = 5, n_jobs = -1,verbose=5)"
   ]
  },
  {
   "cell_type": "code",
   "execution_count": 34,
   "metadata": {},
   "outputs": [
    {
     "name": "stdout",
     "output_type": "stream",
     "text": [
      "Fitting 5 folds for each of 1920 candidates, totalling 9600 fits\n"
     ]
    },
    {
     "name": "stderr",
     "output_type": "stream",
     "text": [
      "[Parallel(n_jobs=-1)]: Using backend LokyBackend with 12 concurrent workers.\n",
      "[Parallel(n_jobs=-1)]: Done  48 tasks      | elapsed:    5.0s\n",
      "[Parallel(n_jobs=-1)]: Done 297 tasks      | elapsed:    6.4s\n",
      "[Parallel(n_jobs=-1)]: Done 801 tasks      | elapsed:    9.6s\n",
      "[Parallel(n_jobs=-1)]: Done 1449 tasks      | elapsed:   15.0s\n",
      "[Parallel(n_jobs=-1)]: Done 2241 tasks      | elapsed:   23.8s\n",
      "[Parallel(n_jobs=-1)]: Done 3177 tasks      | elapsed:   30.4s\n",
      "[Parallel(n_jobs=-1)]: Done 4257 tasks      | elapsed:   40.4s\n",
      "[Parallel(n_jobs=-1)]: Done 5481 tasks      | elapsed:   50.0s\n",
      "[Parallel(n_jobs=-1)]: Done 6849 tasks      | elapsed:   56.5s\n",
      "[Parallel(n_jobs=-1)]: Done 8361 tasks      | elapsed:  1.1min\n",
      "[Parallel(n_jobs=-1)]: Done 9577 out of 9600 | elapsed:  1.2min remaining:    0.1s\n",
      "[Parallel(n_jobs=-1)]: Done 9600 out of 9600 | elapsed:  1.2min finished\n"
     ]
    },
    {
     "data": {
      "text/plain": [
       "{'gb__learning_rate': 1,\n",
       " 'gb__max_depth': 10,\n",
       " 'gb__min_samples_leaf': 0.003,\n",
       " 'gb__min_samples_split': 0.003,\n",
       " 'gb__n_estimators': 20}"
      ]
     },
     "execution_count": 34,
     "metadata": {},
     "output_type": "execute_result"
    }
   ],
   "source": [
    "grid_searchgb.fit(X_train, y_train)\n",
    "grid_searchgb.best_params_\n"
   ]
  },
  {
   "cell_type": "code",
   "execution_count": 35,
   "metadata": {},
   "outputs": [
    {
     "name": "stdout",
     "output_type": "stream",
     "text": [
      "0.41174796558939775\n",
      "0.45\n"
     ]
    }
   ],
   "source": [
    "print(grid_searchgb.best_score_)\n",
    "print(grid_searchgb.score(X_test,y_test))"
   ]
  },
  {
   "cell_type": "code",
   "execution_count": 36,
   "metadata": {},
   "outputs": [
    {
     "name": "stdout",
     "output_type": "stream",
     "text": [
      "[[64  7]\n",
      " [15  9]]\n"
     ]
    }
   ],
   "source": [
    "rfsmotey = grid_searchgb.predict(X_test)\n",
    "CM = confusion_matrix(y_test, rfsmotey)\n",
    "print(CM)\n"
   ]
  },
  {
   "cell_type": "code",
   "execution_count": 104,
   "metadata": {},
   "outputs": [
    {
     "name": "stdout",
     "output_type": "stream",
     "text": [
      "Best Threshold=0.113045\n",
      "[[49 22]\n",
      " [ 9 15]]\n"
     ]
    }
   ],
   "source": [
    "# setting best threshold \n",
    "from sklearn.metrics import confusion_matrix\n",
    "\n",
    "from sklearn.metrics import roc_curve\n",
    "\n",
    "def get_best_threshold(testy,yhat):\n",
    "    fpr, tpr, thresholds = roc_curve(testy, yhat)\n",
    "    # get the best threshold\n",
    "    J = tpr - fpr\n",
    "    ix = np.argmax(J)\n",
    "    best_thresh = thresholds[ix]\n",
    "    print('Best Threshold=%f' % (best_thresh))\n",
    "    return best_thresh\n",
    "\n",
    "\n",
    "\n",
    "rfrr= grid_searchgb.predict_proba(X_test)\n",
    "rfrr_thres=get_best_threshold(y_test,rfrr[:,1])\n",
    "rfrr=(rfrr[:,1]>=0.003).astype(int)\n",
    "rfrr_cm = confusion_matrix(y_test,rfrr)\n",
    "print(rfrr_cm)"
   ]
  },
  {
   "cell_type": "code",
   "execution_count": 105,
   "metadata": {},
   "outputs": [
    {
     "data": {
      "image/png": "[encoded data removed]",
      "text/plain": [
       "<Figure size 432x288 with 2 Axes>"
      ]
     },
     "metadata": {
      "needs_background": "light"
     },
     "output_type": "display_data"
    }
   ],
   "source": [
    "from mlxtend.plotting import plot_confusion_matrix\n",
    "binary = np.array([[49 ,22],\n",
    " [ 9, 15]])\n",
    "\n",
    "fig, ax = plot_confusion_matrix(conf_mat=binary,\n",
    "                                show_absolute=True,\n",
    "                                show_normed=True,\n",
    "                                colorbar=True)\n",
    "plt.show()"
   ]
  },
  {
   "cell_type": "code",
   "execution_count": null,
   "metadata": {},
   "outputs": [],
   "source": []
  },
  {
   "cell_type": "code",
   "execution_count": 53,
   "metadata": {},
   "outputs": [
    {
     "name": "stdout",
     "output_type": "stream",
     "text": [
      "No Skill: ROC AUC=0.500\n",
      "Logistic: ROC AUC=0.562\n",
      "gb: ROC AUC=0.691\n"
     ]
    },
    {
     "data": {
      "image/png": "[encoded data removed]",
      "text/plain": [
       "<Figure size 432x288 with 1 Axes>"
      ]
     },
     "metadata": {
      "needs_background": "light"
     },
     "output_type": "display_data"
    }
   ],
   "source": [
    "# visualizing roc curve\n",
    "\n",
    "\n",
    "from sklearn.datasets import make_classification\n",
    "from sklearn.linear_model import LogisticRegression\n",
    "from sklearn.model_selection import train_test_split\n",
    "from sklearn.metrics import roc_curve\n",
    "from sklearn.metrics import roc_auc_score\n",
    "from matplotlib import pyplot\n",
    "# generate 2 class dataset\n",
    "ns_probs = [0 for _ in range(len(y_test))]\n",
    "lr_probs = grid_searchlgr.predict_proba(X_test)\n",
    "lr_probsgb = grid_searchgb.predict_proba(X_test)\n",
    "\n",
    "# keep probabilities for the positive outcome only\n",
    "lr_probs = lr_probs[:, 1]\n",
    "lr_probsgb = lr_probsgb[:, 1]\n",
    "# calculate scores\n",
    "ns_auc = roc_auc_score(y_test, ns_probs)\n",
    "lr_auc = roc_auc_score(y_test, lr_probs)\n",
    "gb_auc = roc_auc_score(y_test, lr_probsgb)\n",
    "# summarize scores\n",
    "print('No Skill: ROC AUC=%.3f' % (ns_auc))\n",
    "print('Logistic: ROC AUC=%.3f' % (lr_auc))\n",
    "\n",
    "print('gb: ROC AUC=%.3f' % (gb_auc))\n",
    "# calculate roc curves\n",
    "ns_fpr, ns_tpr, _ = roc_curve(y_test, ns_probs)\n",
    "lr_fpr, lr_tpr, _ = roc_curve(y_test, lr_probs)\n",
    "\n",
    "gb_fpr, gb_tpr, _ = roc_curve(y_test, lr_probsgb)\n",
    "# plot the roc curve for the model\n",
    "pyplot.plot(ns_fpr, ns_tpr, linestyle='--', label='No Skill')\n",
    "pyplot.plot(lr_fpr, lr_tpr, marker='.', label='Logistic')\n",
    "pyplot.plot(gb_fpr, gb_tpr, marker='.', label='GB')\n",
    "# axis labels\n",
    "pyplot.xlabel('False Positive Rate')\n",
    "pyplot.ylabel('True Positive Rate')\n",
    "# show the legend\n",
    "pyplot.legend()\n",
    "# show the plot\n",
    "pyplot.show()"
   ]
  },
  {
   "cell_type": "code",
   "execution_count": 96,
   "metadata": {},
   "outputs": [
    {
     "name": "stdout",
     "output_type": "stream",
     "text": [
      "No Skill: ROC AUC=0.500\n",
      "Logistic: ROC AUC=0.562\n",
      "svm: ROC AUC=0.627\n",
      "gb: ROC AUC=0.691\n"
     ]
    },
    {
     "data": {
      "image/png": "[encoded data removed]",
      "text/plain": [
       "<Figure size 432x288 with 1 Axes>"
      ]
     },
     "metadata": {
      "needs_background": "light"
     },
     "output_type": "display_data"
    }
   ],
   "source": [
    "# visualizing roc curve\n",
    "\n",
    "\n",
    "from sklearn.datasets import make_classification\n",
    "from sklearn.linear_model import LogisticRegression\n",
    "from sklearn.model_selection import train_test_split\n",
    "from sklearn.metrics import roc_curve\n",
    "from sklearn.metrics import roc_auc_score\n",
    "from matplotlib import pyplot\n",
    "# generate 2 class dataset\n",
    "ns_probs = [0 for _ in range(len(y_test))]\n",
    "lr_probs = grid_searchlgr.predict_proba(X_test)\n",
    "lr_probssvm = svmgridsearchf1.predict_proba(X_test)\n",
    "lr_probsgb = grid_searchgb.predict_proba(X_test)\n",
    "\n",
    "\n",
    "# keep probabilities for the positive outcome only\n",
    "lr_probs = lr_probs[:, 1]\n",
    "lr_probssvm = lr_probssvm[:, 1]\n",
    "lr_probsgb = lr_probsgb[:, 1]\n",
    "\n",
    "# calculate scores\n",
    "ns_auc = roc_auc_score(y_test, ns_probs)\n",
    "lr_auc = roc_auc_score(y_test, lr_probs)\n",
    "svm_auc = roc_auc_score(y_test, lr_probssvm)\n",
    "gb_auc = roc_auc_score(y_test, lr_probsgb)\n",
    "\n",
    "\n",
    "# summarize scores\n",
    "print('No Skill: ROC AUC=%.3f' % (ns_auc))\n",
    "print('Logistic: ROC AUC=%.3f' % (lr_auc))\n",
    "\n",
    "print('svm: ROC AUC=%.3f' % (svm_auc))\n",
    "print('gb: ROC AUC=%.3f' % (gb_auc))\n",
    "\n",
    "\n",
    "# calculate roc curves\n",
    "ns_fpr, ns_tpr, _ = roc_curve(y_test, ns_probs)\n",
    "lr_fpr, lr_tpr, _ = roc_curve(y_test, lr_probs)\n",
    "\n",
    "svm_fpr, svm_tpr, _ = roc_curve(y_test, lr_probssvm)\n",
    "gb_fpr, gb_tpr, _ = roc_curve(y_test, lr_probsgb)\n",
    "\n",
    "\n",
    "# plot the roc curve for the model\n",
    "pyplot.plot(ns_fpr, ns_tpr, linestyle='--', label='No Skill')\n",
    "pyplot.plot(lr_fpr, lr_tpr, marker='.', label='Logistic')\n",
    "pyplot.plot(svm_fpr, svm_tpr, marker='.', label='svm')\n",
    "pyplot.plot(gb_fpr, gb_tpr, marker='.', label='GB')\n",
    "\n",
    "\n",
    "# axis labels\n",
    "pyplot.xlabel('False Positive Rate')\n",
    "pyplot.ylabel('True Positive Rate')\n",
    "# show the legend\n",
    "pyplot.legend()\n",
    "# show the plot\n",
    "pyplot.show()"
   ]
  },
  {
   "cell_type": "code",
   "execution_count": null,
   "metadata": {},
   "outputs": [],
   "source": []
  },
  {
   "cell_type": "code",
   "execution_count": null,
   "metadata": {},
   "outputs": [],
   "source": []
  },
  {
   "cell_type": "markdown",
   "metadata": {},
   "source": [
    "# RUS\n",
    "### Random under-sampling integrating in the learning of an AdaBoost classifier."
   ]
  },
  {
   "cell_type": "code",
   "execution_count": 110,
   "metadata": {},
   "outputs": [
    {
     "name": "stdout",
     "output_type": "stream",
     "text": [
      "[25, 26, 27, 28, 29, 30, 31, 32, 33, 34, 35, 36, 37, 38, 39, 40, 41, 42, 43, 44, 45, 46, 47, 48, 49, 50, 51, 52, 53, 54, 55, 56, 57, 58, 59, 60, 61, 62, 63, 64, 65, 66, 67, 68, 69, 70, 71, 72, 73, 74, 75, 76, 77, 78, 79, 80, 81, 82, 83, 84, 85, 86, 87, 88, 89, 90, 91, 92, 93, 94, 95, 96, 97, 98, 99, 100, 200, 400]\n",
      "[0.0, 0.1, 0.2, 0.30000000000000004, 0.4, 0.5, 0.6000000000000001, 0.7000000000000001, 0.8, 0.9, 1.0, 0.01, 0.03, 0.05, 0.07]\n"
     ]
    }
   ],
   "source": [
    "#setting hyperparameters  \n",
    "n_est = []\n",
    "for i in range(25,101):\n",
    "    n_est.append(i)\n",
    "\n",
    "n_est.append(200)\n",
    "n_est.append(400)\n",
    "    \n",
    "print(n_est)\n",
    "lr = []\n",
    "for j in np.arange(0, 1.1, 0.1):\n",
    "    lr.append(j)\n",
    "    \n",
    "lr.append(0.01)\n",
    "lr.append(0.03)\n",
    "lr.append(0.05)\n",
    "lr.append(0.07)    \n",
    "print(lr)"
   ]
  },
  {
   "cell_type": "code",
   "execution_count": null,
   "metadata": {},
   "outputs": [],
   "source": []
  },
  {
   "cell_type": "code",
   "execution_count": 114,
   "metadata": {},
   "outputs": [
    {
     "name": "stdout",
     "output_type": "stream",
     "text": [
      "Fitting 5 folds for each of 1296 candidates, totalling 6480 fits\n"
     ]
    },
    {
     "name": "stderr",
     "output_type": "stream",
     "text": [
      "[Parallel(n_jobs=-1)]: Using backend LokyBackend with 12 concurrent workers.\n",
      "[Parallel(n_jobs=-1)]: Done  72 tasks      | elapsed:    0.9s\n",
      "[Parallel(n_jobs=-1)]: Done 252 tasks      | elapsed:    3.7s\n",
      "[Parallel(n_jobs=-1)]: Done 504 tasks      | elapsed:    8.8s\n",
      "[Parallel(n_jobs=-1)]: Done 707 tasks      | elapsed:   13.7s\n",
      "[Parallel(n_jobs=-1)]: Done 905 tasks      | elapsed:   17.4s\n",
      "[Parallel(n_jobs=-1)]: Done 1139 tasks      | elapsed:   23.8s\n",
      "[Parallel(n_jobs=-1)]: Done 1409 tasks      | elapsed:   28.2s\n",
      "[Parallel(n_jobs=-1)]: Done 1715 tasks      | elapsed:   36.0s\n",
      "[Parallel(n_jobs=-1)]: Done 2057 tasks      | elapsed:   42.4s\n",
      "[Parallel(n_jobs=-1)]: Done 2435 tasks      | elapsed:   50.7s\n",
      "[Parallel(n_jobs=-1)]: Done 2849 tasks      | elapsed:  1.0min\n",
      "[Parallel(n_jobs=-1)]: Done 3299 tasks      | elapsed:  1.2min\n",
      "[Parallel(n_jobs=-1)]: Done 3785 tasks      | elapsed:  1.4min\n",
      "[Parallel(n_jobs=-1)]: Done 4307 tasks      | elapsed:  1.5min\n",
      "[Parallel(n_jobs=-1)]: Done 4865 tasks      | elapsed:  1.7min\n",
      "[Parallel(n_jobs=-1)]: Done 5459 tasks      | elapsed:  2.0min\n",
      "[Parallel(n_jobs=-1)]: Done 6089 tasks      | elapsed:  2.2min\n",
      "[Parallel(n_jobs=-1)]: Done 6480 out of 6480 | elapsed:  2.3min finished\n"
     ]
    },
    {
     "data": {
      "text/plain": [
       "{'rus__learning_rate': 0.005,\n",
       " 'rus__n_estimators': 400,\n",
       " 'rus__replacement': False,\n",
       " 'rus__sampling_strategy': 'auto'}"
      ]
     },
     "execution_count": 114,
     "metadata": {},
     "output_type": "execute_result"
    }
   ],
   "source": [
    "from imblearn.ensemble import RUSBoostClassifier\n",
    "from sklearn.model_selection import GridSearchCV\n",
    "from imblearn.over_sampling import SMOTE # doctest: +NORMALIZE_WHITESPACE\n",
    "from sklearn.ensemble import RandomForestClassifier\n",
    "from sklearn.tree import DecisionTreeClassifier\n",
    "# Create the parameter grid based on the results of random search \n",
    "from imblearn.pipeline import Pipeline\n",
    "modeleb = Pipeline([\n",
    "        ('rus', RUSBoostClassifier(random_state=42))\n",
    "    ])\n",
    "\n",
    "param_gridx = {\n",
    "        \n",
    "        'rus__n_estimators': [50, 51, 52, 53, 54, 55, 56, 57, 58, 59, 60, 61, 62, 63, 64, 65, 66, 67, 68, 69, 70, 71, 72, 73, 74, 75, 76, 77, 78, 79, 80, 81, 82, 83, 84, 85, 86, 87, 88, 89, 90, 91, 92, 93, 94, 95, 96, 97, 98, 99, 100, 200, 400,600],\n",
    "        \n",
    "       \n",
    "        'rus__sampling_strategy': ['auto'],\n",
    "        'rus__learning_rate': [0.01, 0.03, 0.05, 0.07, 0.001, 0.003, 0.005, 0.007, 0.1, 0.3, 0.5, 0.7],\n",
    "        'rus__replacement': [False,True]\n",
    "\n",
    "}\n",
    "\n",
    "\n",
    "# Create a based model\n",
    "\n",
    "# Instantiate the grid search model\n",
    "grid_searchrus1 = GridSearchCV(estimator = modeleb, param_grid = param_gridx,scoring='f1',return_train_score=True,  \n",
    "                          cv = 5, n_jobs = -1,verbose=5)\n",
    "grid_searchrus1.fit(X_train, y_train)\n",
    "grid_searchrus1.best_params_"
   ]
  },
  {
   "cell_type": "code",
   "execution_count": 115,
   "metadata": {},
   "outputs": [
    {
     "name": "stdout",
     "output_type": "stream",
     "text": [
      "[[44 27]\n",
      " [13 11]]\n"
     ]
    }
   ],
   "source": [
    "\n",
    "from sklearn.metrics import confusion_matrix\n",
    "rfsmotey = grid_searchrus1.predict(X_test)\n",
    "\n",
    "\n",
    "CM = confusion_matrix(y_test, rfsmotey)\n",
    "print(CM)"
   ]
  },
  {
   "cell_type": "code",
   "execution_count": 116,
   "metadata": {},
   "outputs": [
    {
     "name": "stdout",
     "output_type": "stream",
     "text": [
      "No Skill: ROC AUC=0.500\n",
      "Logistic: ROC AUC=0.562\n",
      "RUS: ROC AUC=0.586\n"
     ]
    },
    {
     "data": {
      "image/png": "[encoded data removed]",
      "text/plain": [
       "<Figure size 432x288 with 1 Axes>"
      ]
     },
     "metadata": {
      "needs_background": "light"
     },
     "output_type": "display_data"
    }
   ],
   "source": [
    "# visualizing roc curve\n",
    "\n",
    "\n",
    "from sklearn.datasets import make_classification\n",
    "from sklearn.linear_model import LogisticRegression\n",
    "from sklearn.model_selection import train_test_split\n",
    "from sklearn.metrics import roc_curve\n",
    "from sklearn.metrics import roc_auc_score\n",
    "from matplotlib import pyplot\n",
    "# generate 2 class dataset\n",
    "ns_probs = [0 for _ in range(len(y_test))]\n",
    "lr_probs = grid_searchlgr.predict_proba(X_test)\n",
    "lr_probsrus = grid_searchrus1.predict_proba(X_test)\n",
    "\n",
    "# keep probabilities for the positive outcome only\n",
    "lr_probs = lr_probs[:, 1]\n",
    "lr_probsrus = lr_probsrus[:, 1]\n",
    "# calculate scores\n",
    "ns_auc = roc_auc_score(y_test, ns_probs)\n",
    "lr_auc = roc_auc_score(y_test, lr_probs)\n",
    "rus_auc = roc_auc_score(y_test, lr_probsrus)\n",
    "# summarize scores\n",
    "print('No Skill: ROC AUC=%.3f' % (ns_auc))\n",
    "print('Logistic: ROC AUC=%.3f' % (lr_auc))\n",
    "\n",
    "print('RUS: ROC AUC=%.3f' % (rus_auc))\n",
    "# calculate roc curves\n",
    "ns_fpr, ns_tpr, _ = roc_curve(y_test, ns_probs)\n",
    "lr_fpr, lr_tpr, _ = roc_curve(y_test, lr_probs)\n",
    "\n",
    "rus_fpr, rus_tpr, _ = roc_curve(y_test, lr_probsrus)\n",
    "# plot the roc curve for the model\n",
    "pyplot.plot(ns_fpr, ns_tpr, linestyle='--', label='No Skill')\n",
    "pyplot.plot(lr_fpr, lr_tpr, marker='.', label='Logistic')\n",
    "pyplot.plot(rus_fpr, rus_tpr, marker='.', label='RUS')\n",
    "# axis labels\n",
    "pyplot.xlabel('False Positive Rate')\n",
    "pyplot.ylabel('True Positive Rate')\n",
    "# show the legend\n",
    "pyplot.legend()\n",
    "# show the plot\n",
    "pyplot.show()"
   ]
  },
  {
   "cell_type": "code",
   "execution_count": 118,
   "metadata": {},
   "outputs": [
    {
     "name": "stdout",
     "output_type": "stream",
     "text": [
      "No Skill: ROC AUC=0.500\n",
      "Logistic: ROC AUC=0.562\n",
      "svm: ROC AUC=0.627\n",
      "gb: ROC AUC=0.691\n",
      "Ada: ROC AUC=0.586\n"
     ]
    },
    {
     "data": {
      "image/png": "[encoded data removed]",
      "text/plain": [
       "<Figure size 1368x864 with 1 Axes>"
      ]
     },
     "metadata": {
      "needs_background": "light"
     },
     "output_type": "display_data"
    }
   ],
   "source": [
    "# visualizing roc curve\n",
    "\n",
    "\n",
    "from sklearn.datasets import make_classification\n",
    "from sklearn.linear_model import LogisticRegression\n",
    "from sklearn.model_selection import train_test_split\n",
    "from sklearn.metrics import roc_curve\n",
    "from sklearn.metrics import roc_auc_score\n",
    "from matplotlib import pyplot\n",
    "fig= pyplot.figure(figsize=(19,12))\n",
    "# generate 2 class dataset\n",
    "ns_probs = [0 for _ in range(len(y_test))]\n",
    "lr_probs = grid_searchlgr.predict_proba(X_test)\n",
    "lr_probssvm = svmgridsearchf1.predict_proba(X_test)\n",
    "lr_probsgb = grid_searchgb.predict_proba(X_test)\n",
    "lr_probsrus = grid_searchrus1.predict_proba(X_test)\n",
    "\n",
    "\n",
    "# keep probabilities for the positive outcome only\n",
    "lr_probs = lr_probs[:, 1]\n",
    "lr_probssvm = lr_probssvm[:, 1]\n",
    "lr_probsgb = lr_probsgb[:, 1]\n",
    "lr_probsrus = lr_probsrus[:, 1]\n",
    "# calculate scores\n",
    "ns_auc = roc_auc_score(y_test, ns_probs)\n",
    "lr_auc = roc_auc_score(y_test, lr_probs)\n",
    "svm_auc = roc_auc_score(y_test, lr_probssvm)\n",
    "gb_auc = roc_auc_score(y_test, lr_probsgb)\n",
    "rus_auc = roc_auc_score(y_test, lr_probsrus)\n",
    "\n",
    "# summarize scores\n",
    "print('No Skill: ROC AUC=%.3f' % (ns_auc))\n",
    "print('Logistic: ROC AUC=%.3f' % (lr_auc))\n",
    "\n",
    "print('svm: ROC AUC=%.3f' % (svm_auc))\n",
    "print('gb: ROC AUC=%.3f' % (gb_auc))\n",
    "\n",
    "print('Ada: ROC AUC=%.3f' % (rus_auc))\n",
    "\n",
    "\n",
    "# calculate roc curves\n",
    "ns_fpr, ns_tpr, _ = roc_curve(y_test, ns_probs)\n",
    "lr_fpr, lr_tpr, _ = roc_curve(y_test, lr_probs)\n",
    "\n",
    "svm_fpr, svm_tpr, _ = roc_curve(y_test, lr_probssvm)\n",
    "gb_fpr, gb_tpr, _ = roc_curve(y_test, lr_probsgb)\n",
    "\n",
    "\n",
    "rus_fpr, rus_tpr, _ = roc_curve(y_test, lr_probsrus)\n",
    "# plot the roc curve for the model\n",
    "pyplot.plot(ns_fpr, ns_tpr, linestyle='--', label='No Skill')\n",
    "pyplot.plot(lr_fpr, lr_tpr, marker='.', label='Logistic')\n",
    "pyplot.plot(svm_fpr, svm_tpr, marker='.', label='svm')\n",
    "pyplot.plot(gb_fpr, gb_tpr, marker='.', label='GB')\n",
    "\n",
    "pyplot.plot(rus_fpr, rus_tpr, marker='.', label='ada')\n",
    "# axis labels\n",
    "pyplot.xlabel('False Positive Rate')\n",
    "pyplot.ylabel('True Positive Rate')\n",
    "# show the legend\n",
    "pyplot.legend()\n",
    "# show the plot\n",
    "pyplot.show()"
   ]
  },
  {
   "cell_type": "code",
   "execution_count": null,
   "metadata": {},
   "outputs": [],
   "source": []
  }
 ],
 "metadata": {
  "colab": {
   "name": "Untitled0.ipynb",
   "provenance": []
  },
  "kernelspec": {
   "display_name": "Python 3",
   "language": "python",
   "name": "python3"
  },
  "language_info": {
   "codemirror_mode": {
    "name": "ipython",
    "version": 3
   },
   "file_extension": ".py",
   "mimetype": "text/x-python",
   "name": "python",
   "nbconvert_exporter": "python",
   "pygments_lexer": "ipython3",
   "version": "3.7.4"
  }
 },
 "nbformat": 4,
 "nbformat_minor": 1
}
