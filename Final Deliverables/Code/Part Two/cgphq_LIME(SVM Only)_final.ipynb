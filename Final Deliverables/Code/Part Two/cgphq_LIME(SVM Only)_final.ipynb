{
 "cells": [
  {
   "cell_type": "code",
   "execution_count": 1,
   "metadata": {
    "colab": {},
    "colab_type": "code",
    "id": "GNaKE6JXsAVm"
   },
   "outputs": [
    {
     "name": "stderr",
     "output_type": "stream",
     "text": [
      "Using TensorFlow backend.\n"
     ]
    }
   ],
   "source": [
    "import numpy as np\n",
    "import pandas as pd\n",
    "from matplotlib import pyplot as plt\n",
    "from collections import Counter\n",
    "import imblearn\n",
    "from sklearn.metrics import confusion_matrix\n",
    "from sklearn.metrics import plot_confusion_matrix\n",
    "from sklearn.datasets import make_classification\n",
    "from sklearn.linear_model import LogisticRegression\n",
    "from sklearn.model_selection import train_test_split\n",
    "from sklearn.metrics import precision_recall_curve\n",
    "from sklearn.metrics import f1_score\n",
    "from sklearn.metrics import auc\n",
    "from sklearn.model_selection import GridSearchCV\n",
    "from sklearn.ensemble import RandomForestClassifier\n",
    "from sklearn.model_selection import cross_validate\n",
    "from matplotlib import pyplot"
   ]
  },
  {
   "cell_type": "code",
   "execution_count": 2,
   "metadata": {
    "colab": {},
    "colab_type": "code",
    "id": "jqd3Hz_PtOBX"
   },
   "outputs": [],
   "source": [
    "raw = pd.read_csv('cgfinal414.csv')"
   ]
  },
  {
   "cell_type": "code",
   "execution_count": 3,
   "metadata": {
    "colab": {},
    "colab_type": "code",
    "id": "O_BOEYNNtPiS"
   },
   "outputs": [],
   "source": [
    "raw = raw.drop(columns='id')"
   ]
  },
  {
   "cell_type": "code",
   "execution_count": 4,
   "metadata": {},
   "outputs": [
    {
     "data": {
      "text/plain": [
       "0.0    322\n",
       "1.0     75\n",
       "Name: cgphq2, dtype: int64"
      ]
     },
     "execution_count": 4,
     "metadata": {},
     "output_type": "execute_result"
    }
   ],
   "source": [
    "raw['cgphq2'].value_counts()"
   ]
  },
  {
   "cell_type": "code",
   "execution_count": 5,
   "metadata": {
    "colab": {},
    "colab_type": "code",
    "id": "z_2QO2jbwSpc"
   },
   "outputs": [],
   "source": [
    "raw1 = raw.dropna()"
   ]
  },
  {
   "cell_type": "code",
   "execution_count": 6,
   "metadata": {
    "colab": {},
    "colab_type": "code",
    "id": "olta3KdowZ5y"
   },
   "outputs": [],
   "source": [
    "df_cgd=raw1"
   ]
  },
  {
   "cell_type": "code",
   "execution_count": 7,
   "metadata": {
    "colab": {
     "base_uri": "https://localhost:8080/",
     "height": 439
    },
    "colab_type": "code",
    "id": "qpoNEIqhwb6p",
    "outputId": "6316d8ad-77f6-4e0e-d0b5-f43028e1a58d"
   },
   "outputs": [],
   "source": [
    "\n",
    "one_hot = pd.get_dummies(raw1['StudyArm'])\n",
    "# Drop column B as it is now encoded\n",
    "df_cgd = df_cgd.drop('StudyArm',axis = 1)\n",
    "# Join the encoded df\n",
    "df_cgd = df_cgd.join(one_hot)\n",
    "\n",
    "one_hot = pd.get_dummies(df_cgd['incomecat'],prefix='incomecat')\n",
    "# Drop column B as it is now encoded\n",
    "df_cgd = df_cgd.drop('incomecat',axis = 1)\n",
    "# Join the encoded df\n",
    "df_cgd = df_cgd.join(one_hot)\n",
    "df_cgd = df_cgd.drop('incomecat_3.0',axis = 1)\n",
    "one_hot = pd.get_dummies(df_cgd['gradecat'],prefix='gradecat')\n",
    "# Drop column B as it is now encoded\n",
    "df_cgd = df_cgd.drop('gradecat',axis = 1)\n",
    "# Join the encoded df\n",
    "df_cgd = df_cgd.join(one_hot)\n",
    "\n",
    "df_cgd = df_cgd.drop('gradecat_3.0',axis = 1)\n",
    "one_hot = pd.get_dummies(df_cgd['relationship_cat'],prefix='relationship_cat')\n",
    "# Drop column B as it is now encoded\n",
    "df_cgd = df_cgd.drop('relationship_cat',axis = 1)\n",
    "# Join the encoded df\n",
    "df_cgd = df_cgd.join(one_hot)\n",
    "\n",
    "df_cgd = df_cgd.drop('relationship_cat_3.0',axis = 1)\n",
    "one_hot = pd.get_dummies(df_cgd['racecat'],prefix='race_cat')\n",
    "# Drop column B as it is now encoded\n",
    "df_cgd = df_cgd.drop('racecat',axis = 1)\n",
    "# Join the encoded df\n",
    "df_cgd = df_cgd.join(one_hot)\n",
    "\n",
    "df_cgd = df_cgd.drop('race_cat_3.0',axis = 1)\n",
    "one_hot = pd.get_dummies(df_cgd['TTC3'],prefix='TTC3')\n",
    "# Drop column B as it is now encoded\n",
    "df_cgd = df_cgd.drop('TTC3',axis = 1)\n",
    "# Join the encoded df\n",
    "df_cgd = df_cgd.join(one_hot)\n",
    "\n",
    "df_cgd = df_cgd.drop('TTC3_3.0',axis = 1)\n",
    "one_hot = pd.get_dummies(df_cgd['GI_Lung'],prefix='GI_Lung')\n",
    "# Drop column B as it is now encoded\n",
    "df_cgd = df_cgd.drop('GI_Lung',axis = 1)\n",
    "# Join the encoded df\n",
    "df_cgd = df_cgd.join(one_hot)\n",
    "\n",
    "df_cgd = df_cgd.drop('GI_Lung_3.0',axis = 1)"
   ]
  },
  {
   "cell_type": "code",
   "execution_count": 8,
   "metadata": {},
   "outputs": [],
   "source": [
    "raw1=df_cgd"
   ]
  },
  {
   "cell_type": "code",
   "execution_count": 9,
   "metadata": {
    "scrolled": true
   },
   "outputs": [
    {
     "data": {
      "text/plain": [
       "array(['Age', 'Gender', 'Living', 'TTC5', 'TTC6a', 'TTC6b', 'TTC6c',\n",
       "       'TTC6d', 'distress', 'ImpairedPolypharmacy', 'cognition',\n",
       "       'nutrition', 'phy_performance', 'function', 'ImpairedCom',\n",
       "       'psychological', 'ImpairedMS', 'calcimpairedCom', 'cgdistress',\n",
       "       'cggad7', 'cgphq2', 'SF12total', 'AGG_PHYS', 'AGG_MENT', 'Control',\n",
       "       'GA', 'incomecat_1.0', 'incomecat_2.0', 'gradecat_1.0',\n",
       "       'gradecat_2.0', 'relationship_cat_1.0', 'relationship_cat_2.0',\n",
       "       'race_cat_1.0', 'race_cat_2.0', 'TTC3_1.0', 'TTC3_2.0',\n",
       "       'GI_Lung_1.0', 'GI_Lung_2.0'], dtype=object)"
      ]
     },
     "execution_count": 9,
     "metadata": {},
     "output_type": "execute_result"
    }
   ],
   "source": [
    "raw1.columns.values"
   ]
  },
  {
   "cell_type": "code",
   "execution_count": 10,
   "metadata": {},
   "outputs": [
    {
     "data": {
      "text/plain": [
       "count    380.000000\n",
       "mean       0.186842\n",
       "std        0.390299\n",
       "min        0.000000\n",
       "25%        0.000000\n",
       "50%        0.000000\n",
       "75%        0.000000\n",
       "max        1.000000\n",
       "Name: cgphq2, dtype: float64"
      ]
     },
     "execution_count": 10,
     "metadata": {},
     "output_type": "execute_result"
    }
   ],
   "source": [
    "raw1['cgphq2'].describe()"
   ]
  },
  {
   "cell_type": "code",
   "execution_count": 11,
   "metadata": {},
   "outputs": [
    {
     "data": {
      "text/plain": [
       "0.0    309\n",
       "1.0     71\n",
       "Name: cgphq2, dtype: int64"
      ]
     },
     "execution_count": 11,
     "metadata": {},
     "output_type": "execute_result"
    }
   ],
   "source": [
    "raw1['cgphq2'].value_counts()"
   ]
  },
  {
   "cell_type": "code",
   "execution_count": null,
   "metadata": {},
   "outputs": [],
   "source": []
  },
  {
   "cell_type": "code",
   "execution_count": null,
   "metadata": {},
   "outputs": [],
   "source": []
  },
  {
   "cell_type": "code",
   "execution_count": 12,
   "metadata": {
    "colab": {},
    "colab_type": "code",
    "id": "o4nE49Jrwmlu"
   },
   "outputs": [],
   "source": [
    "X = raw1[['Age', 'Gender', 'Living', 'TTC5', 'TTC6a', 'TTC6b', 'TTC6c',\n",
    "       'TTC6d', 'distress', 'ImpairedPolypharmacy', 'cognition',\n",
    "       'nutrition', 'phy_performance', 'function', 'ImpairedCom',\n",
    "       'psychological', 'ImpairedMS', 'calcimpairedCom',  'Control',\n",
    "       'incomecat_1.0', 'incomecat_2.0', 'gradecat_1.0',\n",
    "       'gradecat_2.0', 'relationship_cat_1.0', 'relationship_cat_2.0',\n",
    "       'race_cat_1.0', 'race_cat_2.0', 'TTC3_1.0', 'TTC3_2.0',\n",
    "       'GI_Lung_1.0', 'GI_Lung_2.0']]\n",
    "y = raw1['cgphq2']"
   ]
  },
  {
   "cell_type": "code",
   "execution_count": 13,
   "metadata": {
    "colab": {},
    "colab_type": "code",
    "id": "kiKyE0B4wqjE"
   },
   "outputs": [],
   "source": [
    "from sklearn.model_selection import train_test_split"
   ]
  },
  {
   "cell_type": "code",
   "execution_count": 14,
   "metadata": {
    "colab": {},
    "colab_type": "code",
    "id": "Nl5_vz7kwuf9"
   },
   "outputs": [],
   "source": [
    "X_train, X_test, y_train, y_test = train_test_split(X, y, test_size=0.25, random_state=42,stratify=y)"
   ]
  },
  {
   "cell_type": "code",
   "execution_count": 15,
   "metadata": {},
   "outputs": [
    {
     "name": "stdout",
     "output_type": "stream",
     "text": [
      "[(0.0, 232), (1.0, 53)]\n",
      "[(0.0, 77), (1.0, 18)]\n"
     ]
    }
   ],
   "source": [
    "X_train.shape\n",
    "print(sorted(Counter(y_train).items()))\n",
    "\n",
    "print(sorted(Counter(y_test).items()))"
   ]
  },
  {
   "cell_type": "code",
   "execution_count": 16,
   "metadata": {},
   "outputs": [
    {
     "name": "stdout",
     "output_type": "stream",
     "text": [
      "[(0.0, 232), (1.0, 53)]\n",
      "[(0.0, 77), (1.0, 18)]\n"
     ]
    }
   ],
   "source": [
    "X_train.shape\n",
    "print(sorted(Counter(y_train).items()))\n",
    "\n",
    "print(sorted(Counter(y_test).items()))"
   ]
  },
  {
   "cell_type": "code",
   "execution_count": 17,
   "metadata": {},
   "outputs": [
    {
     "data": {
      "text/plain": [
       "(95, 31)"
      ]
     },
     "execution_count": 17,
     "metadata": {},
     "output_type": "execute_result"
    }
   ],
   "source": [
    "X_test.shape"
   ]
  },
  {
   "cell_type": "code",
   "execution_count": 18,
   "metadata": {},
   "outputs": [
    {
     "data": {
      "text/plain": [
       "(95,)"
      ]
     },
     "execution_count": 18,
     "metadata": {},
     "output_type": "execute_result"
    }
   ],
   "source": [
    "y_test.shape"
   ]
  },
  {
   "cell_type": "code",
   "execution_count": 19,
   "metadata": {},
   "outputs": [
    {
     "data": {
      "text/html": [
       "<div>\n",
       "<style scoped>\n",
       "    .dataframe tbody tr th:only-of-type {\n",
       "        vertical-align: middle;\n",
       "    }\n",
       "\n",
       "    .dataframe tbody tr th {\n",
       "        vertical-align: top;\n",
       "    }\n",
       "\n",
       "    .dataframe thead th {\n",
       "        text-align: right;\n",
       "    }\n",
       "</style>\n",
       "<table border=\"1\" class=\"dataframe\">\n",
       "  <thead>\n",
       "    <tr style=\"text-align: right;\">\n",
       "      <th></th>\n",
       "      <th>Age</th>\n",
       "      <th>Gender</th>\n",
       "      <th>Living</th>\n",
       "      <th>TTC5</th>\n",
       "      <th>TTC6a</th>\n",
       "      <th>TTC6b</th>\n",
       "      <th>TTC6c</th>\n",
       "      <th>TTC6d</th>\n",
       "      <th>distress</th>\n",
       "      <th>ImpairedPolypharmacy</th>\n",
       "      <th>...</th>\n",
       "      <th>gradecat_1.0</th>\n",
       "      <th>gradecat_2.0</th>\n",
       "      <th>relationship_cat_1.0</th>\n",
       "      <th>relationship_cat_2.0</th>\n",
       "      <th>race_cat_1.0</th>\n",
       "      <th>race_cat_2.0</th>\n",
       "      <th>TTC3_1.0</th>\n",
       "      <th>TTC3_2.0</th>\n",
       "      <th>GI_Lung_1.0</th>\n",
       "      <th>GI_Lung_2.0</th>\n",
       "    </tr>\n",
       "  </thead>\n",
       "  <tbody>\n",
       "    <tr>\n",
       "      <td>59</td>\n",
       "      <td>79.0</td>\n",
       "      <td>0.0</td>\n",
       "      <td>2.0</td>\n",
       "      <td>0.0</td>\n",
       "      <td>0.0</td>\n",
       "      <td>1.0</td>\n",
       "      <td>0.0</td>\n",
       "      <td>0.0</td>\n",
       "      <td>1.0</td>\n",
       "      <td>0</td>\n",
       "      <td>...</td>\n",
       "      <td>0</td>\n",
       "      <td>1</td>\n",
       "      <td>1</td>\n",
       "      <td>0</td>\n",
       "      <td>1</td>\n",
       "      <td>0</td>\n",
       "      <td>0</td>\n",
       "      <td>1</td>\n",
       "      <td>0</td>\n",
       "      <td>0</td>\n",
       "    </tr>\n",
       "    <tr>\n",
       "      <td>213</td>\n",
       "      <td>76.0</td>\n",
       "      <td>0.0</td>\n",
       "      <td>1.0</td>\n",
       "      <td>0.0</td>\n",
       "      <td>1.0</td>\n",
       "      <td>0.0</td>\n",
       "      <td>0.0</td>\n",
       "      <td>0.0</td>\n",
       "      <td>0.0</td>\n",
       "      <td>1</td>\n",
       "      <td>...</td>\n",
       "      <td>0</td>\n",
       "      <td>1</td>\n",
       "      <td>1</td>\n",
       "      <td>0</td>\n",
       "      <td>1</td>\n",
       "      <td>0</td>\n",
       "      <td>0</td>\n",
       "      <td>1</td>\n",
       "      <td>0</td>\n",
       "      <td>1</td>\n",
       "    </tr>\n",
       "    <tr>\n",
       "      <td>29</td>\n",
       "      <td>78.0</td>\n",
       "      <td>1.0</td>\n",
       "      <td>2.0</td>\n",
       "      <td>0.0</td>\n",
       "      <td>0.0</td>\n",
       "      <td>1.0</td>\n",
       "      <td>0.0</td>\n",
       "      <td>0.0</td>\n",
       "      <td>0.0</td>\n",
       "      <td>1</td>\n",
       "      <td>...</td>\n",
       "      <td>0</td>\n",
       "      <td>0</td>\n",
       "      <td>1</td>\n",
       "      <td>0</td>\n",
       "      <td>1</td>\n",
       "      <td>0</td>\n",
       "      <td>1</td>\n",
       "      <td>0</td>\n",
       "      <td>0</td>\n",
       "      <td>0</td>\n",
       "    </tr>\n",
       "    <tr>\n",
       "      <td>144</td>\n",
       "      <td>66.0</td>\n",
       "      <td>0.0</td>\n",
       "      <td>2.0</td>\n",
       "      <td>1.0</td>\n",
       "      <td>0.0</td>\n",
       "      <td>0.0</td>\n",
       "      <td>0.0</td>\n",
       "      <td>0.0</td>\n",
       "      <td>1.0</td>\n",
       "      <td>1</td>\n",
       "      <td>...</td>\n",
       "      <td>0</td>\n",
       "      <td>0</td>\n",
       "      <td>1</td>\n",
       "      <td>0</td>\n",
       "      <td>1</td>\n",
       "      <td>0</td>\n",
       "      <td>0</td>\n",
       "      <td>1</td>\n",
       "      <td>0</td>\n",
       "      <td>1</td>\n",
       "    </tr>\n",
       "    <tr>\n",
       "      <td>373</td>\n",
       "      <td>64.0</td>\n",
       "      <td>0.0</td>\n",
       "      <td>2.0</td>\n",
       "      <td>1.0</td>\n",
       "      <td>0.0</td>\n",
       "      <td>0.0</td>\n",
       "      <td>0.0</td>\n",
       "      <td>0.0</td>\n",
       "      <td>0.0</td>\n",
       "      <td>1</td>\n",
       "      <td>...</td>\n",
       "      <td>0</td>\n",
       "      <td>1</td>\n",
       "      <td>1</td>\n",
       "      <td>0</td>\n",
       "      <td>1</td>\n",
       "      <td>0</td>\n",
       "      <td>0</td>\n",
       "      <td>1</td>\n",
       "      <td>1</td>\n",
       "      <td>0</td>\n",
       "    </tr>\n",
       "    <tr>\n",
       "      <td>...</td>\n",
       "      <td>...</td>\n",
       "      <td>...</td>\n",
       "      <td>...</td>\n",
       "      <td>...</td>\n",
       "      <td>...</td>\n",
       "      <td>...</td>\n",
       "      <td>...</td>\n",
       "      <td>...</td>\n",
       "      <td>...</td>\n",
       "      <td>...</td>\n",
       "      <td>...</td>\n",
       "      <td>...</td>\n",
       "      <td>...</td>\n",
       "      <td>...</td>\n",
       "      <td>...</td>\n",
       "      <td>...</td>\n",
       "      <td>...</td>\n",
       "      <td>...</td>\n",
       "      <td>...</td>\n",
       "      <td>...</td>\n",
       "      <td>...</td>\n",
       "    </tr>\n",
       "    <tr>\n",
       "      <td>370</td>\n",
       "      <td>58.0</td>\n",
       "      <td>0.0</td>\n",
       "      <td>1.0</td>\n",
       "      <td>0.0</td>\n",
       "      <td>1.0</td>\n",
       "      <td>0.0</td>\n",
       "      <td>0.0</td>\n",
       "      <td>0.0</td>\n",
       "      <td>0.0</td>\n",
       "      <td>1</td>\n",
       "      <td>...</td>\n",
       "      <td>0</td>\n",
       "      <td>0</td>\n",
       "      <td>1</td>\n",
       "      <td>0</td>\n",
       "      <td>0</td>\n",
       "      <td>1</td>\n",
       "      <td>0</td>\n",
       "      <td>1</td>\n",
       "      <td>0</td>\n",
       "      <td>0</td>\n",
       "    </tr>\n",
       "    <tr>\n",
       "      <td>30</td>\n",
       "      <td>72.0</td>\n",
       "      <td>1.0</td>\n",
       "      <td>2.0</td>\n",
       "      <td>1.0</td>\n",
       "      <td>0.0</td>\n",
       "      <td>0.0</td>\n",
       "      <td>0.0</td>\n",
       "      <td>0.0</td>\n",
       "      <td>1.0</td>\n",
       "      <td>1</td>\n",
       "      <td>...</td>\n",
       "      <td>1</td>\n",
       "      <td>0</td>\n",
       "      <td>1</td>\n",
       "      <td>0</td>\n",
       "      <td>1</td>\n",
       "      <td>0</td>\n",
       "      <td>0</td>\n",
       "      <td>1</td>\n",
       "      <td>0</td>\n",
       "      <td>1</td>\n",
       "    </tr>\n",
       "    <tr>\n",
       "      <td>111</td>\n",
       "      <td>63.0</td>\n",
       "      <td>0.0</td>\n",
       "      <td>1.0</td>\n",
       "      <td>1.0</td>\n",
       "      <td>1.0</td>\n",
       "      <td>0.0</td>\n",
       "      <td>0.0</td>\n",
       "      <td>0.0</td>\n",
       "      <td>1.0</td>\n",
       "      <td>1</td>\n",
       "      <td>...</td>\n",
       "      <td>0</td>\n",
       "      <td>1</td>\n",
       "      <td>0</td>\n",
       "      <td>1</td>\n",
       "      <td>1</td>\n",
       "      <td>0</td>\n",
       "      <td>0</td>\n",
       "      <td>1</td>\n",
       "      <td>0</td>\n",
       "      <td>1</td>\n",
       "    </tr>\n",
       "    <tr>\n",
       "      <td>130</td>\n",
       "      <td>74.0</td>\n",
       "      <td>1.0</td>\n",
       "      <td>1.0</td>\n",
       "      <td>0.0</td>\n",
       "      <td>0.0</td>\n",
       "      <td>1.0</td>\n",
       "      <td>0.0</td>\n",
       "      <td>0.0</td>\n",
       "      <td>0.0</td>\n",
       "      <td>1</td>\n",
       "      <td>...</td>\n",
       "      <td>0</td>\n",
       "      <td>1</td>\n",
       "      <td>1</td>\n",
       "      <td>0</td>\n",
       "      <td>1</td>\n",
       "      <td>0</td>\n",
       "      <td>0</td>\n",
       "      <td>1</td>\n",
       "      <td>0</td>\n",
       "      <td>0</td>\n",
       "    </tr>\n",
       "    <tr>\n",
       "      <td>123</td>\n",
       "      <td>49.0</td>\n",
       "      <td>0.0</td>\n",
       "      <td>2.0</td>\n",
       "      <td>1.0</td>\n",
       "      <td>0.0</td>\n",
       "      <td>0.0</td>\n",
       "      <td>0.0</td>\n",
       "      <td>0.0</td>\n",
       "      <td>1.0</td>\n",
       "      <td>1</td>\n",
       "      <td>...</td>\n",
       "      <td>0</td>\n",
       "      <td>0</td>\n",
       "      <td>0</td>\n",
       "      <td>1</td>\n",
       "      <td>1</td>\n",
       "      <td>0</td>\n",
       "      <td>1</td>\n",
       "      <td>0</td>\n",
       "      <td>0</td>\n",
       "      <td>1</td>\n",
       "    </tr>\n",
       "  </tbody>\n",
       "</table>\n",
       "<p>95 rows × 31 columns</p>\n",
       "</div>"
      ],
      "text/plain": [
       "      Age  Gender  Living  TTC5  TTC6a  TTC6b  TTC6c  TTC6d  distress  \\\n",
       "59   79.0     0.0     2.0   0.0    0.0    1.0    0.0    0.0       1.0   \n",
       "213  76.0     0.0     1.0   0.0    1.0    0.0    0.0    0.0       0.0   \n",
       "29   78.0     1.0     2.0   0.0    0.0    1.0    0.0    0.0       0.0   \n",
       "144  66.0     0.0     2.0   1.0    0.0    0.0    0.0    0.0       1.0   \n",
       "373  64.0     0.0     2.0   1.0    0.0    0.0    0.0    0.0       0.0   \n",
       "..    ...     ...     ...   ...    ...    ...    ...    ...       ...   \n",
       "370  58.0     0.0     1.0   0.0    1.0    0.0    0.0    0.0       0.0   \n",
       "30   72.0     1.0     2.0   1.0    0.0    0.0    0.0    0.0       1.0   \n",
       "111  63.0     0.0     1.0   1.0    1.0    0.0    0.0    0.0       1.0   \n",
       "130  74.0     1.0     1.0   0.0    0.0    1.0    0.0    0.0       0.0   \n",
       "123  49.0     0.0     2.0   1.0    0.0    0.0    0.0    0.0       1.0   \n",
       "\n",
       "     ImpairedPolypharmacy  ...  gradecat_1.0  gradecat_2.0  \\\n",
       "59                      0  ...             0             1   \n",
       "213                     1  ...             0             1   \n",
       "29                      1  ...             0             0   \n",
       "144                     1  ...             0             0   \n",
       "373                     1  ...             0             1   \n",
       "..                    ...  ...           ...           ...   \n",
       "370                     1  ...             0             0   \n",
       "30                      1  ...             1             0   \n",
       "111                     1  ...             0             1   \n",
       "130                     1  ...             0             1   \n",
       "123                     1  ...             0             0   \n",
       "\n",
       "     relationship_cat_1.0  relationship_cat_2.0  race_cat_1.0  race_cat_2.0  \\\n",
       "59                      1                     0             1             0   \n",
       "213                     1                     0             1             0   \n",
       "29                      1                     0             1             0   \n",
       "144                     1                     0             1             0   \n",
       "373                     1                     0             1             0   \n",
       "..                    ...                   ...           ...           ...   \n",
       "370                     1                     0             0             1   \n",
       "30                      1                     0             1             0   \n",
       "111                     0                     1             1             0   \n",
       "130                     1                     0             1             0   \n",
       "123                     0                     1             1             0   \n",
       "\n",
       "     TTC3_1.0  TTC3_2.0  GI_Lung_1.0  GI_Lung_2.0  \n",
       "59          0         1            0            0  \n",
       "213         0         1            0            1  \n",
       "29          1         0            0            0  \n",
       "144         0         1            0            1  \n",
       "373         0         1            1            0  \n",
       "..        ...       ...          ...          ...  \n",
       "370         0         1            0            0  \n",
       "30          0         1            0            1  \n",
       "111         0         1            0            1  \n",
       "130         0         1            0            0  \n",
       "123         1         0            0            1  \n",
       "\n",
       "[95 rows x 31 columns]"
      ]
     },
     "execution_count": 19,
     "metadata": {},
     "output_type": "execute_result"
    }
   ],
   "source": [
    "X_test"
   ]
  },
  {
   "cell_type": "code",
   "execution_count": 20,
   "metadata": {},
   "outputs": [
    {
     "data": {
      "text/plain": [
       "Text(0.5, 1.0, 'Class Distributions \\n (0: Negative || 1: Positive)')"
      ]
     },
     "execution_count": 20,
     "metadata": {},
     "output_type": "execute_result"
    },
    {
     "data": {
      "image/png": "[encoded data removed]",
      "text/plain": [
       "<Figure size 432x288 with 1 Axes>"
      ]
     },
     "metadata": {
      "needs_background": "light"
     },
     "output_type": "display_data"
    }
   ],
   "source": [
    "import seaborn as sns\n",
    "colors = [\"#0101DF\",\"#DF0101\"]\n",
    "\n",
    "sns.countplot('cgphq2', data=raw1, palette=colors)\n",
    "plt.title('Class Distributions \\n (0: Negative || 1: Positive)', fontsize=14)"
   ]
  },
  {
   "cell_type": "code",
   "execution_count": 21,
   "metadata": {},
   "outputs": [
    {
     "data": {
      "text/plain": [
       "(380,)"
      ]
     },
     "execution_count": 21,
     "metadata": {},
     "output_type": "execute_result"
    }
   ],
   "source": [
    "y.shape"
   ]
  },
  {
   "cell_type": "code",
   "execution_count": 22,
   "metadata": {},
   "outputs": [
    {
     "name": "stdout",
     "output_type": "stream",
     "text": [
      "[(0.0, 309), (1.0, 71)]\n"
     ]
    }
   ],
   "source": [
    "print(sorted(Counter(y).items()))"
   ]
  },
  {
   "cell_type": "code",
   "execution_count": 23,
   "metadata": {},
   "outputs": [
    {
     "name": "stderr",
     "output_type": "stream",
     "text": [
      "C:\\Anaconda3\\lib\\site-packages\\ipykernel_launcher.py:2: SettingWithCopyWarning: \n",
      "A value is trying to be set on a copy of a slice from a DataFrame.\n",
      "Try using .loc[row_indexer,col_indexer] = value instead\n",
      "\n",
      "See the caveats in the documentation: http://pandas.pydata.org/pandas-docs/stable/user_guide/indexing.html#returning-a-view-versus-a-copy\n",
      "  \n"
     ]
    }
   ],
   "source": [
    "raw2=X\n",
    "raw2['cgphq2']=y"
   ]
  },
  {
   "cell_type": "code",
   "execution_count": 24,
   "metadata": {
    "colab": {},
    "colab_type": "code",
    "id": "LYY_w67HwwFB"
   },
   "outputs": [],
   "source": [
    "from imblearn.over_sampling import SMOTE # doctest: +NORMALIZE_WHITESPACE\n",
    "from collections import Counter"
   ]
  },
  {
   "cell_type": "code",
   "execution_count": 25,
   "metadata": {
    "colab": {},
    "colab_type": "code",
    "id": "b7Hx5Ekpwx7V"
   },
   "outputs": [],
   "source": [
    "from imblearn.over_sampling import SMOTE\n",
    "from imblearn.under_sampling import RandomUnderSampler\n",
    "from imblearn.pipeline import Pipeline\n",
    "\n",
    "from imblearn.over_sampling import BorderlineSMOTE\n",
    "from imblearn.over_sampling import SVMSMOTE\n",
    "\n",
    "from imblearn.over_sampling import KMeansSMOTE\n",
    "over = SVMSMOTE(random_state=0)"
   ]
  },
  {
   "cell_type": "code",
   "execution_count": null,
   "metadata": {},
   "outputs": [],
   "source": []
  },
  {
   "cell_type": "code",
   "execution_count": 26,
   "metadata": {},
   "outputs": [
    {
     "name": "stdout",
     "output_type": "stream",
     "text": [
      "T-SNE took 0.92 s\n",
      "PCA took 0.003 s\n",
      "Truncated SVD took 0.003 s\n"
     ]
    },
    {
     "data": {
      "image/png": "[encoded data removed]",
      "text/plain": [
       "<Figure size 1728x432 with 2 Axes>"
      ]
     },
     "metadata": {
      "needs_background": "light"
     },
     "output_type": "display_data"
    }
   ],
   "source": [
    "import time\n",
    "\n",
    "from sklearn.manifold import TSNE\n",
    "from sklearn.decomposition import PCA, TruncatedSVD\n",
    "# New_df is from the random undersample data (fewer instances)\n",
    "X = raw2.drop('cgphq2', axis=1)\n",
    "y = raw2['cgphq2']\n",
    "\n",
    "\n",
    "# T-SNE Implementation\n",
    "t0 = time.time()\n",
    "X_reduced_tsne = TSNE(n_components=2, random_state=42).fit(X.values)\n",
    "t1 = time.time()\n",
    "print(\"T-SNE took {:.2} s\".format(t1 - t0))\n",
    "\n",
    "# PCA Implementation\n",
    "t0 = time.time()\n",
    "X_reduced_pca = PCA(n_components=2, random_state=42).fit_transform(X.values)\n",
    "t1 = time.time()\n",
    "print(\"PCA took {:.2} s\".format(t1 - t0))\n",
    "\n",
    "# TruncatedSVD\n",
    "t0 = time.time()\n",
    "X_reduced_svd = TruncatedSVD(n_components=2, algorithm='randomized', random_state=42).fit_transform(X.values)\n",
    "t1 = time.time()\n",
    "print(\"Truncated SVD took {:.2} s\".format(t1 - t0))\n",
    "\n",
    "import matplotlib.patches as mpatches\n",
    "f, (ax2, ax3) = plt.subplots(1, 2, figsize=(24,6))\n",
    "# labels = ['No Fraud', 'Fraud']\n",
    "f.suptitle('Clusters using Dimensionality Reduction', fontsize=14)\n",
    "\n",
    "\n",
    "blue_patch = mpatches.Patch(color='#0A0AFF', label='Negative')\n",
    "red_patch = mpatches.Patch(color='#AF0000', label='Positive')\n",
    "\n",
    "\n",
    "# # t-SNE scatter plot\n",
    "# ax1.scatter(X_reduced_tsne[:,0], X_reduced_tsne[:,1], c=(y == 0), cmap='coolwarm', label='No Fraud', linewidths=2)\n",
    "# ax1.scatter(X_reduced_tsne[:,0], X_reduced_tsne[:,1], c=(y == 1), cmap='coolwarm', label='Fraud', linewidths=2)\n",
    "# ax1.set_title('t-SNE', fontsize=14)\n",
    "\n",
    "# ax1.grid(True)\n",
    "\n",
    "# ax1.legend(handles=[blue_patch, red_patch])\n",
    "\n",
    "\n",
    "# PCA scatter plot\n",
    "ax2.scatter(X_reduced_pca[:,0], X_reduced_pca[:,1], c=(y == 0), cmap='coolwarm', label='Neg', linewidths=2)\n",
    "ax2.scatter(X_reduced_pca[:,0], X_reduced_pca[:,1], c=(y == 1), cmap='coolwarm', label='Pos', linewidths=2)\n",
    "ax2.set_title('PCA', fontsize=14)\n",
    "\n",
    "ax2.grid(True)\n",
    "\n",
    "ax2.legend(handles=[blue_patch, red_patch])\n",
    "\n",
    "# TruncatedSVD scatter plot\n",
    "ax3.scatter(X_reduced_svd[:,0], X_reduced_svd[:,1], c=(y == 0), cmap='coolwarm', label='Neg', linewidths=2)\n",
    "ax3.scatter(X_reduced_svd[:,0], X_reduced_svd[:,1], c=(y == 1), cmap='coolwarm', label='Pos', linewidths=2)\n",
    "ax3.set_title('Truncated SVD', fontsize=14)\n",
    "\n",
    "ax3.grid(True)\n",
    "\n",
    "ax3.legend(handles=[blue_patch, red_patch])\n",
    "\n",
    "plt.show()"
   ]
  },
  {
   "cell_type": "code",
   "execution_count": 27,
   "metadata": {
    "colab": {
     "base_uri": "https://localhost:8080/",
     "height": 51
    },
    "colab_type": "code",
    "id": "0qWXyxWbwzmz",
    "outputId": "790e7851-2a4c-4a5c-f406-5ffd4b05296a"
   },
   "outputs": [
    {
     "name": "stdout",
     "output_type": "stream",
     "text": [
      "[(0.0, 309), (1.0, 213)]\n"
     ]
    }
   ],
   "source": [
    "# X_train1,y_train1 = over.fit_sample(X,y)\n",
    "X_train1,y_train1 = over.fit_resample(X, y)\n",
    "print(sorted(Counter(y_train1).items()))"
   ]
  },
  {
   "cell_type": "code",
   "execution_count": 28,
   "metadata": {},
   "outputs": [],
   "source": [
    "\n",
    "# from imblearn.combine import SMOTETomek\n",
    "# # smote_tomek = SMOTETomek(random_state=0)\n",
    "\n",
    "# X_train3,y_train3= smote_tomek.fit_resample(X,y)\n",
    "\n",
    "# print(sorted(Counter(y_train3).items()))"
   ]
  },
  {
   "cell_type": "code",
   "execution_count": 29,
   "metadata": {},
   "outputs": [
    {
     "data": {
      "text/plain": [
       "(380, 31)"
      ]
     },
     "execution_count": 29,
     "metadata": {},
     "output_type": "execute_result"
    }
   ],
   "source": [
    "X.shape"
   ]
  },
  {
   "cell_type": "code",
   "execution_count": 30,
   "metadata": {},
   "outputs": [],
   "source": [
    "new_df=X_train1\n",
    "new_df['cgphq2']=y_train1\n"
   ]
  },
  {
   "cell_type": "code",
   "execution_count": 31,
   "metadata": {},
   "outputs": [
    {
     "name": "stdout",
     "output_type": "stream",
     "text": [
      "T-SNE took 1.2 s\n",
      "PCA took 0.003 s\n",
      "Truncated SVD took 0.002 s\n"
     ]
    }
   ],
   "source": [
    "import time\n",
    "\n",
    "from sklearn.manifold import TSNE\n",
    "from sklearn.decomposition import PCA, TruncatedSVD\n",
    "# New_df is from the random undersample data (fewer instances)\n",
    "X = new_df.drop('cgphq2', axis=1)\n",
    "y = new_df['cgphq2']\n",
    "# T-SNE Implementation\n",
    "t0 = time.time()\n",
    "X_reduced_tsne = TSNE(n_components=2, random_state=42).fit(X.values)\n",
    "t1 = time.time()\n",
    "print(\"T-SNE took {:.2} s\".format(t1 - t0))\n",
    "\n",
    "# PCA Implementation\n",
    "t0 = time.time()\n",
    "X_reduced_pca = PCA(n_components=2, random_state=42).fit_transform(X.values)\n",
    "t1 = time.time()\n",
    "print(\"PCA took {:.2} s\".format(t1 - t0))\n",
    "\n",
    "# TruncatedSVD\n",
    "t0 = time.time()\n",
    "X_reduced_svd = TruncatedSVD(n_components=2, algorithm='randomized', random_state=42).fit_transform(X.values)\n",
    "t1 = time.time()\n",
    "print(\"Truncated SVD took {:.2} s\".format(t1 - t0))"
   ]
  },
  {
   "cell_type": "code",
   "execution_count": 32,
   "metadata": {},
   "outputs": [
    {
     "data": {
      "image/png": "[encoded data removed]",
      "text/plain": [
       "<Figure size 1728x432 with 2 Axes>"
      ]
     },
     "metadata": {
      "needs_background": "light"
     },
     "output_type": "display_data"
    }
   ],
   "source": [
    "\n",
    "import matplotlib.patches as mpatches\n",
    "f, (ax2, ax3) = plt.subplots(1, 2, figsize=(24,6))\n",
    "# labels = ['No Fraud', 'Fraud']\n",
    "f.suptitle('Clusters using Dimensionality Reduction', fontsize=14)\n",
    "\n",
    "\n",
    "blue_patch = mpatches.Patch(color='#0A0AFF', label='Negative')\n",
    "red_patch = mpatches.Patch(color='#AF0000', label='Positive')\n",
    "\n",
    "\n",
    "# # t-SNE scatter plot\n",
    "# ax1.scatter(X_reduced_tsne[:,0], X_reduced_tsne[:,1], c=(y == 0), cmap='coolwarm', label='No Fraud', linewidths=2)\n",
    "# ax1.scatter(X_reduced_tsne[:,0], X_reduced_tsne[:,1], c=(y == 1), cmap='coolwarm', label='Fraud', linewidths=2)\n",
    "# ax1.set_title('t-SNE', fontsize=14)\n",
    "\n",
    "# ax1.grid(True)\n",
    "\n",
    "# ax1.legend(handles=[blue_patch, red_patch])\n",
    "\n",
    "\n",
    "# PCA scatter plot\n",
    "ax2.scatter(X_reduced_pca[:,0], X_reduced_pca[:,1], c=(y == 0), cmap='coolwarm', label='Negative', linewidths=2)\n",
    "ax2.scatter(X_reduced_pca[:,0], X_reduced_pca[:,1], c=(y == 1), cmap='coolwarm', label='Positive', linewidths=2)\n",
    "ax2.set_title('PCA', fontsize=14)\n",
    "\n",
    "ax2.grid(True)\n",
    "\n",
    "ax2.legend(handles=[blue_patch, red_patch])\n",
    "\n",
    "# TruncatedSVD scatter plot\n",
    "ax3.scatter(X_reduced_svd[:,0], X_reduced_svd[:,1], c=(y == 0), cmap='coolwarm', label='Negative', linewidths=2)\n",
    "ax3.scatter(X_reduced_svd[:,0], X_reduced_svd[:,1], c=(y == 1), cmap='coolwarm', label='Positive', linewidths=2)\n",
    "ax3.set_title('Truncated SVD', fontsize=14)\n",
    "\n",
    "ax3.grid(True)\n",
    "\n",
    "ax3.legend(handles=[blue_patch, red_patch])\n",
    "\n",
    "plt.show()"
   ]
  },
  {
   "cell_type": "code",
   "execution_count": 33,
   "metadata": {
    "colab": {
     "base_uri": "https://localhost:8080/",
     "height": 34
    },
    "colab_type": "code",
    "id": "_pR5D4M-w7Jv",
    "outputId": "28a5e473-4bbe-4715-c4ba-aa0863d6b4ae"
   },
   "outputs": [],
   "source": [
    "# from numpy import mean\n",
    "# from sklearn.model_selection import cross_val_score\n",
    "# from sklearn.model_selection import RepeatedStratifiedKFold\n",
    "# from sklearn.tree import DecisionTreeClassifier\n",
    "\n",
    "# # define model\n",
    "# model1 = DecisionTreeClassifier()\n",
    "# # evaluate pipeline\n",
    "# cv = RepeatedStratifiedKFold(n_splits=10, n_repeats=3, random_state=1)\n",
    "# scores = cross_val_score(model1, X_train, y_train, scoring='accuracy', cv=cv, n_jobs=-1)\n",
    "# print('Mean ROC AUC: %.3f' % mean(scores))\n",
    "X = raw1[['Age', 'Gender', 'Living', 'TTC5', 'TTC6a', 'TTC6b', 'TTC6c',\n",
    "       'TTC6d', 'distress', 'ImpairedPolypharmacy', 'cognition',\n",
    "       'nutrition', 'phy_performance', 'function', 'ImpairedCom',\n",
    "       'psychological', 'ImpairedMS', 'calcimpairedCom',  'Control',\n",
    "       'incomecat_1.0', 'incomecat_2.0', 'gradecat_1.0',\n",
    "       'gradecat_2.0', 'relationship_cat_1.0', 'relationship_cat_2.0',\n",
    "       'race_cat_1.0', 'race_cat_2.0', 'TTC3_1.0', 'TTC3_2.0',\n",
    "       'GI_Lung_1.0', 'GI_Lung_2.0']]\n",
    "y = raw1['cgphq2']\n",
    "X_train, X_test, y_train, y_test = train_test_split(X, y, test_size=0.25, random_state=42,stratify=y)#####42"
   ]
  },
  {
   "cell_type": "markdown",
   "metadata": {},
   "source": [
    "# SVM"
   ]
  },
  {
   "cell_type": "code",
   "execution_count": 34,
   "metadata": {},
   "outputs": [
    {
     "name": "stdout",
     "output_type": "stream",
     "text": [
      "[0.1, 0.2, 0.30000000000000004, 0.4, 0.5, 0.6, 0.7000000000000001, 0.8, 0.9, 1.0, 0.01, 0.02, 0.03, 0.04, 0.05, 0.060000000000000005, 0.06999999999999999, 0.08, 0.09, 0.001, 0.002, 0.003, 0.004, 0.005, 0.006, 0.007, 0.008, 0.009000000000000001]\n"
     ]
    }
   ],
   "source": [
    "C = []\n",
    "for i in range(25,101):\n",
    "    C.append(i)\n",
    "\n",
    "\n",
    "c = []\n",
    "for j in np.arange(0.1, 1.1, 0.1):\n",
    "    c.append(j)\n",
    "\n",
    "for k in np.arange(0.01, 0.1, 0.01):\n",
    "    c.append(k)   \n",
    "    \n",
    "\n",
    "for i in np.arange(0.001, 0.01, 0.001):\n",
    "    c.append(i)\n",
    "\n",
    "    \n",
    "print(c)"
   ]
  },
  {
   "cell_type": "code",
   "execution_count": 35,
   "metadata": {},
   "outputs": [
    {
     "name": "stdout",
     "output_type": "stream",
     "text": [
      "[0.000244140625, 0.00048828125, 0.0009765625, 0.001953125, 0.00390625, 0.0078125, 0.015625, 0.03125, 0.0625, 0.125, 0.25, 0.5, 1, 2, 4, 8, 16, 32, 64, 128, 256, 512, 1024, 2048]\n"
     ]
    }
   ],
   "source": [
    "c=[]\n",
    "for i in range(-12,12):\n",
    "    c.append(2**i)\n",
    "gamma=[]\n",
    "for j in range(-12,12):\n",
    "    gamma.append(2**j)\n",
    "print(c)"
   ]
  },
  {
   "cell_type": "code",
   "execution_count": 36,
   "metadata": {},
   "outputs": [
    {
     "name": "stdout",
     "output_type": "stream",
     "text": [
      "Fitting 5 folds for each of 576 candidates, totalling 2880 fits\n"
     ]
    },
    {
     "name": "stderr",
     "output_type": "stream",
     "text": [
      "[Parallel(n_jobs=-1)]: Using backend LokyBackend with 12 concurrent workers.\n",
      "[Parallel(n_jobs=-1)]: Done  48 tasks      | elapsed:    4.9s\n",
      "[Parallel(n_jobs=-1)]: Done 585 tasks      | elapsed:    6.7s\n",
      "[Parallel(n_jobs=-1)]: Done 1845 tasks      | elapsed:   10.7s\n",
      "[Parallel(n_jobs=-1)]: Done 2880 out of 2880 | elapsed:   14.4s finished\n"
     ]
    },
    {
     "data": {
      "text/plain": [
       "{'svm__C': 16, 'svm__gamma': 0.00048828125}"
      ]
     },
     "execution_count": 36,
     "metadata": {},
     "output_type": "execute_result"
    }
   ],
   "source": [
    "X_train, X_test, y_train, y_test = train_test_split(X, y, test_size=0.25, random_state=42,stratify=y)#####42\n",
    "from sklearn.svm import SVC\n",
    "modelsvmf1 = Pipeline([\n",
    "        ('svm',  SVC(random_state=42,probability=True,class_weight = {0:1,1:(309/71)}))\n",
    "    ])\n",
    "\n",
    "\n",
    "# modelsvm = SVC(random_state=42, verbose=2,kernel='rbf')\n",
    "\n",
    "from sklearn.model_selection import GridSearchCV\n",
    "\n",
    "\n",
    "\n",
    "param_gridsvmf1 = {'svm__C': c, \n",
    "\n",
    "              'svm__gamma': gamma}  \n",
    "  \n",
    "\n",
    "\n",
    "svmgridsearchf1 = GridSearchCV(estimator=modelsvmf1, param_grid=param_gridsvmf1, n_jobs=-1, \n",
    "                             cv=5, verbose=5, return_train_score=True,scoring=\"f1\")\n",
    "\n",
    "\n",
    "svmgridsearchf1.fit(X_train, y_train)\n",
    "svmgridsearchf1.best_score_\n",
    "svmgridsearchf1.best_params_"
   ]
  },
  {
   "cell_type": "code",
   "execution_count": 37,
   "metadata": {},
   "outputs": [
    {
     "data": {
      "text/plain": [
       "0.370547276478311"
      ]
     },
     "execution_count": 37,
     "metadata": {},
     "output_type": "execute_result"
    }
   ],
   "source": [
    "svmgridsearchf1.best_score_"
   ]
  },
  {
   "cell_type": "code",
   "execution_count": 38,
   "metadata": {},
   "outputs": [
    {
     "name": "stdout",
     "output_type": "stream",
     "text": [
      "[[39 38]\n",
      " [ 4 14]]\n"
     ]
    }
   ],
   "source": [
    "# Visualise classical Confusion M0atrix\n",
    "from sklearn.metrics import confusion_matrix\n",
    "rfsmotey = svmgridsearchf1.predict(X_test)\n",
    "CM = confusion_matrix(y_test, rfsmotey)\n",
    "print(CM)"
   ]
  },
  {
   "cell_type": "code",
   "execution_count": 39,
   "metadata": {},
   "outputs": [
    {
     "name": "stdout",
     "output_type": "stream",
     "text": [
      "Best Threshold=0.180018\n",
      "[[34 43]\n",
      " [ 2 16]]\n"
     ]
    }
   ],
   "source": [
    "from sklearn.metrics import confusion_matrix\n",
    "\n",
    "from sklearn.metrics import roc_curve\n",
    "\n",
    "def get_best_threshold(testy,yhat):\n",
    "    fpr, tpr, thresholds = roc_curve(testy, yhat)\n",
    "    # get the best threshold\n",
    "    J = tpr - fpr\n",
    "    ix = np.argmax(J)\n",
    "    best_thresh = thresholds[ix]\n",
    "    print('Best Threshold=%f' % (best_thresh))\n",
    "    return best_thresh\n",
    "\n",
    "\n",
    "\n",
    "rfrr= svmgridsearchf1.predict_proba(X_test)\n",
    "rfrr_thres=get_best_threshold(y_test,rfrr[:,1])\n",
    "rfrr=(rfrr[:,1]>=rfrr_thres).astype(int)\n",
    "rfrr_cm = confusion_matrix(y_test,rfrr)\n",
    "print(rfrr_cm)"
   ]
  },
  {
   "cell_type": "code",
   "execution_count": 40,
   "metadata": {},
   "outputs": [
    {
     "name": "stdout",
     "output_type": "stream",
     "text": [
      "[[47 30]\n",
      " [ 7 11]]\n"
     ]
    }
   ],
   "source": [
    "from sklearn.metrics import confusion_matrix\n",
    "lgrres = svmgridsearchf1.predict_proba(X_test)\n",
    "lgrres=(lgrres[:,1]>=0.215).astype(int)\n",
    "CMlgr = confusion_matrix(y_test, lgrres)\n",
    "print(CMlgr)"
   ]
  },
  {
   "cell_type": "markdown",
   "metadata": {},
   "source": [
    "# Using Lime to show case how to interpret results (SVM example）"
   ]
  },
  {
   "cell_type": "code",
   "execution_count": 41,
   "metadata": {},
   "outputs": [
    {
     "name": "stderr",
     "output_type": "stream",
     "text": [
      "[Parallel(n_jobs=-1)]: Using backend LokyBackend with 12 concurrent workers.\n"
     ]
    },
    {
     "name": "stdout",
     "output_type": "stream",
     "text": [
      "Fitting 5 folds for each of 576 candidates, totalling 2880 fits\n"
     ]
    },
    {
     "name": "stderr",
     "output_type": "stream",
     "text": [
      "[Parallel(n_jobs=-1)]: Done 312 tasks      | elapsed:    1.0s\n",
      "[Parallel(n_jobs=-1)]: Done 1392 tasks      | elapsed:    4.5s\n",
      "[Parallel(n_jobs=-1)]: Done 2880 out of 2880 | elapsed:    9.5s finished\n"
     ]
    },
    {
     "data": {
      "text/plain": [
       "{'svm__C': 16, 'svm__gamma': 0.000244140625}"
      ]
     },
     "execution_count": 41,
     "metadata": {},
     "output_type": "execute_result"
    }
   ],
   "source": [
    "X_train, X_test, y_train, y_test = train_test_split(X, y, test_size=0.25, random_state=42,stratify=y)#####42\n",
    "from sklearn.svm import SVC\n",
    "modelsvmf1 = Pipeline([\n",
    "        ('svm',  SVC(random_state=42,probability=True,class_weight = {0:1,1:3.937}))\n",
    "    ])\n",
    "\n",
    "\n",
    "# modelsvm = SVC(random_state=42, verbose=2,kernel='rbf')\n",
    "\n",
    "from sklearn.model_selection import GridSearchCV\n",
    "\n",
    "\n",
    "\n",
    "param_gridsvmf1 = {'svm__C': c, \n",
    "\n",
    "              'svm__gamma': gamma}  \n",
    "  \n",
    "\n",
    "\n",
    "svmgridsearchf1 = GridSearchCV(estimator=modelsvmf1, param_grid=param_gridsvmf1, n_jobs=-1, \n",
    "                             cv=5, verbose=5, return_train_score=True,scoring=\"f1\")\n",
    "\n",
    "\n",
    "svmgridsearchf1.fit(X_train, y_train)\n",
    "svmgridsearchf1.best_score_\n",
    "svmgridsearchf1.best_params_"
   ]
  },
  {
   "cell_type": "code",
   "execution_count": 42,
   "metadata": {},
   "outputs": [
    {
     "data": {
      "text/plain": [
       "0.3638675541901349"
      ]
     },
     "execution_count": 42,
     "metadata": {},
     "output_type": "execute_result"
    }
   ],
   "source": [
    "svmgridsearchf1.best_score_"
   ]
  },
  {
   "cell_type": "code",
   "execution_count": 43,
   "metadata": {},
   "outputs": [
    {
     "name": "stdout",
     "output_type": "stream",
     "text": [
      "[[50 27]\n",
      " [ 4 14]]\n"
     ]
    }
   ],
   "source": [
    "# Visualise classical Confusion M0atrix\n",
    "from sklearn.metrics import confusion_matrix\n",
    "rfsmotey = svmgridsearchf1.predict(X_test)\n",
    "CM = confusion_matrix(y_test, rfsmotey)\n",
    "print(CM)"
   ]
  },
  {
   "cell_type": "code",
   "execution_count": 44,
   "metadata": {},
   "outputs": [
    {
     "data": {
      "text/plain": [
       "Age                     71.0\n",
       "Gender                   0.0\n",
       "Living                   2.0\n",
       "TTC5                     0.0\n",
       "TTC6a                    0.0\n",
       "TTC6b                    1.0\n",
       "TTC6c                    0.0\n",
       "TTC6d                    0.0\n",
       "distress                 0.0\n",
       "ImpairedPolypharmacy     1.0\n",
       "cognition                0.0\n",
       "nutrition                0.0\n",
       "phy_performance          0.0\n",
       "function                 0.0\n",
       "ImpairedCom              1.0\n",
       "psychological            0.0\n",
       "ImpairedMS               0.0\n",
       "calcimpairedCom          1.0\n",
       "Control                  0.0\n",
       "incomecat_1.0            1.0\n",
       "incomecat_2.0            0.0\n",
       "gradecat_1.0             0.0\n",
       "gradecat_2.0             1.0\n",
       "relationship_cat_1.0     1.0\n",
       "relationship_cat_2.0     0.0\n",
       "race_cat_1.0             1.0\n",
       "race_cat_2.0             0.0\n",
       "TTC3_1.0                 0.0\n",
       "TTC3_2.0                 1.0\n",
       "GI_Lung_1.0              0.0\n",
       "GI_Lung_2.0              0.0\n",
       "Name: 257, dtype: float64"
      ]
     },
     "execution_count": 44,
     "metadata": {},
     "output_type": "execute_result"
    }
   ],
   "source": [
    "X_test.iloc[5]"
   ]
  },
  {
   "cell_type": "code",
   "execution_count": 45,
   "metadata": {},
   "outputs": [
    {
     "data": {
      "text/plain": [
       "1.0"
      ]
     },
     "execution_count": 45,
     "metadata": {},
     "output_type": "execute_result"
    }
   ],
   "source": [
    "y_test.iloc[5]"
   ]
  },
  {
   "cell_type": "code",
   "execution_count": 46,
   "metadata": {},
   "outputs": [
    {
     "name": "stdout",
     "output_type": "stream",
     "text": [
      "[0.] vs 0.0index0\n",
      "[0.] vs 0.0index1\n",
      "[0.] vs 0.0index2\n",
      "[1.] vs 0.0index3\n",
      "[1.] vs 1.0index4\n",
      "[0.] vs 1.0index5\n",
      "[0.] vs 0.0index6\n",
      "[1.] vs 1.0index7\n",
      "[1.] vs 0.0index8\n",
      "[0.] vs 0.0index9\n",
      "[0.] vs 0.0index10\n",
      "[1.] vs 0.0index11\n",
      "[0.] vs 0.0index12\n",
      "[0.] vs 0.0index13\n",
      "[1.] vs 0.0index14\n",
      "[1.] vs 1.0index15\n",
      "[1.] vs 0.0index16\n",
      "[0.] vs 0.0index17\n",
      "[1.] vs 1.0index18\n",
      "[0.] vs 0.0index19\n",
      "[1.] vs 1.0index20\n",
      "[1.] vs 0.0index21\n",
      "[1.] vs 1.0index22\n",
      "[1.] vs 0.0index23\n",
      "[1.] vs 0.0index24\n",
      "[0.] vs 0.0index25\n",
      "[0.] vs 0.0index26\n",
      "[0.] vs 0.0index27\n",
      "[1.] vs 0.0index28\n",
      "[0.] vs 0.0index29\n",
      "[0.] vs 0.0index30\n",
      "[0.] vs 0.0index31\n",
      "[0.] vs 0.0index32\n",
      "[1.] vs 0.0index33\n",
      "[1.] vs 1.0index34\n",
      "[0.] vs 0.0index35\n",
      "[1.] vs 0.0index36\n",
      "[0.] vs 0.0index37\n",
      "[0.] vs 0.0index38\n",
      "[1.] vs 0.0index39\n",
      "[0.] vs 0.0index40\n",
      "[0.] vs 0.0index41\n",
      "[0.] vs 0.0index42\n",
      "[0.] vs 0.0index43\n",
      "[1.] vs 1.0index44\n",
      "[1.] vs 1.0index45\n",
      "[0.] vs 0.0index46\n",
      "[0.] vs 1.0index47\n",
      "[1.] vs 0.0index48\n",
      "[1.] vs 1.0index49\n",
      "[1.] vs 1.0index50\n",
      "[0.] vs 0.0index51\n",
      "[1.] vs 0.0index52\n",
      "[1.] vs 1.0index53\n",
      "[0.] vs 0.0index54\n",
      "[1.] vs 1.0index55\n",
      "[0.] vs 0.0index56\n",
      "[0.] vs 1.0index57\n",
      "[0.] vs 0.0index58\n",
      "[0.] vs 0.0index59\n",
      "[0.] vs 0.0index60\n",
      "[1.] vs 0.0index61\n",
      "[1.] vs 0.0index62\n",
      "[0.] vs 0.0index63\n",
      "[1.] vs 0.0index64\n",
      "[0.] vs 0.0index65\n",
      "[1.] vs 1.0index66\n",
      "[0.] vs 0.0index67\n",
      "[0.] vs 0.0index68\n",
      "[0.] vs 0.0index69\n",
      "[0.] vs 0.0index70\n",
      "[0.] vs 0.0index71\n",
      "[0.] vs 0.0index72\n",
      "[0.] vs 0.0index73\n",
      "[0.] vs 0.0index74\n",
      "[1.] vs 0.0index75\n",
      "[0.] vs 0.0index76\n",
      "[0.] vs 0.0index77\n",
      "[1.] vs 0.0index78\n",
      "[0.] vs 0.0index79\n",
      "[1.] vs 0.0index80\n",
      "[1.] vs 0.0index81\n",
      "[0.] vs 0.0index82\n",
      "[0.] vs 0.0index83\n",
      "[1.] vs 0.0index84\n",
      "[0.] vs 0.0index85\n",
      "[0.] vs 0.0index86\n",
      "[0.] vs 0.0index87\n",
      "[0.] vs 0.0index88\n",
      "[1.] vs 0.0index89\n",
      "[1.] vs 0.0index90\n",
      "[1.] vs 0.0index91\n",
      "[1.] vs 0.0index92\n",
      "[0.] vs 1.0index93\n",
      "[1.] vs 0.0index94\n"
     ]
    }
   ],
   "source": [
    "for i in range(X_test.shape[0]):\n",
    "    print(str(svmgridsearchf1.predict(X_test.iloc[i].values.reshape(1, -1)))+\" vs \"+str(y_test.iloc[i])+\"index\"+str(i))"
   ]
  },
  {
   "cell_type": "code",
   "execution_count": 49,
   "metadata": {},
   "outputs": [
    {
     "name": "stdout",
     "output_type": "stream",
     "text": [
      "No Skill: ROC AUC=0.500\n",
      "svm: ROC AUC=0.707\n"
     ]
    },
    {
     "data": {
      "image/png": "[encoded data removed]",
      "text/plain": [
       "<Figure size 432x288 with 1 Axes>"
      ]
     },
     "metadata": {
      "needs_background": "light"
     },
     "output_type": "display_data"
    }
   ],
   "source": [
    "from sklearn.datasets import make_classification\n",
    "from sklearn.linear_model import LogisticRegression\n",
    "from sklearn.model_selection import train_test_split\n",
    "from sklearn.metrics import roc_curve\n",
    "from sklearn.metrics import roc_auc_score\n",
    "from matplotlib import pyplot\n",
    "# generate 2 class dataset\n",
    "ns_probs = [0 for _ in range(len(y_test))]\n",
    "lr_probssvm = svmgridsearchf1.predict_proba(X_test)\n",
    "\n",
    "# keep probabilities for the positive outcome only\n",
    "lr_probssvm = lr_probssvm[:, 1]\n",
    "# calculate scores\n",
    "ns_auc = roc_auc_score(y_test, ns_probs)\n",
    "svm_auc = roc_auc_score(y_test, lr_probssvm)\n",
    "# summarize scores\n",
    "print('No Skill: ROC AUC=%.3f' % (ns_auc))\n",
    "\n",
    "print('svm: ROC AUC=%.3f' % (svm_auc))\n",
    "# calculate roc curves\n",
    "ns_fpr, ns_tpr, _ = roc_curve(y_test, ns_probs)\n",
    "svm_fpr, svm_tpr, _ = roc_curve(y_test, lr_probssvm)\n",
    "# plot the roc curve for the model\n",
    "pyplot.plot(ns_fpr, ns_tpr, linestyle='--', label='No Skill')\n",
    "pyplot.plot(svm_fpr, svm_tpr, marker='.', label='svm')\n",
    "# axis labels\n",
    "pyplot.xlabel('False Positive Rate')\n",
    "pyplot.ylabel('True Positive Rate')\n",
    "# show the legend\n",
    "pyplot.legend()\n",
    "# show the plot\n",
    "pyplot.show()"
   ]
  },
  {
   "cell_type": "code",
   "execution_count": 50,
   "metadata": {},
   "outputs": [],
   "source": [
    "from __future__ import print_function\n",
    "import sklearn\n",
    "import sklearn.datasets\n",
    "import sklearn.ensemble\n",
    "\n",
    "import numpy as np\n",
    "import lime\n",
    "import lime.lime_tabular"
   ]
  },
  {
   "cell_type": "code",
   "execution_count": 51,
   "metadata": {},
   "outputs": [],
   "source": [
    "from __future__ import print_function\n",
    "import ipywidgets as widgets  \n",
    "from ipywidgets import interact, interactive, fixed, interact_manual\n",
    "import ipywidgets as widgets"
   ]
  },
  {
   "cell_type": "code",
   "execution_count": null,
   "metadata": {},
   "outputs": [],
   "source": []
  },
  {
   "cell_type": "code",
   "execution_count": 52,
   "metadata": {},
   "outputs": [
    {
     "data": {
      "text/plain": [
       "array([ True])"
      ]
     },
     "execution_count": 52,
     "metadata": {},
     "output_type": "execute_result"
    }
   ],
   "source": [
    "svmgridsearchf1.predict(X_test.iloc[i].values.reshape(1, -1))==1"
   ]
  },
  {
   "cell_type": "code",
   "execution_count": 53,
   "metadata": {},
   "outputs": [],
   "source": [
    "def actualy(i):\n",
    "    if y_test.iloc[i]==1:\n",
    "        return \"depressed\"\n",
    "    else:\n",
    "        return \"healthy\""
   ]
  },
  {
   "cell_type": "code",
   "execution_count": 54,
   "metadata": {},
   "outputs": [],
   "source": [
    "l1=['Age', 'Gender', 'Living', 'TTC5', 'TTC6a', 'TTC6b', 'TTC6c',\n",
    "       'TTC6d', 'Patient Distress', 'ImpairedPolypharmacy', 'cognition',\n",
    "       'Impaired Nutrition', 'phy_performance', 'Impaired Function', 'ImpairedCom',\n",
    "       'psychological', 'ImpairedMS', 'CG comorbidity',  'Control',\n",
    "       'incomecat_1.0', 'incomecat_2.0', 'gradecat_1.0',\n",
    "       'gradecat_2.0', 'relationship_cat_1.0', 'relationship_cat_2.0',\n",
    "       'race_cat_1.0', 'race_cat_2.0', 'TTC3_1.0', 'TTC3_2.0',\n",
    "       'GI_Lung_1.0', 'GI_Lung_2.0']\n",
    "l2=['Gender', 'Living', 'TTC5', 'TTC6a', 'TTC6b', 'TTC6c',\n",
    "       'TTC6d', 'Patient Distress', 'ImpairedPolypharmacy', 'cognition',\n",
    "       'Impaired Nutrition', 'phy_performance', 'Impaired Function', 'ImpairedCom',\n",
    "       'psychological', 'ImpairedMS', 'CG comorbidity',  'Control',\n",
    "       'incomecat_1.0', 'incomecat_2.0', 'gradecat_1.0',\n",
    "       'gradecat_2.0', 'relationship_cat_1.0', 'relationship_cat_2.0',\n",
    "       'race_cat_1.0', 'race_cat_2.0', 'TTC3_1.0', 'TTC3_2.0',\n",
    "       'GI_Lung_1.0', 'GI_Lung_2.0']"
   ]
  },
  {
   "cell_type": "code",
   "execution_count": null,
   "metadata": {},
   "outputs": [],
   "source": []
  },
  {
   "cell_type": "code",
   "execution_count": 55,
   "metadata": {},
   "outputs": [],
   "source": [
    "pd.set_option('display.max_columns',50)"
   ]
  },
  {
   "cell_type": "code",
   "execution_count": 56,
   "metadata": {},
   "outputs": [
    {
     "data": {
      "text/plain": [
       "(285, 31)"
      ]
     },
     "execution_count": 56,
     "metadata": {},
     "output_type": "execute_result"
    }
   ],
   "source": [
    "X_train.values.shape"
   ]
  },
  {
   "cell_type": "code",
   "execution_count": 57,
   "metadata": {},
   "outputs": [],
   "source": [
    "a=X_test.iloc[i].values.reshape(1, -1)"
   ]
  },
  {
   "cell_type": "code",
   "execution_count": 58,
   "metadata": {},
   "outputs": [
    {
     "data": {
      "text/plain": [
       "(1, 31)"
      ]
     },
     "execution_count": 58,
     "metadata": {},
     "output_type": "execute_result"
    }
   ],
   "source": [
    "a.shape"
   ]
  },
  {
   "cell_type": "code",
   "execution_count": 59,
   "metadata": {},
   "outputs": [
    {
     "data": {
      "text/plain": [
       "array([[0.71396556, 0.28603444]])"
      ]
     },
     "execution_count": 59,
     "metadata": {},
     "output_type": "execute_result"
    }
   ],
   "source": [
    "svmgridsearchf1.best_estimator_.predict_proba(a)"
   ]
  },
  {
   "cell_type": "code",
   "execution_count": 60,
   "metadata": {},
   "outputs": [
    {
     "data": {
      "text/html": [
       "<div>\n",
       "<style scoped>\n",
       "    .dataframe tbody tr th:only-of-type {\n",
       "        vertical-align: middle;\n",
       "    }\n",
       "\n",
       "    .dataframe tbody tr th {\n",
       "        vertical-align: top;\n",
       "    }\n",
       "\n",
       "    .dataframe thead th {\n",
       "        text-align: right;\n",
       "    }\n",
       "</style>\n",
       "<table border=\"1\" class=\"dataframe\">\n",
       "  <thead>\n",
       "    <tr style=\"text-align: right;\">\n",
       "      <th></th>\n",
       "      <th>Age</th>\n",
       "      <th>Gender</th>\n",
       "      <th>Living</th>\n",
       "      <th>TTC5</th>\n",
       "      <th>TTC6a</th>\n",
       "      <th>TTC6b</th>\n",
       "      <th>TTC6c</th>\n",
       "      <th>TTC6d</th>\n",
       "      <th>distress</th>\n",
       "      <th>ImpairedPolypharmacy</th>\n",
       "      <th>cognition</th>\n",
       "      <th>nutrition</th>\n",
       "      <th>phy_performance</th>\n",
       "      <th>function</th>\n",
       "      <th>ImpairedCom</th>\n",
       "      <th>psychological</th>\n",
       "      <th>ImpairedMS</th>\n",
       "      <th>calcimpairedCom</th>\n",
       "      <th>Control</th>\n",
       "      <th>incomecat_1.0</th>\n",
       "      <th>incomecat_2.0</th>\n",
       "      <th>gradecat_1.0</th>\n",
       "      <th>gradecat_2.0</th>\n",
       "      <th>relationship_cat_1.0</th>\n",
       "      <th>relationship_cat_2.0</th>\n",
       "      <th>race_cat_1.0</th>\n",
       "      <th>race_cat_2.0</th>\n",
       "      <th>TTC3_1.0</th>\n",
       "      <th>TTC3_2.0</th>\n",
       "      <th>GI_Lung_1.0</th>\n",
       "      <th>GI_Lung_2.0</th>\n",
       "    </tr>\n",
       "  </thead>\n",
       "  <tbody>\n",
       "    <tr>\n",
       "      <td>count</td>\n",
       "      <td>285.000000</td>\n",
       "      <td>285.000000</td>\n",
       "      <td>285.000000</td>\n",
       "      <td>285.000000</td>\n",
       "      <td>285.000000</td>\n",
       "      <td>285.000000</td>\n",
       "      <td>285.000000</td>\n",
       "      <td>285.000000</td>\n",
       "      <td>285.000000</td>\n",
       "      <td>285.000000</td>\n",
       "      <td>285.000000</td>\n",
       "      <td>285.000000</td>\n",
       "      <td>285.000000</td>\n",
       "      <td>285.000000</td>\n",
       "      <td>285.000000</td>\n",
       "      <td>285.000000</td>\n",
       "      <td>285.000000</td>\n",
       "      <td>285.000000</td>\n",
       "      <td>285.000000</td>\n",
       "      <td>285.000000</td>\n",
       "      <td>285.000000</td>\n",
       "      <td>285.000000</td>\n",
       "      <td>285.000000</td>\n",
       "      <td>285.000000</td>\n",
       "      <td>285.000000</td>\n",
       "      <td>285.000000</td>\n",
       "      <td>285.000000</td>\n",
       "      <td>285.000000</td>\n",
       "      <td>285.000000</td>\n",
       "      <td>285.000000</td>\n",
       "      <td>285.000000</td>\n",
       "    </tr>\n",
       "    <tr>\n",
       "      <td>mean</td>\n",
       "      <td>66.536842</td>\n",
       "      <td>0.266667</td>\n",
       "      <td>1.536842</td>\n",
       "      <td>0.698246</td>\n",
       "      <td>0.217544</td>\n",
       "      <td>0.157895</td>\n",
       "      <td>0.189474</td>\n",
       "      <td>0.108772</td>\n",
       "      <td>0.340351</td>\n",
       "      <td>0.835088</td>\n",
       "      <td>0.322807</td>\n",
       "      <td>0.596491</td>\n",
       "      <td>0.943860</td>\n",
       "      <td>0.596491</td>\n",
       "      <td>0.614035</td>\n",
       "      <td>0.259649</td>\n",
       "      <td>0.228070</td>\n",
       "      <td>0.382456</td>\n",
       "      <td>0.470175</td>\n",
       "      <td>0.368421</td>\n",
       "      <td>0.452632</td>\n",
       "      <td>0.077193</td>\n",
       "      <td>0.284211</td>\n",
       "      <td>0.670175</td>\n",
       "      <td>0.217544</td>\n",
       "      <td>0.901754</td>\n",
       "      <td>0.056140</td>\n",
       "      <td>0.073684</td>\n",
       "      <td>0.894737</td>\n",
       "      <td>0.235088</td>\n",
       "      <td>0.256140</td>\n",
       "    </tr>\n",
       "    <tr>\n",
       "      <td>std</td>\n",
       "      <td>12.807192</td>\n",
       "      <td>0.442995</td>\n",
       "      <td>0.520235</td>\n",
       "      <td>0.459827</td>\n",
       "      <td>0.413301</td>\n",
       "      <td>0.365284</td>\n",
       "      <td>0.392574</td>\n",
       "      <td>0.311901</td>\n",
       "      <td>0.474661</td>\n",
       "      <td>0.371754</td>\n",
       "      <td>0.468372</td>\n",
       "      <td>0.491464</td>\n",
       "      <td>0.230597</td>\n",
       "      <td>0.491464</td>\n",
       "      <td>0.487679</td>\n",
       "      <td>0.439213</td>\n",
       "      <td>0.420326</td>\n",
       "      <td>0.486842</td>\n",
       "      <td>0.499988</td>\n",
       "      <td>0.483225</td>\n",
       "      <td>0.498627</td>\n",
       "      <td>0.267367</td>\n",
       "      <td>0.451831</td>\n",
       "      <td>0.470976</td>\n",
       "      <td>0.413301</td>\n",
       "      <td>0.298170</td>\n",
       "      <td>0.230597</td>\n",
       "      <td>0.261716</td>\n",
       "      <td>0.307432</td>\n",
       "      <td>0.424800</td>\n",
       "      <td>0.437268</td>\n",
       "    </tr>\n",
       "    <tr>\n",
       "      <td>min</td>\n",
       "      <td>26.000000</td>\n",
       "      <td>0.000000</td>\n",
       "      <td>1.000000</td>\n",
       "      <td>0.000000</td>\n",
       "      <td>0.000000</td>\n",
       "      <td>0.000000</td>\n",
       "      <td>0.000000</td>\n",
       "      <td>0.000000</td>\n",
       "      <td>0.000000</td>\n",
       "      <td>0.000000</td>\n",
       "      <td>0.000000</td>\n",
       "      <td>0.000000</td>\n",
       "      <td>0.000000</td>\n",
       "      <td>0.000000</td>\n",
       "      <td>0.000000</td>\n",
       "      <td>0.000000</td>\n",
       "      <td>0.000000</td>\n",
       "      <td>0.000000</td>\n",
       "      <td>0.000000</td>\n",
       "      <td>0.000000</td>\n",
       "      <td>0.000000</td>\n",
       "      <td>0.000000</td>\n",
       "      <td>0.000000</td>\n",
       "      <td>0.000000</td>\n",
       "      <td>0.000000</td>\n",
       "      <td>0.000000</td>\n",
       "      <td>0.000000</td>\n",
       "      <td>0.000000</td>\n",
       "      <td>0.000000</td>\n",
       "      <td>0.000000</td>\n",
       "      <td>0.000000</td>\n",
       "    </tr>\n",
       "    <tr>\n",
       "      <td>25%</td>\n",
       "      <td>58.000000</td>\n",
       "      <td>0.000000</td>\n",
       "      <td>1.000000</td>\n",
       "      <td>0.000000</td>\n",
       "      <td>0.000000</td>\n",
       "      <td>0.000000</td>\n",
       "      <td>0.000000</td>\n",
       "      <td>0.000000</td>\n",
       "      <td>0.000000</td>\n",
       "      <td>1.000000</td>\n",
       "      <td>0.000000</td>\n",
       "      <td>0.000000</td>\n",
       "      <td>1.000000</td>\n",
       "      <td>0.000000</td>\n",
       "      <td>0.000000</td>\n",
       "      <td>0.000000</td>\n",
       "      <td>0.000000</td>\n",
       "      <td>0.000000</td>\n",
       "      <td>0.000000</td>\n",
       "      <td>0.000000</td>\n",
       "      <td>0.000000</td>\n",
       "      <td>0.000000</td>\n",
       "      <td>0.000000</td>\n",
       "      <td>0.000000</td>\n",
       "      <td>0.000000</td>\n",
       "      <td>1.000000</td>\n",
       "      <td>0.000000</td>\n",
       "      <td>0.000000</td>\n",
       "      <td>1.000000</td>\n",
       "      <td>0.000000</td>\n",
       "      <td>0.000000</td>\n",
       "    </tr>\n",
       "    <tr>\n",
       "      <td>50%</td>\n",
       "      <td>70.000000</td>\n",
       "      <td>0.000000</td>\n",
       "      <td>2.000000</td>\n",
       "      <td>1.000000</td>\n",
       "      <td>0.000000</td>\n",
       "      <td>0.000000</td>\n",
       "      <td>0.000000</td>\n",
       "      <td>0.000000</td>\n",
       "      <td>0.000000</td>\n",
       "      <td>1.000000</td>\n",
       "      <td>0.000000</td>\n",
       "      <td>1.000000</td>\n",
       "      <td>1.000000</td>\n",
       "      <td>1.000000</td>\n",
       "      <td>1.000000</td>\n",
       "      <td>0.000000</td>\n",
       "      <td>0.000000</td>\n",
       "      <td>0.000000</td>\n",
       "      <td>0.000000</td>\n",
       "      <td>0.000000</td>\n",
       "      <td>0.000000</td>\n",
       "      <td>0.000000</td>\n",
       "      <td>0.000000</td>\n",
       "      <td>1.000000</td>\n",
       "      <td>0.000000</td>\n",
       "      <td>1.000000</td>\n",
       "      <td>0.000000</td>\n",
       "      <td>0.000000</td>\n",
       "      <td>1.000000</td>\n",
       "      <td>0.000000</td>\n",
       "      <td>0.000000</td>\n",
       "    </tr>\n",
       "    <tr>\n",
       "      <td>75%</td>\n",
       "      <td>75.000000</td>\n",
       "      <td>1.000000</td>\n",
       "      <td>2.000000</td>\n",
       "      <td>1.000000</td>\n",
       "      <td>0.000000</td>\n",
       "      <td>0.000000</td>\n",
       "      <td>0.000000</td>\n",
       "      <td>0.000000</td>\n",
       "      <td>1.000000</td>\n",
       "      <td>1.000000</td>\n",
       "      <td>1.000000</td>\n",
       "      <td>1.000000</td>\n",
       "      <td>1.000000</td>\n",
       "      <td>1.000000</td>\n",
       "      <td>1.000000</td>\n",
       "      <td>1.000000</td>\n",
       "      <td>0.000000</td>\n",
       "      <td>1.000000</td>\n",
       "      <td>1.000000</td>\n",
       "      <td>1.000000</td>\n",
       "      <td>1.000000</td>\n",
       "      <td>0.000000</td>\n",
       "      <td>1.000000</td>\n",
       "      <td>1.000000</td>\n",
       "      <td>0.000000</td>\n",
       "      <td>1.000000</td>\n",
       "      <td>0.000000</td>\n",
       "      <td>0.000000</td>\n",
       "      <td>1.000000</td>\n",
       "      <td>0.000000</td>\n",
       "      <td>1.000000</td>\n",
       "    </tr>\n",
       "    <tr>\n",
       "      <td>max</td>\n",
       "      <td>92.000000</td>\n",
       "      <td>1.000000</td>\n",
       "      <td>3.000000</td>\n",
       "      <td>1.000000</td>\n",
       "      <td>1.000000</td>\n",
       "      <td>1.000000</td>\n",
       "      <td>1.000000</td>\n",
       "      <td>1.000000</td>\n",
       "      <td>1.000000</td>\n",
       "      <td>1.000000</td>\n",
       "      <td>1.000000</td>\n",
       "      <td>1.000000</td>\n",
       "      <td>1.000000</td>\n",
       "      <td>1.000000</td>\n",
       "      <td>1.000000</td>\n",
       "      <td>1.000000</td>\n",
       "      <td>1.000000</td>\n",
       "      <td>1.000000</td>\n",
       "      <td>1.000000</td>\n",
       "      <td>1.000000</td>\n",
       "      <td>1.000000</td>\n",
       "      <td>1.000000</td>\n",
       "      <td>1.000000</td>\n",
       "      <td>1.000000</td>\n",
       "      <td>1.000000</td>\n",
       "      <td>1.000000</td>\n",
       "      <td>1.000000</td>\n",
       "      <td>1.000000</td>\n",
       "      <td>1.000000</td>\n",
       "      <td>1.000000</td>\n",
       "      <td>1.000000</td>\n",
       "    </tr>\n",
       "  </tbody>\n",
       "</table>\n",
       "</div>"
      ],
      "text/plain": [
       "              Age      Gender      Living        TTC5       TTC6a       TTC6b  \\\n",
       "count  285.000000  285.000000  285.000000  285.000000  285.000000  285.000000   \n",
       "mean    66.536842    0.266667    1.536842    0.698246    0.217544    0.157895   \n",
       "std     12.807192    0.442995    0.520235    0.459827    0.413301    0.365284   \n",
       "min     26.000000    0.000000    1.000000    0.000000    0.000000    0.000000   \n",
       "25%     58.000000    0.000000    1.000000    0.000000    0.000000    0.000000   \n",
       "50%     70.000000    0.000000    2.000000    1.000000    0.000000    0.000000   \n",
       "75%     75.000000    1.000000    2.000000    1.000000    0.000000    0.000000   \n",
       "max     92.000000    1.000000    3.000000    1.000000    1.000000    1.000000   \n",
       "\n",
       "            TTC6c       TTC6d    distress  ImpairedPolypharmacy   cognition  \\\n",
       "count  285.000000  285.000000  285.000000            285.000000  285.000000   \n",
       "mean     0.189474    0.108772    0.340351              0.835088    0.322807   \n",
       "std      0.392574    0.311901    0.474661              0.371754    0.468372   \n",
       "min      0.000000    0.000000    0.000000              0.000000    0.000000   \n",
       "25%      0.000000    0.000000    0.000000              1.000000    0.000000   \n",
       "50%      0.000000    0.000000    0.000000              1.000000    0.000000   \n",
       "75%      0.000000    0.000000    1.000000              1.000000    1.000000   \n",
       "max      1.000000    1.000000    1.000000              1.000000    1.000000   \n",
       "\n",
       "        nutrition  phy_performance    function  ImpairedCom  psychological  \\\n",
       "count  285.000000       285.000000  285.000000   285.000000     285.000000   \n",
       "mean     0.596491         0.943860    0.596491     0.614035       0.259649   \n",
       "std      0.491464         0.230597    0.491464     0.487679       0.439213   \n",
       "min      0.000000         0.000000    0.000000     0.000000       0.000000   \n",
       "25%      0.000000         1.000000    0.000000     0.000000       0.000000   \n",
       "50%      1.000000         1.000000    1.000000     1.000000       0.000000   \n",
       "75%      1.000000         1.000000    1.000000     1.000000       1.000000   \n",
       "max      1.000000         1.000000    1.000000     1.000000       1.000000   \n",
       "\n",
       "       ImpairedMS  calcimpairedCom     Control  incomecat_1.0  incomecat_2.0  \\\n",
       "count  285.000000       285.000000  285.000000     285.000000     285.000000   \n",
       "mean     0.228070         0.382456    0.470175       0.368421       0.452632   \n",
       "std      0.420326         0.486842    0.499988       0.483225       0.498627   \n",
       "min      0.000000         0.000000    0.000000       0.000000       0.000000   \n",
       "25%      0.000000         0.000000    0.000000       0.000000       0.000000   \n",
       "50%      0.000000         0.000000    0.000000       0.000000       0.000000   \n",
       "75%      0.000000         1.000000    1.000000       1.000000       1.000000   \n",
       "max      1.000000         1.000000    1.000000       1.000000       1.000000   \n",
       "\n",
       "       gradecat_1.0  gradecat_2.0  relationship_cat_1.0  relationship_cat_2.0  \\\n",
       "count    285.000000    285.000000            285.000000            285.000000   \n",
       "mean       0.077193      0.284211              0.670175              0.217544   \n",
       "std        0.267367      0.451831              0.470976              0.413301   \n",
       "min        0.000000      0.000000              0.000000              0.000000   \n",
       "25%        0.000000      0.000000              0.000000              0.000000   \n",
       "50%        0.000000      0.000000              1.000000              0.000000   \n",
       "75%        0.000000      1.000000              1.000000              0.000000   \n",
       "max        1.000000      1.000000              1.000000              1.000000   \n",
       "\n",
       "       race_cat_1.0  race_cat_2.0    TTC3_1.0    TTC3_2.0  GI_Lung_1.0  \\\n",
       "count    285.000000    285.000000  285.000000  285.000000   285.000000   \n",
       "mean       0.901754      0.056140    0.073684    0.894737     0.235088   \n",
       "std        0.298170      0.230597    0.261716    0.307432     0.424800   \n",
       "min        0.000000      0.000000    0.000000    0.000000     0.000000   \n",
       "25%        1.000000      0.000000    0.000000    1.000000     0.000000   \n",
       "50%        1.000000      0.000000    0.000000    1.000000     0.000000   \n",
       "75%        1.000000      0.000000    0.000000    1.000000     0.000000   \n",
       "max        1.000000      1.000000    1.000000    1.000000     1.000000   \n",
       "\n",
       "       GI_Lung_2.0  \n",
       "count   285.000000  \n",
       "mean      0.256140  \n",
       "std       0.437268  \n",
       "min       0.000000  \n",
       "25%       0.000000  \n",
       "50%       0.000000  \n",
       "75%       1.000000  \n",
       "max       1.000000  "
      ]
     },
     "execution_count": 60,
     "metadata": {},
     "output_type": "execute_result"
    }
   ],
   "source": [
    "X_train.describe()"
   ]
  },
  {
   "cell_type": "markdown",
   "metadata": {},
   "source": [
    "# Interactive Visualization by LIME, Rownum indicates which test set sample you wanna test on"
   ]
  },
  {
   "cell_type": "code",
   "execution_count": 77,
   "metadata": {},
   "outputs": [
    {
     "data": {
      "application/vnd.jupyter.widget-view+json": {
       "model_id": "bc4cbc7098774547a408f82a5abf892e",
       "version_major": 2,
       "version_minor": 0
      },
      "text/plain": [
       "interactive(children=(Text(value='test instance number', description='rownum'), Button(description='Run Intera…"
      ]
     },
     "metadata": {},
     "output_type": "display_data"
    }
   ],
   "source": [
    "\n",
    "def predictor(rownum):\n",
    "    i=int(rownum)\n",
    "    if(svmgridsearchf1.predict(X_test.iloc[i].values.reshape(1, -1))==1):\n",
    "        print(\"prediction result: depressed | actual result: \"+actualy(i))\n",
    "    else:\n",
    "        print(\"prediction result: healthy| actual result: \"+actualy(i))\n",
    "    explainer = lime.lime_tabular.LimeTabularExplainer(X_train.values, feature_names=l1,class_names=np.array(['healthy','depressed']))\n",
    "    ss=svmgridsearchf1.best_estimator_\n",
    "    \n",
    "\n",
    "    \n",
    "    a=X_test.iloc[i].values\n",
    "    exp = explainer.explain_instance(a, ss.predict_proba, num_features=10, top_labels=0)\n",
    "    exp.show_in_notebook(predict_proba=False,show_table=True, show_all=False)\n",
    "    exp.as_pyplot_figure()\n",
    "    from matplotlib import pyplot as plt\n",
    "    plt.tight_layout()\n",
    "    %matplotlib inline\n",
    "    fig = exp.as_pyplot_figure()\n",
    "    \n",
    "interact_manual(predictor,rownum=widgets.Text(\"test instance number\"));\n",
    "\n",
    "input_example=\"5\""
   ]
  },
  {
   "cell_type": "code",
   "execution_count": null,
   "metadata": {},
   "outputs": [],
   "source": []
  },
  {
   "cell_type": "code",
   "execution_count": null,
   "metadata": {},
   "outputs": [],
   "source": []
  }
 ],
 "metadata": {
  "colab": {
   "name": "Untitled0.ipynb",
   "provenance": []
  },
  "kernelspec": {
   "display_name": "Python 3",
   "language": "python",
   "name": "python3"
  },
  "language_info": {
   "codemirror_mode": {
    "name": "ipython",
    "version": 3
   },
   "file_extension": ".py",
   "mimetype": "text/x-python",
   "name": "python",
   "nbconvert_exporter": "python",
   "pygments_lexer": "ipython3",
   "version": "3.7.4"
  }
 },
 "nbformat": 4,
 "nbformat_minor": 1
}
